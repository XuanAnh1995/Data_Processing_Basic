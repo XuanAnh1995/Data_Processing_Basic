{
 "cells": [
  {
   "cell_type": "code",
   "execution_count": 1,
   "id": "51f08faf-fcff-4901-ac0c-3cf5bb9a02fb",
   "metadata": {},
   "outputs": [
    {
     "name": "stdout",
     "output_type": "stream",
     "text": [
      "Môn 1: Toán\n",
      "Môn 2: Lý\n"
     ]
    }
   ],
   "source": [
    "# Khi không xác định được số đối sô, chúng ta có thể sử dụng dấu *\n",
    "def thoiKhoaBieu(* monHoc):\n",
    "    print(\"Môn 1: \" + monHoc[0])\n",
    "    print(\"Môn 2: \" + monHoc[1])\n",
    "\n",
    "thoiKhoaBieu(\"Toán\", \"Lý\", \"Hóa\", \"Anh Văn\", \"Lịch sử\")"
   ]
  },
  {
   "cell_type": "code",
   "execution_count": 2,
   "id": "7720f445-cf60-44df-93da-dcab1e460fff",
   "metadata": {},
   "outputs": [],
   "source": [
    "def tinhTong(*giaTri):\n",
    "    sum = 0\n",
    "    for x in giaTri:\n",
    "        sum = sum + x\n",
    "    print(sum)"
   ]
  },
  {
   "cell_type": "code",
   "execution_count": 3,
   "id": "b3af8795-be67-4072-9fdf-6bf43cdc7cbe",
   "metadata": {},
   "outputs": [
    {
     "name": "stdout",
     "output_type": "stream",
     "text": [
      "3\n",
      "28\n"
     ]
    }
   ],
   "source": [
    "tinhTong(1, 2)\n",
    "tinhTong(1, 2, 4, 7, 9, 5)"
   ]
  },
  {
   "cell_type": "code",
   "execution_count": 4,
   "id": "f1ab85d1-d5aa-4806-80d6-11856f91660e",
   "metadata": {},
   "outputs": [
    {
     "name": "stdout",
     "output_type": "stream",
     "text": [
      "Xin chào Tung\n",
      "Xin chào Ánh\n"
     ]
    }
   ],
   "source": [
    "# Truyền nhiều đối số, xác định thông qua tên , sử dụng **\n",
    "def xinChao(**ten):\n",
    "    print(\"Xin chào \" + ten[\"ten\"])\n",
    "\n",
    "xinChao(ten = \"Tung\", chuLot = \"Nhat\", ho = \"Lê\")\n",
    "xinChao(ten = \"Ánh\", ho = \"Lưu\", chuLot = \"Việt Xuân\")"
   ]
  },
  {
   "cell_type": "code",
   "execution_count": 5,
   "id": "ec72b882-4dd1-4761-9292-9caaf5aace9d",
   "metadata": {},
   "outputs": [],
   "source": [
    "# Sử dụng từ khóa return trả về giá trị\n",
    "def tinhTich(*giaTri):\n",
    "    tich = 1\n",
    "    for x in giaTri:\n",
    "        tich = tich * x\n",
    "    return tich"
   ]
  },
  {
   "cell_type": "code",
   "execution_count": 6,
   "id": "390ffec8-49b1-4647-9e7a-8c853556366d",
   "metadata": {},
   "outputs": [],
   "source": [
    "tich1 = tinhTich(1, 2,  3)\n",
    "tich2 = tinhTich(2, 19, 1)"
   ]
  },
  {
   "cell_type": "code",
   "execution_count": 7,
   "id": "9674320c-f989-4048-9eb5-74809abd7fa3",
   "metadata": {},
   "outputs": [
    {
     "name": "stdout",
     "output_type": "stream",
     "text": [
      "44\n"
     ]
    }
   ],
   "source": [
    "tong  = tich1 + tich2\n",
    "print(tong)"
   ]
  },
  {
   "cell_type": "markdown",
   "id": "a0513d42-0366-4e1d-b3c3-29d2c1907a39",
   "metadata": {},
   "source": [
    "Bài tập 1: Tìm UCLN của 2 số tự nhiên a, b\n",
    "Xây dựng hàm: gcb(a,b) >= trả về USCLN\n",
    "Ví du:  1, 13 => gcb(1, 13) = 1\n",
    "        35, 77 => gcb(35, 77) = ?\n",
    "Thuật toán đơn:\n",
    "35, 42\n",
    "35, 7\n",
    "28, 7\n",
    "21, 7\n",
    "14, 7\n",
    "7, 7"
   ]
  },
  {
   "cell_type": "code",
   "execution_count": 8,
   "id": "e7725b09-53ad-4e6e-bd87-8bae81b662e3",
   "metadata": {},
   "outputs": [],
   "source": [
    "def gcb(a, b):\n",
    "    while (a != b):\n",
    "        if(a > b):\n",
    "            a = a - b\n",
    "        else :\n",
    "            b = b - a\n",
    "    return a"
   ]
  },
  {
   "cell_type": "code",
   "execution_count": 9,
   "id": "61d71d70-a4b3-4cb1-ab97-b9d2b95a0d2a",
   "metadata": {},
   "outputs": [
    {
     "data": {
      "text/plain": [
       "5"
      ]
     },
     "execution_count": 9,
     "metadata": {},
     "output_type": "execute_result"
    }
   ],
   "source": [
    "gcb(55, 100)"
   ]
  },
  {
   "cell_type": "code",
   "execution_count": 10,
   "id": "5e531b0d-bf3e-4de8-862e-705405366ace",
   "metadata": {},
   "outputs": [
    {
     "data": {
      "text/plain": [
       "10"
      ]
     },
     "execution_count": 10,
     "metadata": {},
     "output_type": "execute_result"
    }
   ],
   "source": [
    "gcb(10, 100)"
   ]
  },
  {
   "cell_type": "markdown",
   "id": "ed890c59-04c7-4f02-a094-7ccd97f90591",
   "metadata": {},
   "source": [
    "Bài tập 2:\n",
    "Nhập vào 1 dãy n số từ bàn phím, sau đó tính tổng\n",
    "Yêu cầu:\n",
    "Xây dựng các hàm\n",
    "    nhap(n, list_number)\n",
    "    tinhTong(list_number)"
   ]
  },
  {
   "cell_type": "code",
   "execution_count": 11,
   "id": "7c5961b4-1368-4bf4-a808-99cdad72aaa3",
   "metadata": {},
   "outputs": [
    {
     "name": "stdin",
     "output_type": "stream",
     "text": [
      "Nhập số lượng phần tử của list_numbers:  1\n",
      "Nhập phần tử thứ 0 : 1\n"
     ]
    },
    {
     "data": {
      "text/plain": [
       "1"
      ]
     },
     "execution_count": 11,
     "metadata": {},
     "output_type": "execute_result"
    }
   ],
   "source": [
    "# Khai báo\n",
    "list_number = []\n",
    "n = 1\n",
    "while(True):\n",
    "    try:\n",
    "        n = int(input(\"Nhập số lượng phần tử của list_numbers: \"))\n",
    "        if n >= 1:\n",
    "            break\n",
    "        else:\n",
    "            print(\"⚠️ Vui lòng nhập số nguyên dương (n >= 1)\")\n",
    "    except ValueError:\n",
    "        print(\"⚠️ Vui lòng nhập số nguyên hợp lệ!\")\n",
    "    \n",
    "# Hàm nhập\n",
    "def nhap(n, list_number):\n",
    "    for i in range(n):\n",
    "        x = int(input(\"Nhập phần tử thứ \" + str(i) + \" :\" ))\n",
    "        list_number.append(x)\n",
    "\n",
    "# Hàm tính tổng\n",
    "def tinhTong(list_number):\n",
    "    tong = 0\n",
    "    for x in list_number:\n",
    "        tong = tong + x\n",
    "    return tong\n",
    "\n",
    "nhap(n, list_number)\n",
    "tinhTong(list_number)"
   ]
  },
  {
   "cell_type": "markdown",
   "id": "ebbb7ad0-4c21-4fb1-be7c-f167962af88c",
   "metadata": {},
   "source": [
    "Bài tập 3: Nhập vào 1 dãy số nguyên, xây dựng hàm cho biết số lượng, số chẵn trong list"
   ]
  },
  {
   "cell_type": "code",
   "execution_count": 12,
   "id": "931c4361-0efa-4681-8e47-c4fc721efb60",
   "metadata": {},
   "outputs": [
    {
     "name": "stdin",
     "output_type": "stream",
     "text": [
      "Nhập số lượng phần tử của list_numbers:  1\n",
      "Nhập phần tử thứ 0 :  1\n"
     ]
    },
    {
     "name": "stdout",
     "output_type": "stream",
     "text": [
      "Số lượng số chẵn : 0\n",
      "Số lượng số lẻ: 1\n"
     ]
    }
   ],
   "source": [
    "# Khai báo\n",
    "list_numbers = []\n",
    "while(True):\n",
    "    try:\n",
    "        n = int(input(\"Nhập số lượng phần tử của list_numbers: \"))\n",
    "        if n >= 1:\n",
    "            break\n",
    "        else:\n",
    "            print(\"⚠️ Vui lòng nhập số nguyên dương (n >= 1)\")\n",
    "    except ValueError:\n",
    "        print(\"⚠️ Vui lòng nhập số nguyên hợp lệ!\")\n",
    "\n",
    "# Hàm nhập\n",
    "def nhap(n, list_numbers):\n",
    "    for i in range(n):\n",
    "        x = int(input(\"Nhập phần tử thứ \" + str(i) + \" : \"))\n",
    "        list_numbers.append(x)\n",
    "\n",
    "# Hàm đếm số chẵn, số lẻ\n",
    "def countChanLe(list_numbers):\n",
    "    count = 0\n",
    "    for x in list_numbers:\n",
    "        if(x % 2 == 0):\n",
    "            count = count + 1\n",
    "    print(\"Số lượng số chẵn : \" + str(count))\n",
    "    print(\"Số lượng số lẻ: \" + str(n - count))\n",
    "\n",
    "nhap(n, list_numbers)\n",
    "countChanLe(list_numbers)"
   ]
  },
  {
   "cell_type": "markdown",
   "id": "0c042e29-e796-424d-a3ba-ff51a213cd98",
   "metadata": {},
   "source": [
    "Bài tập 4: Nhập vào 1 dãy số nguyên, xây dựng hàm sắp xếp dãy số và trả về list mới"
   ]
  },
  {
   "cell_type": "code",
   "execution_count": 13,
   "id": "e2d9efb3-53f3-45d2-b601-a39392f90108",
   "metadata": {},
   "outputs": [
    {
     "name": "stdin",
     "output_type": "stream",
     "text": [
      "Nhập số lượng phần tử của list_numbers:  5\n",
      "Nhập phần tử thứ 0 :  4\n",
      "Nhập phần tử thứ 1 :  8\n",
      "Nhập phần tử thứ 2 :  6\n",
      "Nhập phần tử thứ 3 :  5\n",
      "Nhập phần tử thứ 4 :  1\n"
     ]
    },
    {
     "data": {
      "text/plain": [
       "[8, 6, 5, 4, 1]"
      ]
     },
     "execution_count": 13,
     "metadata": {},
     "output_type": "execute_result"
    }
   ],
   "source": [
    "# Khai báo\n",
    "list_numbers = []\n",
    "while(True):\n",
    "    try:\n",
    "        n = int(input(\"Nhập số lượng phần tử của list_numbers: \"))\n",
    "        if n >= 1:\n",
    "            break\n",
    "        else:\n",
    "            print(\"⚠️ Vui lòng nhập số nguyên dương (n >= 1)\")\n",
    "    except ValueError:\n",
    "        print(\"⚠️ Vui lòng nhập số nguyên hợp lệ!\")\n",
    "\n",
    "# Hàm nhập\n",
    "def nhap(n, list_numbers):\n",
    "    for i in range(n):\n",
    "        x = int(input(\"Nhập phần tử thứ \" + str(i) + \" : \"))\n",
    "        list_numbers.append(x)\n",
    "\n",
    "# Hàm sắp xếp \n",
    "def sapXep(list_numbers):\n",
    "    list_numbers.sort(reverse = True)\n",
    "    return list_numbers\n",
    "\n",
    "nhap(n, list_numbers)\n",
    "sapXep(list_numbers)"
   ]
  },
  {
   "cell_type": "code",
   "execution_count": null,
   "id": "5f4566a8-96e0-40e5-bd16-ccbe193dd30a",
   "metadata": {},
   "outputs": [],
   "source": []
  }
 ],
 "metadata": {
  "kernelspec": {
   "display_name": "Python 3 (ipykernel)",
   "language": "python",
   "name": "python3"
  },
  "language_info": {
   "codemirror_mode": {
    "name": "ipython",
    "version": 3
   },
   "file_extension": ".py",
   "mimetype": "text/x-python",
   "name": "python",
   "nbconvert_exporter": "python",
   "pygments_lexer": "ipython3",
   "version": "3.12.7"
  }
 },
 "nbformat": 4,
 "nbformat_minor": 5
}
