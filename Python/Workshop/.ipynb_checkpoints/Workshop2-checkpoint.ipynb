{
 "cells": [
  {
   "cell_type": "raw",
   "id": "6de998f3-0a09-48cc-9467-eae219ad3f6e",
   "metadata": {},
   "source": [
    "Bài tập : Xây dựng một từ điển có những chức năng sau:\n",
    "1. Thêm 1 từ vựng mới (kèm nghĩa của từ) vào từ điển\n",
    "2. Tra cứu ý nghĩa của 1 từ vựng\n",
    "3. Cập nhật ý nghĩa cho 1 từ vựng\n",
    "4. Cho phép người dùng xóa đi 1 từ vựng có trong từ điển\n",
    "5. Cho phép người dùng xóa toàn bộ từ vựng\n",
    "6. Cho phép người dùng in ra toàn bộ từ điển\n",
    "7. Cho phép người dùng in ra toàn bộ từ điển : từ vựng - ý nghĩa từ điển đó \n",
    "8. Kết thúc chương trình"
   ]
  },
  {
   "cell_type": "code",
   "execution_count": 1,
   "id": "8bd32850-7203-483a-9a95-6a410e5d4190",
   "metadata": {},
   "outputs": [],
   "source": [
    "Dictionary = {}"
   ]
  },
  {
   "cell_type": "code",
   "execution_count": 2,
   "id": "ca417528-18f7-4f6c-98a6-bad494c0b0f8",
   "metadata": {},
   "outputs": [
    {
     "name": "stdout",
     "output_type": "stream",
     "text": [
      "{}\n"
     ]
    }
   ],
   "source": [
    "print(Dictionary)"
   ]
  },
  {
   "cell_type": "code",
   "execution_count": null,
   "id": "417e22e5-3695-4878-b958-f91d587c26e8",
   "metadata": {},
   "outputs": [
    {
     "name": "stdout",
     "output_type": "stream",
     "text": [
      "--------------------MENU-------------------\n",
      "1. Thêm 1 từ vựng mới (kèm nghĩa của từ) vào từ điển\n",
      "2. Tra cứu ý nghĩa của 1 từ vựng\n",
      "3. Cập nhật ý nghĩa cho 1 từ vựng\n",
      "4. Cho phép người dùng xóa đi 1 từ vựng có trong từ điển\n",
      "5. Cho phép người dùng xóa toàn bộ từ vựng\n",
      "6. Cho phép người dùng in ra toàn bộ từ vựng của từ điển\n",
      "7. Cho phép người dùng in ra toàn bộ từ điển : từ vựng - ý nghĩa từ điển đó\n",
      "8. Kết thúc chương trình\n",
      "\n",
      "Từ điển hiện tại: {}\n"
     ]
    },
    {
     "name": "stdin",
     "output_type": "stream",
     "text": [
      "Hãy nhập lựa chọn của bạn:  Hai\n"
     ]
    },
    {
     "name": "stdout",
     "output_type": "stream",
     "text": [
      "Vui lòng nhập số hợp lệ!\n",
      "\n",
      "Từ điển hiện tại: {}\n"
     ]
    }
   ],
   "source": [
    "print(\"--------------------MENU-------------------\")\n",
    "print(\"1. Thêm 1 từ vựng mới (kèm nghĩa của từ) vào từ điển\")\n",
    "print(\"2. Tra cứu ý nghĩa của 1 từ vựng\")\n",
    "print(\"3. Cập nhật ý nghĩa cho 1 từ vựng\")\n",
    "print(\"4. Cho phép người dùng xóa đi 1 từ vựng có trong từ điển\")\n",
    "print(\"5. Cho phép người dùng xóa toàn bộ từ vựng\")\n",
    "print(\"6. Cho phép người dùng in ra toàn bộ từ vựng của từ điển\")\n",
    "print(\"7. Cho phép người dùng in ra toàn bộ từ điển : từ vựng - ý nghĩa từ điển đó\")\n",
    "print(\"8. Kết thúc chương trình\")\n",
    "while(True):\n",
    "    print(\"\\nTừ điển hiện tại:\", Dictionary)\n",
    "    try:\n",
    "        luaChon = int(input(\"Hãy nhập lựa chọn của bạn: \"))\n",
    "    except ValueError:\n",
    "        print(\"Vui lòng nhập số hợp lệ!\")\n",
    "        continue\n",
    "\n",
    "    if(luaChon == 1):\n",
    "        tuVung = input(\"Nhập vào từ vựng: \")\n",
    "        yNghia = input(\"Nhập vào ý nghĩa: \")\n",
    "        Dictionary.update({\n",
    "            tuVung : yNghia\n",
    "        })\n",
    "        \n",
    "    elif (luaChon == 2):\n",
    "        tuVung = input(\"Nhập vào từ vựng cần tra: \")\n",
    "        yNghia = Dictionary.get(tuVung)\n",
    "        if meaning:\n",
    "            print(f\"Ý nghĩa của từ '{tuVung}': {meaning}\")\n",
    "        else:\n",
    "            print(f\"Từ '{tuVung}' không có trong từ điển.\")\n",
    "\n",
    "    elif (luaChon == 3):\n",
    "        tuVung = input(\"Cập nhật ý nghĩa cho từ vựng : \")\n",
    "        if tuVung in Dictionary:\n",
    "            yNghia = input(\"Nhập ý nghĩa mới của từ: \")\n",
    "            Dictionary[tuVung] = yNghia\n",
    "            print(f\"Đã cập nhật: {tuVung} - {yNghia}\")\n",
    "        else:\n",
    "            print(f\"Từ '{tuVung}' không tồn tại.\")\n",
    "\n",
    "    elif (luaChon == 4):\n",
    "        tuVung = input(\"Từ vựng người dùng muốn xóa: \")\n",
    "        if tuVung in Dictionary:\n",
    "            Dictionary.pop(tuVung)\n",
    "            print(f\"Đã xóa từ '{tuVung}'.\")\n",
    "        else:\n",
    "            print(f\"Từ '{tuVung}' không có trong từ điển.\")\n",
    "\n",
    "    elif (luaChon == 5):\n",
    "        Dictionary.clear()\n",
    "        print(\"Đã xóa toàn bộ từ điển.\")\n",
    "\n",
    "    elif (luaChon == 6): \n",
    "        if Dictionary:\n",
    "            print(\"Danh sách tất cả từ vựng:\", ', '.join(Dictionary.keys()))\n",
    "        else:\n",
    "            print(\"Từ điển trống.\")\n",
    "\n",
    "    elif (luaChon == 7):\n",
    "        if Dictionary:\n",
    "            for tu, nghia in Dictionary.items():\n",
    "                print(f\"{tu}: {nghia}\")\n",
    "        else:\n",
    "            print(\"Từ điển trống.\")\n",
    "\n",
    "    elif luaChon == 8:\n",
    "        print(\"Kết thúc chương trình.\")\n",
    "        break\n",
    "\n",
    "    else:\n",
    "        print(\"Lựa chọn không hợp lệ, vui lòng nhập lại.\")"
   ]
  },
  {
   "cell_type": "code",
   "execution_count": null,
   "id": "a2e3b6b6-ee75-4afd-b973-9e36a35525f7",
   "metadata": {},
   "outputs": [],
   "source": []
  }
 ],
 "metadata": {
  "kernelspec": {
   "display_name": "Python 3 (ipykernel)",
   "language": "python",
   "name": "python3"
  },
  "language_info": {
   "codemirror_mode": {
    "name": "ipython",
    "version": 3
   },
   "file_extension": ".py",
   "mimetype": "text/x-python",
   "name": "python",
   "nbconvert_exporter": "python",
   "pygments_lexer": "ipython3",
   "version": "3.12.7"
  }
 },
 "nbformat": 4,
 "nbformat_minor": 5
}
