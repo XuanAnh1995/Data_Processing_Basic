{
 "cells": [
  {
   "cell_type": "code",
   "execution_count": 1,
   "id": "8d92623b-7ed2-4ea8-9ca2-af1163ffeef1",
   "metadata": {},
   "outputs": [],
   "source": [
    "# open()"
   ]
  },
  {
   "cell_type": "code",
   "execution_count": 2,
   "id": "414a9016-6626-402a-a1de-3acc41bc2d8d",
   "metadata": {},
   "outputs": [
    {
     "name": "stdout",
     "output_type": "stream",
     "text": [
      "[Errno 17] File exists: 'vidu1.txt'\n"
     ]
    },
    {
     "ename": "NameError",
     "evalue": "name 'f' is not defined",
     "output_type": "error",
     "traceback": [
      "\u001b[1;31m---------------------------------------------------------------------------\u001b[0m",
      "\u001b[1;31mNameError\u001b[0m                                 Traceback (most recent call last)",
      "Cell \u001b[1;32mIn[2], line 7\u001b[0m\n\u001b[0;32m      5\u001b[0m     \u001b[38;5;28mprint\u001b[39m(e)\n\u001b[0;32m      6\u001b[0m \u001b[38;5;28;01mfinally\u001b[39;00m:\n\u001b[1;32m----> 7\u001b[0m     f\u001b[38;5;241m.\u001b[39mclose()\n",
      "\u001b[1;31mNameError\u001b[0m: name 'f' is not defined"
     ]
    }
   ],
   "source": [
    "# \"x\" - tạo file\n",
    "try:\n",
    "    f = open(\"vidu1.txt\", mode= \"x\", encoding=\"utf-8\")\n",
    "except Exception as e:\n",
    "    print(e)\n",
    "finally:\n",
    "    f.close()"
   ]
  },
  {
   "cell_type": "code",
   "execution_count": 3,
   "id": "f5ef73ae-ee00-4a0f-91d8-ae2588175219",
   "metadata": {
    "scrolled": true
   },
   "outputs": [],
   "source": [
    "# \"w\" - ghi dữ liệu file (ghi đè)\n",
    "try:\n",
    "    with open(\"vidu1.txt\", mode= \"w\", encoding=\"utf-8\") as f:\n",
    "        f.write(\"Xin chào các bạn. \\n\")\n",
    "        f.close()\n",
    "except Exception as e:\n",
    "    print(e)"
   ]
  },
  {
   "cell_type": "code",
   "execution_count": 4,
   "id": "a09aff4f-a087-4001-98e5-89295f4ac885",
   "metadata": {},
   "outputs": [],
   "source": [
    "# \"a\" - nối vào file\n",
    "try:\n",
    "    with open(\"vidu1.txt\", mode= \"a\", encoding=\"utf-8\") as f:\n",
    "        f.write(\"Xin chào các bạn. \\n\")\n",
    "        f.close()\n",
    "except Exception as e:\n",
    "    print(e)"
   ]
  },
  {
   "cell_type": "code",
   "execution_count": 5,
   "id": "9f73f3ba-c208-4b5e-a7af-65d018dd59f7",
   "metadata": {},
   "outputs": [
    {
     "name": "stdout",
     "output_type": "stream",
     "text": [
      "Xin chào các bạn. \n",
      "Xin chào các bạn. \n",
      "\n"
     ]
    }
   ],
   "source": [
    "# \"r\" - đọc file\n",
    "try:\n",
    "    with open(\"vidu1.txt\", mode= \"r\", encoding=\"utf-8\") as f:\n",
    "        noidung = f.read()\n",
    "        print(noidung)\n",
    "except Exception as e:\n",
    "    print(e)"
   ]
  },
  {
   "cell_type": "code",
   "execution_count": 6,
   "id": "529d49f8-134d-4eec-9529-e7f6aae5741d",
   "metadata": {},
   "outputs": [
    {
     "name": "stdout",
     "output_type": "stream",
     "text": [
      "1 : Xin chào các bạn. \n",
      "\n",
      "2 : Xin chào các bạn. \n",
      "\n"
     ]
    }
   ],
   "source": [
    "# \"r\" - đọc file\n",
    "try:\n",
    "    with open(\"vidu1.txt\", mode= \"r\", encoding=\"utf-8\") as f:\n",
    "        list_noidung = f.readlines()\n",
    "        i = 1\n",
    "        for noidung in list_noidung:\n",
    "            print(str(i) + \" : \" + noidung)\n",
    "            i = i + 1\n",
    "except Exception as e:\n",
    "    print(e)"
   ]
  },
  {
   "cell_type": "code",
   "execution_count": null,
   "id": "5cafaaaa-115f-401c-899b-6682e7c26ca4",
   "metadata": {},
   "outputs": [],
   "source": [
    "# file có 2 dạng\n",
    "# \"t\": text \n",
    "# \"b\": binary"
   ]
  }
 ],
 "metadata": {
  "kernelspec": {
   "display_name": "Python 3 (ipykernel)",
   "language": "python",
   "name": "python3"
  },
  "language_info": {
   "codemirror_mode": {
    "name": "ipython",
    "version": 3
   },
   "file_extension": ".py",
   "mimetype": "text/x-python",
   "name": "python",
   "nbconvert_exporter": "python",
   "pygments_lexer": "ipython3",
   "version": "3.12.7"
  }
 },
 "nbformat": 4,
 "nbformat_minor": 5
}
