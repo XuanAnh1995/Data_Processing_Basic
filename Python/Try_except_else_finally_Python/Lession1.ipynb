{
 "cells": [
  {
   "cell_type": "raw",
   "id": "1a961e01-0844-4bc2-b6c1-fe4607687196",
   "metadata": {},
   "source": [
    "try :\n",
    "    # Đoạn code dự đoán lỗi\n",
    "except :\n",
    "    # Hành động khi lỗi xảy ra\n",
    "else :\n",
    "    # Thực thi đoạn này nếu như mã không có lỗi\n",
    "finally :\n",
    "    # Cho phép bạn thực thi mã, bất kể kết quả của các khối try có bị lỗi hay không"
   ]
  },
  {
   "cell_type": "code",
   "execution_count": 2,
   "id": "4e06a5ac-aea1-4db7-8df7-9848630ea0a2",
   "metadata": {},
   "outputs": [
    {
     "name": "stdin",
     "output_type": "stream",
     "text": [
      "Nhập vào số nguyên a:  9.5\n"
     ]
    },
    {
     "ename": "ValueError",
     "evalue": "invalid literal for int() with base 10: '9.5'",
     "output_type": "error",
     "traceback": [
      "\u001b[1;31m---------------------------------------------------------------------------\u001b[0m",
      "\u001b[1;31mValueError\u001b[0m                                Traceback (most recent call last)",
      "Cell \u001b[1;32mIn[2], line 1\u001b[0m\n\u001b[1;32m----> 1\u001b[0m a \u001b[38;5;241m=\u001b[39m \u001b[38;5;28mint\u001b[39m(\u001b[38;5;28minput\u001b[39m(\u001b[38;5;124m\"\u001b[39m\u001b[38;5;124mNhập vào số nguyên a: \u001b[39m\u001b[38;5;124m\"\u001b[39m))\n",
      "\u001b[1;31mValueError\u001b[0m: invalid literal for int() with base 10: '9.5'"
     ]
    }
   ],
   "source": [
    "a = int(input(\"Nhập vào số nguyên a: \"))"
   ]
  },
  {
   "cell_type": "code",
   "execution_count": 6,
   "id": "448bee3b-5737-4781-b328-c72ea1a6aed0",
   "metadata": {},
   "outputs": [
    {
     "name": "stdin",
     "output_type": "stream",
     "text": [
      "Nhập vào số nguyên a:  1\n"
     ]
    },
    {
     "name": "stdout",
     "output_type": "stream",
     "text": [
      "1 + 5 = 6\n"
     ]
    }
   ],
   "source": [
    "try :\n",
    "    # Đoạn code dự đoán lỗi\n",
    "    a = int(input(\"Nhập vào số nguyên a: \"))\n",
    "    print(str(a) + \" + 5 = \" + str(a + 5))\n",
    "except :\n",
    "    # Hành động khi lỗi xảy ra\n",
    "    print(\"Nhập dữ liệu không chính xấc\")"
   ]
  },
  {
   "cell_type": "code",
   "execution_count": 8,
   "id": "73597c04-e6ae-491a-b573-f001e036fc9b",
   "metadata": {},
   "outputs": [
    {
     "name": "stdin",
     "output_type": "stream",
     "text": [
      "Nhập vào số nguyên a:  5.5\n"
     ]
    },
    {
     "name": "stdout",
     "output_type": "stream",
     "text": [
      "invalid literal for int() with base 10: '5.5'\n",
      "Kết thúc chương trình !\n"
     ]
    }
   ],
   "source": [
    "try :\n",
    "    # Đoạn code dự đoán lỗi\n",
    "    a = int(input(\"Nhập vào số nguyên a: \"))\n",
    "    print(str(a) + \" + 5 = \" + str(a + 5))\n",
    "except Exception as e:\n",
    "    # Hành động khi lỗi xảy ra\n",
    "    print(e)\n",
    "else:\n",
    "    print(\"Không có lỗi xảy ra!\")\n",
    "finally:\n",
    "    print(\"Kết thúc chương trình !\")"
   ]
  },
  {
   "cell_type": "code",
   "execution_count": null,
   "id": "687fc1fb-f17f-4621-98b9-9748abd1151f",
   "metadata": {},
   "outputs": [],
   "source": []
  }
 ],
 "metadata": {
  "kernelspec": {
   "display_name": "Python 3 (ipykernel)",
   "language": "python",
   "name": "python3"
  },
  "language_info": {
   "codemirror_mode": {
    "name": "ipython",
    "version": 3
   },
   "file_extension": ".py",
   "mimetype": "text/x-python",
   "name": "python",
   "nbconvert_exporter": "python",
   "pygments_lexer": "ipython3",
   "version": "3.12.7"
  }
 },
 "nbformat": 4,
 "nbformat_minor": 5
}
