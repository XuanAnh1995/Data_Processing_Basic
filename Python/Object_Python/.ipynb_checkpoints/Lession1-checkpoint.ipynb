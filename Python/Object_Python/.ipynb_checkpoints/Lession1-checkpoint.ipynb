{
 "cells": [
  {
   "cell_type": "raw",
   "id": "4f9cb911-b89f-4a81-a2a4-07426090a98d",
   "metadata": {},
   "source": [
    "Ví dụ về 1 lớp đơn giản, giúp bạn hiểu sự khác biệt giữa thuộc tính lớp và thuộc tính phần tử\n",
    "(trường hợp đơn lẻ của lớp)"
   ]
  },
  {
   "cell_type": "code",
   "execution_count": 1,
   "id": "b82fd52d-7edf-4af7-bf0c-fd758dc91c00",
   "metadata": {},
   "outputs": [],
   "source": [
    "class SimpleClass:\n",
    "    # Class attribute\n",
    "    i = 3\n",
    "    def __init__(self):\n",
    "        # Attribute of an intance of class\n",
    "        self.j = 7\n",
    "    def printMe(self):\n",
    "        print(self.j)"
   ]
  },
  {
   "cell_type": "code",
   "execution_count": 2,
   "id": "cfb1a49e-c5d9-4c20-a021-36dcb8f85704",
   "metadata": {},
   "outputs": [
    {
     "name": "stdout",
     "output_type": "stream",
     "text": [
      "3 3\n"
     ]
    }
   ],
   "source": [
    "# below we create two object of class SimpleClass\n",
    "a = SimpleClass()\n",
    "b = SimpleClass()\n",
    "print(a.i, b.i)"
   ]
  },
  {
   "cell_type": "code",
   "execution_count": 3,
   "id": "d185275e-8382-4862-b7d2-05f30b8892b7",
   "metadata": {},
   "outputs": [],
   "source": [
    "class SimpleClass1:\n",
    "    # Attribute\n",
    "    i = 5\n",
    "\n",
    "    # _init_\n",
    "    def __init__(self):\n",
    "        self.j = 7\n",
    "\n",
    "    # methods:\n",
    "    def printMe(self):\n",
    "        print(self.j)"
   ]
  },
  {
   "cell_type": "code",
   "execution_count": 4,
   "id": "764a4fc6-e648-4739-a336-1953979a44af",
   "metadata": {},
   "outputs": [
    {
     "name": "stdout",
     "output_type": "stream",
     "text": [
      "7\n",
      "5\n"
     ]
    }
   ],
   "source": [
    "objectA = SimpleClass1()\n",
    "objectB = SimpleClass1()\n",
    "\n",
    "objectA.printMe()\n",
    "print(objectB.i)"
   ]
  },
  {
   "cell_type": "code",
   "execution_count": 5,
   "id": "c11f3da8-c6b0-4ff4-9a4c-289a7300c787",
   "metadata": {},
   "outputs": [
    {
     "name": "stdout",
     "output_type": "stream",
     "text": [
      "100\n",
      "500\n"
     ]
    }
   ],
   "source": [
    "# Thay đổi giá trị thuộc tính\n",
    "objectA.i = 100\n",
    "objectB.j = 500\n",
    "print(objectA.i)\n",
    "objectB.printMe()"
   ]
  },
  {
   "cell_type": "code",
   "execution_count": 6,
   "id": "01b61331-25f9-4e4d-ba61-4dc104c0fcda",
   "metadata": {},
   "outputs": [],
   "source": [
    "# Static Method\n",
    "class NewClass:\n",
    "    def __init__(self):\n",
    "         # Instance attribute\n",
    "        self.name = \"Tom\"\n",
    "\n",
    "    #Static function\n",
    "    @staticmethod\n",
    "    def hiStatic(name):\n",
    "        # Instance attribute\n",
    "        print(\"Hi\", name)\n",
    "\n",
    "    def hi2(self):\n",
    "        print(\"Hi\")\n",
    "\n",
    "    def personalized_hi(self):\n",
    "        print(\"Hi\", self.name)\n",
    "        "
   ]
  },
  {
   "cell_type": "raw",
   "id": "96c291c9-8648-4c34-a71d-9a573676870a",
   "metadata": {},
   "source": [
    "# Thử truy cập phương thức không phải Static\n",
    "SimpleClass.printMe()"
   ]
  },
  {
   "cell_type": "code",
   "execution_count": 11,
   "id": "0b4147f7-ff7b-498b-bcb2-905d146d31e3",
   "metadata": {},
   "outputs": [
    {
     "name": "stdout",
     "output_type": "stream",
     "text": [
      "Hi\n",
      "Hi Tom\n",
      "Hi Xuan Anh\n"
     ]
    }
   ],
   "source": [
    "objectC = NewClass()\n",
    "objectD = NewClass()\n",
    "\n",
    "objectC.hi2()\n",
    "objectC.personalized_hi()\n",
    "NewClass.hiStatic(\"Xuan Anh\")"
   ]
  },
  {
   "cell_type": "raw",
   "id": "ea6df469-4d12-46ce-9ea8-3219ea659152",
   "metadata": {},
   "source": [
    "Bài tập: Xây dựng Class thuộc tính: ngày, tháng, năm\n",
    "Xây dựng phương thức:\n",
    "    + Cho biết đó là ngày thứ bao nhiêu trong năm\n",
    "    + Staticmethod: cho biết tháng đó có bao nhiêu ngày"
   ]
  },
  {
   "cell_type": "code",
   "execution_count": null,
   "id": "c0761ad2-6392-4c11-a8f1-068b73c3f917",
   "metadata": {},
   "outputs": [],
   "source": [
    "class Ngay:\n",
    "    # Contructor\n",
    "    def __init__(self, giatri_ngay, giatri_thang , giatri_nam):\n",
    "        self.ngay = giatri_ngay\n",
    "        self.thang = giatri_thang\n",
    "        self.nam = giatri_nam\n",
    "\n",
    "    # Xác định số ngày của tháng\n",
    "    @staticmethod\n",
    "    def soNgayCuaThang(thang, nam):\n",
    "        if(thang in [1, 3, 5, 7, 8, 10, 12]):\n",
    "            return 31\n",
    "        elif (thang in [4, 6, 9, 11]):\n",
    "            return 30\n",
    "        elif (nam % 4 == 0):\n",
    "            return 29\n",
    "        else :\n",
    "            return 28\n",
    "    \n",
    "    def ngayTrongNam():\n",
    "        \n",
    "        "
   ]
  },
  {
   "cell_type": "code",
   "execution_count": null,
   "id": "9903235a-d084-4530-bd82-ae9da1f23967",
   "metadata": {},
   "outputs": [],
   "source": []
  },
  {
   "cell_type": "code",
   "execution_count": null,
   "id": "fe27ee90-00c5-4e02-abfd-74b0275efee8",
   "metadata": {},
   "outputs": [],
   "source": []
  },
  {
   "cell_type": "code",
   "execution_count": null,
   "id": "8fc541d6-b403-46cd-9a47-b87955663dee",
   "metadata": {},
   "outputs": [],
   "source": []
  }
 ],
 "metadata": {
  "kernelspec": {
   "display_name": "Python 3 (ipykernel)",
   "language": "python",
   "name": "python3"
  },
  "language_info": {
   "codemirror_mode": {
    "name": "ipython",
    "version": 3
   },
   "file_extension": ".py",
   "mimetype": "text/x-python",
   "name": "python",
   "nbconvert_exporter": "python",
   "pygments_lexer": "ipython3",
   "version": "3.12.7"
  }
 },
 "nbformat": 4,
 "nbformat_minor": 5
}
