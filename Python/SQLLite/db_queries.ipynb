{
 "cells": [
  {
   "cell_type": "code",
   "execution_count": 3,
   "id": "edf30ccb-44aa-4a9f-b420-4f544f91de96",
   "metadata": {},
   "outputs": [
    {
     "name": "stdout",
     "output_type": "stream",
     "text": [
      "✅ Kết nối SQL Server thành công!\n"
     ]
    }
   ],
   "source": [
    "import import_ipynb\n",
    "from db_connection import get_connection\n",
    "\n",
    "def fetch_all_employees():\n",
    "    \"\"\"Lấy toàn bộ dữ liệu từ bảng employee\"\"\"\n",
    "    conn = get_connection()\n",
    "    if conn is None:\n",
    "        return None\n",
    "\n",
    "    try:\n",
    "        cursor = conn.cursor()\n",
    "        cursor.execute(\"SELECT * FROM employee\")  \n",
    "        rows = cursor.fetchall()\n",
    "        cursor.close()  # Đóng con trỏ trước khi return\n",
    "        return rows\n",
    "\n",
    "    except Exception as e:\n",
    "        print(f\"❌ Lỗi truy vấn: {e}\")\n",
    "        return None\n",
    "\n",
    "    finally:\n",
    "        if conn:\n",
    "            conn.close()  # Đóng kết nối khi xong"
   ]
  },
  {
   "cell_type": "code",
   "execution_count": 4,
   "id": "1a89a58f-942a-43b7-8f41-f5a313833303",
   "metadata": {},
   "outputs": [
    {
     "name": "stdout",
     "output_type": "stream",
     "text": [
      "✅ Kết nối SQL Server thành công!\n"
     ]
    },
    {
     "data": {
      "text/plain": [
       "[(1, 'EMP001', 1, 'Nguyễn Văn A', 'nguyenvana', 'password123', 'nguyenvana@example.com', '0912345678', 'photo1.jpg', 1, datetime.datetime(2025, 2, 17, 0, 0), datetime.datetime(2025, 2, 17, 0, 0), 'Hà Nội', False, True),\n",
       " (2, 'EMP002', 2, 'Nguyễn Thị B', 'nguyenthitha', 'password123', 'nguyenthitha@example.com', '0912345679', 'photo2.jpg', 1, datetime.datetime(2025, 2, 17, 0, 0), datetime.datetime(2025, 2, 17, 0, 0), 'Hà Nam', False, False),\n",
       " (3, 'EMP003', 1, 'Phạm Minh C', 'phamminhc', 'password123', 'phamminhc@example.com', '0912345680', 'photo3.jpg', 1, datetime.datetime(2025, 2, 17, 0, 0), datetime.datetime(2025, 2, 17, 0, 0), 'Hà Nội', False, True),\n",
       " (4, 'EMP004', 3, 'Lê Quang D', 'lequangd', 'password123', 'lequangd@example.com', '0912345681', 'photo4.jpg', 1, datetime.datetime(2025, 2, 17, 0, 0), datetime.datetime(2025, 2, 17, 0, 0), 'Tây Ninh', False, True),\n",
       " (5, 'EMP005', 2, 'Vũ Minh E', 'vuminhE', 'password123', 'vuminhE@example.com', '0912345682', 'photo5.jpg', 1, datetime.datetime(2025, 2, 17, 0, 0), datetime.datetime(2025, 2, 17, 0, 0), 'Phú Thọ', False, False),\n",
       " (6, 'EMP006', 3, 'Trần Thi F', 'tranthif', 'password123', 'tranthif@example.com', '0912345683', 'photo6.jpg', 1, datetime.datetime(2025, 2, 17, 0, 0), datetime.datetime(2025, 2, 17, 0, 0), 'Hà Nội', False, False),\n",
       " (7, 'EMP007', 1, 'Hồ Hoàng G', 'hohoangg', 'password123', 'hohoangg@example.com', '0912345684', 'photo7.jpg', 1, datetime.datetime(2025, 2, 17, 0, 0), datetime.datetime(2025, 2, 17, 0, 0), 'Hà Nam', False, True),\n",
       " (8, 'EMP008', 2, 'Ngô Minh H', 'ngominhh', 'password123', 'ngominhh@example.com', '0912345685', 'photo8.jpg', 1, datetime.datetime(2025, 2, 17, 0, 0), datetime.datetime(2025, 2, 17, 0, 0), 'Nam Định', False, False)]"
      ]
     },
     "execution_count": 4,
     "metadata": {},
     "output_type": "execute_result"
    }
   ],
   "source": [
    "fetch_all_employees()"
   ]
  },
  {
   "cell_type": "code",
   "execution_count": null,
   "id": "c619c693-3dd8-47b2-8c33-86b5d889819c",
   "metadata": {},
   "outputs": [],
   "source": []
  }
 ],
 "metadata": {
  "kernelspec": {
   "display_name": "Python 3 (ipykernel)",
   "language": "python",
   "name": "python3"
  },
  "language_info": {
   "codemirror_mode": {
    "name": "ipython",
    "version": 3
   },
   "file_extension": ".py",
   "mimetype": "text/x-python",
   "name": "python",
   "nbconvert_exporter": "python",
   "pygments_lexer": "ipython3",
   "version": "3.12.7"
  }
 },
 "nbformat": 4,
 "nbformat_minor": 5
}
