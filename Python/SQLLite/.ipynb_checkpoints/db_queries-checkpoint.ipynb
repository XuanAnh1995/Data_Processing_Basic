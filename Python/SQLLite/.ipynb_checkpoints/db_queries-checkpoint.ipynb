{
 "cells": [
  {
   "cell_type": "code",
   "execution_count": 2,
   "id": "edf30ccb-44aa-4a9f-b420-4f544f91de96",
   "metadata": {},
   "outputs": [
    {
     "ename": "ModuleNotFoundError",
     "evalue": "No module named 'db_connection'",
     "output_type": "error",
     "traceback": [
      "\u001b[1;31m---------------------------------------------------------------------------\u001b[0m",
      "\u001b[1;31mModuleNotFoundError\u001b[0m                       Traceback (most recent call last)",
      "Cell \u001b[1;32mIn[2], line 1\u001b[0m\n\u001b[1;32m----> 1\u001b[0m \u001b[38;5;28;01mfrom\u001b[39;00m \u001b[38;5;21;01mdb_connection\u001b[39;00m \u001b[38;5;28;01mimport\u001b[39;00m get_connection\n\u001b[0;32m      3\u001b[0m \u001b[38;5;28;01mdef\u001b[39;00m \u001b[38;5;21mfetch_all_employees\u001b[39m():\n\u001b[0;32m      4\u001b[0m \u001b[38;5;250m    \u001b[39m\u001b[38;5;124;03m\"\"\"Lấy toàn bộ dữ liệu từ bảng Employees\"\"\"\u001b[39;00m\n",
      "\u001b[1;31mModuleNotFoundError\u001b[0m: No module named 'db_connection'"
     ]
    }
   ],
   "source": [
    "from db_connection import get_connection\n",
    "\n",
    "def fetch_all_employees():\n",
    "    \"\"\"Lấy toàn bộ dữ liệu từ bảng employee\"\"\"\n",
    "    conn = get_connection()\n",
    "    if conn is None:\n",
    "        return None\n",
    "\n",
    "    try:\n",
    "        cursor = conn.cursor()\n",
    "        cursor.execute(\"SELECT * FROM employee\")  # Đổi tên bảng theo thực tế\n",
    "\n",
    "        rows = cursor.fetchall()\n",
    "        return rows\n",
    "\n",
    "    except Exception as e:\n",
    "        print(f\"❌ Lỗi truy vấn: {e}\")\n",
    "        return None\n",
    "\n",
    "    finally:\n",
    "        cursor.close()\n",
    "        conn.close()\n"
   ]
  },
  {
   "cell_type": "code",
   "execution_count": null,
   "id": "1a89a58f-942a-43b7-8f41-f5a313833303",
   "metadata": {},
   "outputs": [],
   "source": []
  },
  {
   "cell_type": "code",
   "execution_count": null,
   "id": "c619c693-3dd8-47b2-8c33-86b5d889819c",
   "metadata": {},
   "outputs": [],
   "source": []
  }
 ],
 "metadata": {
  "kernelspec": {
   "display_name": "Python 3 (ipykernel)",
   "language": "python",
   "name": "python3"
  },
  "language_info": {
   "codemirror_mode": {
    "name": "ipython",
    "version": 3
   },
   "file_extension": ".py",
   "mimetype": "text/x-python",
   "name": "python",
   "nbconvert_exporter": "python",
   "pygments_lexer": "ipython3",
   "version": "3.12.7"
  }
 },
 "nbformat": 4,
 "nbformat_minor": 5
}
