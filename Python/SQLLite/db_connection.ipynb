{
 "cells": [
  {
   "cell_type": "code",
   "execution_count": 1,
   "id": "a8578382-145f-457b-a36b-4507588264fd",
   "metadata": {},
   "outputs": [],
   "source": [
    "# Import thư viện\n",
    "import pyodbc\n",
    "\n",
    "# Thông tin kết nối\n",
    "server = 'localhost'  # Hoặc '127.0.0.1' nếu chạy trên máy tính của bạn\n",
    "database = 'DATNV01'  # Thay bằng tên database của bạn\n",
    "username = 'sa'  # Nếu dùng SQL Server Authentication\n",
    "password = '123456789'\n",
    "driver = '{ODBC Driver 17 for SQL Server}'  # Kiểm tra driver đã cài\n",
    "\n",
    "# Chuỗi kết nối\n",
    "conn_str = f'DRIVER={driver};SERVER={server};DATABASE={database};UID={username};PWD={password}'\n",
    "\n",
    "\n",
    "def get_connection():\n",
    "    \"\"\"Tạo và trả về kết nối đến SQL Server\"\"\"\n",
    "    try:\n",
    "        conn = pyodbc.connect(conn_str)\n",
    "        print(\"✅ Kết nối SQL Server thành công!\")\n",
    "        return conn\n",
    "    except Exception as e:\n",
    "        print(f\"❌ Lỗi kết nối: {e}\")\n",
    "        return None"
   ]
  },
  {
   "cell_type": "code",
   "execution_count": 2,
   "id": "e9ccb0b8-c4c7-4240-af71-df144cb6c198",
   "metadata": {},
   "outputs": [
    {
     "name": "stdout",
     "output_type": "stream",
     "text": [
      "✅ Kết nối SQL Server thành công!\n"
     ]
    },
    {
     "data": {
      "text/plain": [
       "<pyodbc.Connection at 0x29d951649f0>"
      ]
     },
     "execution_count": 2,
     "metadata": {},
     "output_type": "execute_result"
    }
   ],
   "source": [
    "get_connection()"
   ]
  },
  {
   "cell_type": "code",
   "execution_count": null,
   "id": "e877ff6b-bbd9-41a7-980c-68fa1e6645dd",
   "metadata": {},
   "outputs": [],
   "source": []
  }
 ],
 "metadata": {
  "kernelspec": {
   "display_name": "Python 3 (ipykernel)",
   "language": "python",
   "name": "python3"
  },
  "language_info": {
   "codemirror_mode": {
    "name": "ipython",
    "version": 3
   },
   "file_extension": ".py",
   "mimetype": "text/x-python",
   "name": "python",
   "nbconvert_exporter": "python",
   "pygments_lexer": "ipython3",
   "version": "3.12.7"
  }
 },
 "nbformat": 4,
 "nbformat_minor": 5
}
