{
 "cells": [
  {
   "cell_type": "code",
   "execution_count": 1,
   "id": "16b4bb85-e76f-4e7c-9960-e0dd4b186752",
   "metadata": {},
   "outputs": [],
   "source": [
    "# Bài tập vè động vật\n",
    "# Xây dựng class \"cha\" (base class)\n",
    "class Animal:\n",
    "    \n",
    "    # contructor : Xây dựng đối tượng\n",
    "    def __init__(self, animalTypeA, nameA, widthA, heightA, weightA):\n",
    "        self.animalType = animalTypeA\n",
    "        self.name = nameA\n",
    "        self.width = widthA\n",
    "        self.height = heightA\n",
    "        self.weight = weightA\n",
    "\n",
    "    # Phát ra âm thanh\n",
    "    def makeVoice(self):\n",
    "        print(\"Unknow voice\")\n",
    "\n",
    "    # In thông tin\n",
    "    def printMe(self):\n",
    "        print(\"AnimalType : {0}, Name : {1}, Width: {2}, Height : {3}, Weight: {4}\".format(self.animalType, self.name, self.width, self.height, self.weight))\n",
    "    \n",
    "        "
   ]
  },
  {
   "cell_type": "code",
   "execution_count": 2,
   "id": "6ae3eb8f-b4e2-4b95-adb6-70ca65d4bd0a",
   "metadata": {},
   "outputs": [
    {
     "name": "stdout",
     "output_type": "stream",
     "text": [
      "AnimalType : Con người, Name : Nguyễn Văn A, Width: , Height : 170 cm, Weight: 60 kg\n",
      "Unknow voice\n"
     ]
    }
   ],
   "source": [
    "a1 = Animal(\"Con người\", \"Nguyễn Văn A\", \"\", \"170 cm\", \"60 kg\")\n",
    "a1.printMe()\n",
    "a1.makeVoice()"
   ]
  },
  {
   "cell_type": "code",
   "execution_count": 5,
   "id": "5a6365a6-d212-4ead-bb04-3f73898945e6",
   "metadata": {},
   "outputs": [],
   "source": [
    "class Dog(Animal):\n",
    "    # contructor của lớp con:\n",
    "    def __init__(self, nameA, widthA, heightA, weightA, isChampionA):\n",
    "        \n",
    "        # Gọi contructor của lớp cha\n",
    "        Animal.__init__(self, \"Dog\", nameA, widthA, heightA, weightA)\n",
    "\n",
    "        # Gán giá trị cho các thuộc tính bổ sung\n",
    "        self.isChampion = isChampionA\n",
    "\n",
    "    # Override method\n",
    "    def makeVoice(self):\n",
    "        print(\"{0} : gau gau\".format(self.name))\n"
   ]
  },
  {
   "cell_type": "code",
   "execution_count": 8,
   "id": "e2075bde-8c96-4b7d-adbd-e3143fe50aba",
   "metadata": {},
   "outputs": [
    {
     "name": "stdout",
     "output_type": "stream",
     "text": [
      "Cậu Vàng : gau gau\n",
      "AnimalType : Dog, Name : Mật, Width: 850 cm, Height : 100 cm, Weight: 50 kg\n"
     ]
    }
   ],
   "source": [
    "doc1 = Dog(\"Cậu Vàng\", \"80 cm\", \"40 cm\", \"20 kg\", True)\n",
    "doc2 = Dog(\"Mật\", \"850 cm\", \"100 cm\", \"50 kg\", True)\n",
    "\n",
    "doc1.makeVoice()\n",
    "doc2.printMe()"
   ]
  },
  {
   "cell_type": "code",
   "execution_count": 15,
   "id": "6174647a-5711-4bb8-b8f1-8ea131da93a0",
   "metadata": {},
   "outputs": [],
   "source": [
    "class Cat(Animal):\n",
    "    # contructor của lớp con:\n",
    "    def __init__(self, nameA, widthA, heightA, weightA, colorA):\n",
    "        \n",
    "        # Gọi contructor của lớp cha\n",
    "        super().__init__(\"Cat\", nameA, widthA, heightA, weightA)\n",
    "\n",
    "        # Gán giá trị cho các thuộc tính bổ sung\n",
    "        self.color = colorA\n",
    "\n",
    "    # Override method\n",
    "    def makeVoice(self):\n",
    "        print(\"{0} : meo meo\".format(self.name))\n",
    "\n",
    "    def takeCareHome(self):\n",
    "        print(\"{0} : Hzzzzz\".format(self.name))"
   ]
  },
  {
   "cell_type": "code",
   "execution_count": 16,
   "id": "c4e0b946-9976-49d1-bc4c-6a72fcb5b8f6",
   "metadata": {},
   "outputs": [
    {
     "name": "stdout",
     "output_type": "stream",
     "text": [
      "Mimi : meo meo\n",
      "AnimalType : Cat, Name : Momo, Width: 50 cm, Height : 15 cm, Weight: 5 kg\n",
      "Momo : Hzzzzz\n"
     ]
    }
   ],
   "source": [
    "cat1 = Cat(\"Mimi\", \"30 cm\", \"10 cm\", \"2 kg\", \"Black\")\n",
    "cat2 = Cat(\"Momo\", \"50 cm\", \"15 cm\", \"5 kg\", \"Blue\")\n",
    "\n",
    "cat1.makeVoice()\n",
    "cat2.printMe()\n",
    "cat2.takeCareHome()"
   ]
  },
  {
   "cell_type": "code",
   "execution_count": null,
   "id": "91ddd16a-0d1f-4362-94d5-ad1dfd8de9c8",
   "metadata": {},
   "outputs": [],
   "source": []
  }
 ],
 "metadata": {
  "kernelspec": {
   "display_name": "Python 3 (ipykernel)",
   "language": "python",
   "name": "python3"
  },
  "language_info": {
   "codemirror_mode": {
    "name": "ipython",
    "version": 3
   },
   "file_extension": ".py",
   "mimetype": "text/x-python",
   "name": "python",
   "nbconvert_exporter": "python",
   "pygments_lexer": "ipython3",
   "version": "3.12.7"
  }
 },
 "nbformat": 4,
 "nbformat_minor": 5
}
