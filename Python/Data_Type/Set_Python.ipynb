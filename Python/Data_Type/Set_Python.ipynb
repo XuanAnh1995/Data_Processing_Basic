{
 "cells": [
  {
   "cell_type": "raw",
   "id": "a4c1e2ad-845d-4a65-a367-729c90a90a50",
   "metadata": {},
   "source": [
    "Set là 1 trong 4 kiểu dữ liệu tích hợp sẵn trong Python dùng để lưu trữ các tập hợp dữ liệu, \n",
    "3 kiểu còn lại là :\n",
    "    List []\n",
    "    Tuple ()\n",
    "    Dictionary  {key: value}\n",
    "tất cả đều có chất lượng và cách sử dụng khác nhau"
   ]
  },
  {
   "cell_type": "raw",
   "id": "16a57854-111c-423e-9118-0541cf880a31",
   "metadata": {},
   "source": [
    "Set là tập hợp không có thứ tự, giá trị không được trùng nhau, không thể thay đổi, và không được lập chỉ mục\n",
    "Lưu ý: Các mục set là không thể thay đổi , nhưng bạn có thể xóa các mục và thêm các mục mới"
   ]
  },
  {
   "cell_type": "raw",
   "id": "25cd3749-a18f-44f2-9430-1dbedebf5718",
   "metadata": {},
   "source": [
    "Sử dụng cặp ngoặc {}"
   ]
  },
  {
   "cell_type": "code",
   "execution_count": 1,
   "id": "2d384fd9-8f17-42c5-80f6-bf2de9136ab8",
   "metadata": {},
   "outputs": [],
   "source": [
    "# Tạo mới Set\n",
    "monHoc = {\"Toan\", \"Ly\", \"Hoa\"}"
   ]
  },
  {
   "cell_type": "code",
   "execution_count": 2,
   "id": "099a0238-356b-42f3-84a3-07fd618c2ef4",
   "metadata": {},
   "outputs": [
    {
     "data": {
      "text/plain": [
       "{'Hoa', 'Ly', 'Toan'}"
      ]
     },
     "execution_count": 2,
     "metadata": {},
     "output_type": "execute_result"
    }
   ],
   "source": [
    "monHoc"
   ]
  },
  {
   "cell_type": "code",
   "execution_count": 3,
   "id": "e8dc17dc-2760-43fc-bdcc-a7afaccf75ca",
   "metadata": {},
   "outputs": [
    {
     "name": "stdout",
     "output_type": "stream",
     "text": [
      "Ly\n",
      "Hoa\n",
      "Toan\n"
     ]
    }
   ],
   "source": [
    "# Duyệt phần tử trong Set\n",
    "for x in monHoc:\n",
    "    print(x)"
   ]
  },
  {
   "cell_type": "code",
   "execution_count": 4,
   "id": "9a2c763e-ad6f-47a9-9b24-ef7630ae29d0",
   "metadata": {},
   "outputs": [
    {
     "name": "stdout",
     "output_type": "stream",
     "text": [
      "{'Anh Văn', 'Ly', 'Hoa', 'Toan'}\n",
      "{'Anh Văn', 'Ly', 'Hoa', 'Toan'}\n"
     ]
    }
   ],
   "source": [
    "# Thêm phần tử vào bên trong Set\n",
    "monHoc.add(\"Anh Văn\")\n",
    "print(monHoc)\n",
    "monHoc.add(\"Anh Văn\")\n",
    "print(monHoc)"
   ]
  },
  {
   "cell_type": "code",
   "execution_count": 5,
   "id": "d4595bea-9628-4a54-863c-f5b3c3257808",
   "metadata": {},
   "outputs": [
    {
     "name": "stdout",
     "output_type": "stream",
     "text": [
      "{'Anh Văn', 'Lịch sử', 'English', 'Ly', 'Hoa', 'Toan'}\n"
     ]
    }
   ],
   "source": [
    "# Thêm nhiều phần tử\n",
    "hocThem = {\"English\", \"Lịch sử\"}\n",
    "monHoc.update(hocThem)\n",
    "print(monHoc)"
   ]
  },
  {
   "cell_type": "code",
   "execution_count": 6,
   "id": "e57305f0-80b4-421c-8d58-2849277ef24c",
   "metadata": {},
   "outputs": [
    {
     "name": "stdout",
     "output_type": "stream",
     "text": [
      "['Võ thuật', 'Múa', 'Võ thuật']\n",
      "{'Võ thuật', 'Anh Văn', 'Lịch sử', 'English', 'Múa', 'Ly', 'Hoa', 'Toan'}\n"
     ]
    }
   ],
   "source": [
    "# Thêm LIST vào SET\n",
    "hocPhuDao = [\"Võ thuật\", \"Múa\", \"Võ thuật\"]\n",
    "print(hocPhuDao)\n",
    "monHoc.update(hocPhuDao)\n",
    "print(monHoc)"
   ]
  },
  {
   "cell_type": "code",
   "execution_count": 7,
   "id": "e7fcaed8-8faf-4bee-abfa-e6b42c0e43fa",
   "metadata": {},
   "outputs": [
    {
     "ename": "KeyError",
     "evalue": "'Sinh học'",
     "output_type": "error",
     "traceback": [
      "\u001b[1;31m---------------------------------------------------------------------------\u001b[0m",
      "\u001b[1;31mKeyError\u001b[0m                                  Traceback (most recent call last)",
      "Cell \u001b[1;32mIn[7], line 3\u001b[0m\n\u001b[0;32m      1\u001b[0m \u001b[38;5;66;03m# Xóa phần tử\u001b[39;00m\n\u001b[0;32m      2\u001b[0m \u001b[38;5;66;03m# remove(): nếu phần tử không tồn tại sẽ phát sinh lỗi\u001b[39;00m\n\u001b[1;32m----> 3\u001b[0m monHoc\u001b[38;5;241m.\u001b[39mremove(\u001b[38;5;124m\"\u001b[39m\u001b[38;5;124mSinh học\u001b[39m\u001b[38;5;124m\"\u001b[39m)\n",
      "\u001b[1;31mKeyError\u001b[0m: 'Sinh học'"
     ]
    }
   ],
   "source": [
    "# Xóa phần tử\n",
    "# remove(): nếu phần tử không tồn tại sẽ phát sinh lỗi\n",
    "monHoc.remove(\"Sinh học\")\n"
   ]
  },
  {
   "cell_type": "code",
   "execution_count": null,
   "id": "ed346c69-512a-432b-946c-c5aebf3cbc2e",
   "metadata": {},
   "outputs": [],
   "source": [
    "monHoc.remove(\"English\")"
   ]
  },
  {
   "cell_type": "code",
   "execution_count": 8,
   "id": "b15395c4-e8e7-4384-8292-460bda894dfb",
   "metadata": {},
   "outputs": [
    {
     "name": "stdout",
     "output_type": "stream",
     "text": [
      "{'Võ thuật', 'Anh Văn', 'Lịch sử', 'English', 'Múa', 'Ly', 'Hoa'}\n"
     ]
    }
   ],
   "source": [
    "# discard(): Nếu phần tử không tồn tại sẽ không phát sinh lỗi\n",
    "monHoc.discard(\"Toan\")\n",
    "print(monHoc)"
   ]
  },
  {
   "cell_type": "code",
   "execution_count": 9,
   "id": "378e7d12-14c9-4bb2-a3fe-847adc8aa5dc",
   "metadata": {},
   "outputs": [],
   "source": [
    "monHoc.discard(\"Toan\")"
   ]
  },
  {
   "cell_type": "code",
   "execution_count": 10,
   "id": "d41a83d5-db4b-4a27-ab30-a82e65fbcc39",
   "metadata": {},
   "outputs": [
    {
     "data": {
      "text/plain": [
       "{'Anh Văn', 'English', 'Hoa', 'Ly', 'Lịch sử', 'Múa', 'Võ thuật'}"
      ]
     },
     "execution_count": 10,
     "metadata": {},
     "output_type": "execute_result"
    }
   ],
   "source": [
    "monHoc"
   ]
  },
  {
   "cell_type": "code",
   "execution_count": 12,
   "id": "ac743e5d-db1f-44b0-b9b6-7ac92a882030",
   "metadata": {},
   "outputs": [
    {
     "name": "stdout",
     "output_type": "stream",
     "text": [
      "English\n",
      "{'Múa', 'Ly', 'Hoa'}\n"
     ]
    }
   ],
   "source": [
    "# Loại bỏ phần tử đầu tiên bằng phương thức pop()\n",
    "monHoc.pop()\n",
    "print(monHoc.pop())\n",
    "print(monHoc)"
   ]
  },
  {
   "cell_type": "code",
   "execution_count": 13,
   "id": "61b31577-016d-4163-873e-ff368f08f3ea",
   "metadata": {},
   "outputs": [
    {
     "name": "stdout",
     "output_type": "stream",
     "text": [
      "set()\n"
     ]
    }
   ],
   "source": [
    "# Làm rỗng tập hợp bằng phương thức clear()\n",
    "monHoc.clear()\n",
    "print(monHoc)"
   ]
  },
  {
   "cell_type": "code",
   "execution_count": 14,
   "id": "5ee8d9a2-0daa-411c-b80d-32e48193de57",
   "metadata": {},
   "outputs": [],
   "source": [
    "# Xóa bỏ tập hợp bằng từ khóa del\n",
    "del monHoc"
   ]
  },
  {
   "cell_type": "code",
   "execution_count": null,
   "id": "30fc2117-ce31-4f77-9484-80e62e9f2072",
   "metadata": {},
   "outputs": [],
   "source": [
    "print(m)"
   ]
  }
 ],
 "metadata": {
  "kernelspec": {
   "display_name": "Python 3 (ipykernel)",
   "language": "python",
   "name": "python3"
  },
  "language_info": {
   "codemirror_mode": {
    "name": "ipython",
    "version": 3
   },
   "file_extension": ".py",
   "mimetype": "text/x-python",
   "name": "python",
   "nbconvert_exporter": "python",
   "pygments_lexer": "ipython3",
   "version": "3.12.7"
  }
 },
 "nbformat": 4,
 "nbformat_minor": 5
}
