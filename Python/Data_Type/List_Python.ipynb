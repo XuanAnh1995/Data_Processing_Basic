{
 "cells": [
  {
   "cell_type": "raw",
   "id": "195590f7-50c6-44d7-a04a-4f3c66470e85",
   "metadata": {},
   "source": [
    "List là một chuỗi các mục có thứ tự. Nó là một trong những kiểu dữ liệu được sử dụng nhiều nhất trong Python và rất linh hoạt. Tất cả các mục trong danh sách không cần phải cùng loại"
   ]
  },
  {
   "cell_type": "raw",
   "id": "9151fcf3-e15a-4f4a-b59e-44783afeaa51",
   "metadata": {},
   "source": [
    "Khai báo một danh sách khá đơn giản . Các mục được phân tách bằng dấu , và được đặt trong []"
   ]
  },
  {
   "cell_type": "code",
   "execution_count": 1,
   "id": "9189b953-cdbb-4d03-8bc9-a90ab0dcc967",
   "metadata": {},
   "outputs": [
    {
     "name": "stdout",
     "output_type": "stream",
     "text": [
      "[]\n",
      "[]\n"
     ]
    }
   ],
   "source": [
    "# Tạo list rỗng\n",
    "emptyList = []\n",
    "\n",
    "# Tạo ra một đối tượng list\n",
    "emptyList2 = list()\n",
    "\n",
    "print(emptyList)\n",
    "print(emptyList2)"
   ]
  },
  {
   "cell_type": "code",
   "execution_count": 42,
   "id": "55909853-a9f2-462c-927b-37588d217746",
   "metadata": {},
   "outputs": [
    {
     "name": "stdout",
     "output_type": "stream",
     "text": [
      "['red', 'green', 'orange', 1, 2, 8]\n"
     ]
    }
   ],
   "source": [
    "# Tạo ra list có dữ liệu\n",
    "colors = [\"red\", \"green\", \"orange\", 1, 2, 8 ]\n",
    "print(colors)"
   ]
  },
  {
   "cell_type": "code",
   "execution_count": 31,
   "id": "07643818-8641-4e1d-a14e-8e3bd793b7c6",
   "metadata": {},
   "outputs": [
    {
     "name": "stdout",
     "output_type": "stream",
     "text": [
      "Ngân\n"
     ]
    }
   ],
   "source": [
    "# List có thứ tự , vị trí các phần tử được đánh dấu từ 0 , từ trái sang phải\n",
    "studentList = [\"An\", \"Bình\", \"Ngân\", \"Vi\"]\n",
    "\n",
    "print(studentList[2])"
   ]
  },
  {
   "cell_type": "code",
   "execution_count": 4,
   "id": "9ffde894-c691-45ad-88f3-058290d4b43b",
   "metadata": {},
   "outputs": [
    {
     "name": "stdout",
     "output_type": "stream",
     "text": [
      "['An', 'Bình', 'Ngân', 'Vi']\n",
      "['An', 'Bình', 'Ngân', 'Vi']\n"
     ]
    }
   ],
   "source": [
    "print(studentList)\n",
    "print(studentList[:])"
   ]
  },
  {
   "cell_type": "code",
   "execution_count": 5,
   "id": "cbec6a17-a14f-46d1-adb4-4622e75d22ff",
   "metadata": {},
   "outputs": [
    {
     "name": "stdout",
     "output_type": "stream",
     "text": [
      "['Bình']\n",
      "['An', 'Bình']\n"
     ]
    }
   ],
   "source": [
    "# studentList[x:y]  -> Lấy ra [x : y]\n",
    "print(studentList[1:2])\n",
    "print(studentList[0:2])"
   ]
  },
  {
   "cell_type": "code",
   "execution_count": 32,
   "id": "57e47b98-ff4e-440f-abf8-3666d00dca65",
   "metadata": {},
   "outputs": [
    {
     "name": "stdout",
     "output_type": "stream",
     "text": [
      "['An', 'Bình', 'Ngân', 'Vi', 'Thiên']\n"
     ]
    }
   ],
   "source": [
    "# Thêm phần tử vào cuối List\n",
    "studentList.append(\"Thiên\")\n",
    "print(studentList)"
   ]
  },
  {
   "cell_type": "code",
   "execution_count": 33,
   "id": "f839600e-0895-41a3-bc3f-9ea81358ed6e",
   "metadata": {},
   "outputs": [
    {
     "name": "stdout",
     "output_type": "stream",
     "text": [
      "['An', 'Bình', 'Ngân', 'Vi', 'Thiên', 'Thiên']\n"
     ]
    }
   ],
   "source": [
    "# Thêm phần tử vào vị trí cần -> list.insert(index, value)\n",
    "studentList.insert(6, \"Thiên\")\n",
    "print(studentList)"
   ]
  },
  {
   "cell_type": "code",
   "execution_count": 34,
   "id": "2c1fd77b-30dd-4ee0-be35-a3151109d6a4",
   "metadata": {},
   "outputs": [
    {
     "name": "stdout",
     "output_type": "stream",
     "text": [
      "['An', 'Bình', 'Ngân', 'Vi', 'Thiên', 'Thiên', 'Thần']\n"
     ]
    }
   ],
   "source": [
    "studentList[len(studentList) : ] = [\"Thần\"]\n",
    "print(studentList)"
   ]
  },
  {
   "cell_type": "code",
   "execution_count": 14,
   "id": "49669eb9-af84-4e52-b1d0-3f83b3d83131",
   "metadata": {},
   "outputs": [
    {
     "name": "stdout",
     "output_type": "stream",
     "text": [
      "Số lượng phần tử có trong list : 9\n"
     ]
    }
   ],
   "source": [
    "# Số lượng phần tử có trong list\n",
    "print(\"Số lượng phần tử có trong list : \" + str(len(studentList)))"
   ]
  },
  {
   "cell_type": "code",
   "execution_count": 16,
   "id": "52f73b26-508a-4c6a-993f-c30b7603a4e0",
   "metadata": {},
   "outputs": [
    {
     "data": {
      "text/plain": [
       "['An', 'Bình', 'Ngọc', 'Ngân', 'Vi', 'Thiên', 'An', 'Ngọc', 'Thần']"
      ]
     },
     "execution_count": 16,
     "metadata": {},
     "output_type": "execute_result"
    }
   ],
   "source": [
    "studentList"
   ]
  },
  {
   "cell_type": "code",
   "execution_count": 17,
   "id": "323e6379-ed24-4b6b-b261-9a8fb0c802ab",
   "metadata": {},
   "outputs": [
    {
     "name": "stdout",
     "output_type": "stream",
     "text": [
      "Đếm Ngọc :  2\n",
      "Đếm An : 2\n"
     ]
    }
   ],
   "source": [
    "# Đếm số lượng phần tử thỏa điều kiện\n",
    "print(\"Đếm Ngọc : \" , studentList.count(\"Ngọc\"))\n",
    "print(\"Đếm An :\", studentList.count(\"An\"))"
   ]
  },
  {
   "cell_type": "code",
   "execution_count": 20,
   "id": "9ff46053-d60a-4a6d-ab74-bd36093cf5f5",
   "metadata": {},
   "outputs": [
    {
     "ename": "ValueError",
     "evalue": "list.remove(x): x not in list",
     "output_type": "error",
     "traceback": [
      "\u001b[1;31m---------------------------------------------------------------------------\u001b[0m",
      "\u001b[1;31mValueError\u001b[0m                                Traceback (most recent call last)",
      "Cell \u001b[1;32mIn[20], line 2\u001b[0m\n\u001b[0;32m      1\u001b[0m \u001b[38;5;66;03m# Xóa phần tử ra khỏi List\u001b[39;00m\n\u001b[1;32m----> 2\u001b[0m studentList\u001b[38;5;241m.\u001b[39mremove(\u001b[38;5;124m\"\u001b[39m\u001b[38;5;124mNgân\u001b[39m\u001b[38;5;124m\"\u001b[39m)\n\u001b[0;32m      3\u001b[0m studentList\n",
      "\u001b[1;31mValueError\u001b[0m: list.remove(x): x not in list"
     ]
    }
   ],
   "source": [
    "# Xóa phần tử ra khỏi List\n",
    "studentList.remove(\"Ngân\")\n",
    "studentList"
   ]
  },
  {
   "cell_type": "code",
   "execution_count": 23,
   "id": "beaf2142-137b-4771-aa30-f2ed0d54fcc9",
   "metadata": {},
   "outputs": [
    {
     "ename": "ValueError",
     "evalue": "list.remove(x): x not in list",
     "output_type": "error",
     "traceback": [
      "\u001b[1;31m---------------------------------------------------------------------------\u001b[0m",
      "\u001b[1;31mValueError\u001b[0m                                Traceback (most recent call last)",
      "Cell \u001b[1;32mIn[23], line 1\u001b[0m\n\u001b[1;32m----> 1\u001b[0m studentList\u001b[38;5;241m.\u001b[39mremove(\u001b[38;5;124m\"\u001b[39m\u001b[38;5;124mNgọc\u001b[39m\u001b[38;5;124m\"\u001b[39m)\n\u001b[0;32m      2\u001b[0m studentList\n",
      "\u001b[1;31mValueError\u001b[0m: list.remove(x): x not in list"
     ]
    }
   ],
   "source": [
    "studentList.remove(\"Ngọc\")\n",
    "studentList"
   ]
  },
  {
   "cell_type": "code",
   "execution_count": 27,
   "id": "2cd7311a-00f9-4efa-ab23-434caa017548",
   "metadata": {},
   "outputs": [
    {
     "data": {
      "text/plain": [
       "['An', 'Bình', 'Vi', 'Thiên', 'An', 'Thần', 'Thiên', 'Ngọc', 'An']"
      ]
     },
     "execution_count": 27,
     "metadata": {},
     "output_type": "execute_result"
    }
   ],
   "source": [
    "studentList"
   ]
  },
  {
   "cell_type": "code",
   "execution_count": 29,
   "id": "8390877f-3ded-4f84-9f90-bed07004e879",
   "metadata": {},
   "outputs": [
    {
     "data": {
      "text/plain": [
       "['An', 'Bình', 'Vi', 'Thiên', 'An', 'Thần', 'Thiên', 'An']"
      ]
     },
     "execution_count": 29,
     "metadata": {},
     "output_type": "execute_result"
    }
   ],
   "source": [
    "# Kiểm tra phần tử có bên trong list\n",
    "if \"Ngọc\" in studentList:\n",
    "    studentList.remove(\"Ngọc\")\n",
    "\n",
    "studentList"
   ]
  },
  {
   "cell_type": "code",
   "execution_count": 30,
   "id": "e8abab5e-4e2b-4ff7-a968-e02a28c05c00",
   "metadata": {},
   "outputs": [
    {
     "data": {
      "text/plain": [
       "['An', 'Bình', 'Vi', 'Thiên', 'Thần', 'Thiên', 'An']"
      ]
     },
     "execution_count": 30,
     "metadata": {},
     "output_type": "execute_result"
    }
   ],
   "source": [
    "# Xóa phần tử ra khỏi list bằng vị trí index -> list.pop(index)\n",
    "studentList.pop(4)\n",
    "studentList"
   ]
  },
  {
   "cell_type": "code",
   "execution_count": 35,
   "id": "f0c1b7dd-f97b-4200-af81-d8bc3d000c95",
   "metadata": {},
   "outputs": [
    {
     "data": {
      "text/plain": [
       "['An', 'Bình', 'Ngân', 'Vi', 'Thiên', 'Thiên', 'Thần']"
      ]
     },
     "execution_count": 35,
     "metadata": {},
     "output_type": "execute_result"
    }
   ],
   "source": [
    "studentList"
   ]
  },
  {
   "cell_type": "code",
   "execution_count": 36,
   "id": "39182fa8-9988-41fc-96f0-dcbf1b44317c",
   "metadata": {},
   "outputs": [
    {
     "data": {
      "text/plain": [
       "['Thần', 'Thiên', 'Thiên', 'Vi', 'Ngân', 'Bình', 'An']"
      ]
     },
     "execution_count": 36,
     "metadata": {},
     "output_type": "execute_result"
    }
   ],
   "source": [
    "# Đảo ngược list\n",
    "studentList.reverse()\n",
    "studentList"
   ]
  },
  {
   "cell_type": "code",
   "execution_count": 37,
   "id": "2e7a17a4-7f45-434b-9ec3-d7fabad7d318",
   "metadata": {},
   "outputs": [
    {
     "data": {
      "text/plain": [
       "['An', 'Bình', 'Ngân', 'Thiên', 'Thiên', 'Thần', 'Vi']"
      ]
     },
     "execution_count": 37,
     "metadata": {},
     "output_type": "execute_result"
    }
   ],
   "source": [
    "# Sắp xêp lại\n",
    "studentList.sort()\n",
    "studentList"
   ]
  },
  {
   "cell_type": "code",
   "execution_count": 38,
   "id": "c4d82dec-2adc-4a4a-9df8-9218669be8f7",
   "metadata": {},
   "outputs": [
    {
     "data": {
      "text/plain": [
       "[0, 1, 5, 5, 7, 7, 9]"
      ]
     },
     "execution_count": 38,
     "metadata": {},
     "output_type": "execute_result"
    }
   ],
   "source": [
    "numbers = [7, 5, 1, 9, 0, 5, 7]\n",
    "numbers.sort()\n",
    "numbers"
   ]
  },
  {
   "cell_type": "code",
   "execution_count": 39,
   "id": "d4ff3f53-fe68-41f3-aa07-f8e274630008",
   "metadata": {},
   "outputs": [
    {
     "data": {
      "text/plain": [
       "['Vi', 'Thần', 'Thiên', 'Thiên', 'Ngân', 'Bình', 'An']"
      ]
     },
     "execution_count": 39,
     "metadata": {},
     "output_type": "execute_result"
    }
   ],
   "source": [
    "# Săp xếp ngược\n",
    "studentList.sort(reverse= True)\n",
    "studentList"
   ]
  },
  {
   "cell_type": "code",
   "execution_count": 40,
   "id": "83084029-df49-4eb1-8a2a-3b7cd1588b12",
   "metadata": {},
   "outputs": [
    {
     "data": {
      "text/plain": [
       "[9, 7, 7, 5, 5, 1, 0]"
      ]
     },
     "execution_count": 40,
     "metadata": {},
     "output_type": "execute_result"
    }
   ],
   "source": [
    "numbers.sort(reverse= True)\n",
    "numbers"
   ]
  },
  {
   "cell_type": "code",
   "execution_count": 41,
   "id": "d669de16-a5da-482f-9899-2cec5f89deb1",
   "metadata": {},
   "outputs": [
    {
     "data": {
      "text/plain": [
       "[]"
      ]
     },
     "execution_count": 41,
     "metadata": {},
     "output_type": "execute_result"
    }
   ],
   "source": [
    "# Xóa sạch dữ liệu trong List\n",
    "studentList.clear()\n",
    "studentList"
   ]
  },
  {
   "cell_type": "code",
   "execution_count": null,
   "id": "8c398798-b37b-4a9b-8238-08a560998446",
   "metadata": {},
   "outputs": [],
   "source": []
  }
 ],
 "metadata": {
  "kernelspec": {
   "display_name": "Python 3 (ipykernel)",
   "language": "python",
   "name": "python3"
  },
  "language_info": {
   "codemirror_mode": {
    "name": "ipython",
    "version": 3
   },
   "file_extension": ".py",
   "mimetype": "text/x-python",
   "name": "python",
   "nbconvert_exporter": "python",
   "pygments_lexer": "ipython3",
   "version": "3.12.7"
  }
 },
 "nbformat": 4,
 "nbformat_minor": 5
}
