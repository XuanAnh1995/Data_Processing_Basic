{
 "cells": [
  {
   "cell_type": "raw",
   "id": "5e5f0caf-315a-45f8-9c1b-3280b4376dbf",
   "metadata": {},
   "source": [
    "Tuple là một chuỗi các phần tử có thứ tự giống nhứ 1 List, Sự khác biệt duy nhất là bộ giá trị là các hằng số\n",
    "Tuple một khi được tạo ra thì giá trị của nó không thể sửa đổi"
   ]
  },
  {
   "cell_type": "raw",
   "id": "f069cf77-996a-454f-bdfa-b13999255878",
   "metadata": {},
   "source": [
    "Tuple được sử dụng để bảo vệ dữ liệu và thường nhanh hơn danh sách vì chúng không thể thay đổi động"
   ]
  },
  {
   "cell_type": "raw",
   "id": "1c84d7a6-ae9c-4e37-9cea-3c497e0284b3",
   "metadata": {},
   "source": [
    "Được định nghĩa trong dấu (), các mục phân tách bằng dấu ,"
   ]
  },
  {
   "cell_type": "raw",
   "id": "43d5d1ec-0321-4104-a0b8-5c3796a47a72",
   "metadata": {},
   "source": [
    "Gía trị của Tuple có thể bị trùng lặp"
   ]
  },
  {
   "cell_type": "code",
   "execution_count": 5,
   "id": "5eb5d3f2-2cea-47fb-b9e1-2139c313a343",
   "metadata": {},
   "outputs": [],
   "source": [
    "# Khai bảo\n",
    "gioiTinh = (\"Nam\", \"Nữ\")\n",
    "lopHoc = (1, 2, 3, 4, 5, 6, 7, 8, 9, 10, 11, 12)\n",
    "traiCay = (\"Táo\", \"Chuối\", \"Táo\", \"Cam\")"
   ]
  },
  {
   "cell_type": "code",
   "execution_count": 8,
   "id": "e9c882b6-9bad-435a-857d-b47038baab27",
   "metadata": {},
   "outputs": [
    {
     "data": {
      "text/plain": [
       "('Nam', 'Nữ')"
      ]
     },
     "execution_count": 8,
     "metadata": {},
     "output_type": "execute_result"
    }
   ],
   "source": [
    "gioiTinh"
   ]
  },
  {
   "cell_type": "code",
   "execution_count": 9,
   "id": "404369a9-e2cb-40ba-a007-41b4f8fc3a70",
   "metadata": {},
   "outputs": [
    {
     "data": {
      "text/plain": [
       "(1, 2, 3, 4, 5, 6, 7, 8, 9, 10, 11, 12)"
      ]
     },
     "execution_count": 9,
     "metadata": {},
     "output_type": "execute_result"
    }
   ],
   "source": [
    "lopHoc"
   ]
  },
  {
   "cell_type": "code",
   "execution_count": 10,
   "id": "654d5740-1b99-422a-828d-3c3dfe8c75f1",
   "metadata": {},
   "outputs": [
    {
     "data": {
      "text/plain": [
       "('Táo', 'Chuối', 'Táo', 'Cam')"
      ]
     },
     "execution_count": 10,
     "metadata": {},
     "output_type": "execute_result"
    }
   ],
   "source": [
    "traiCay"
   ]
  },
  {
   "cell_type": "markdown",
   "id": "776b22d5-9dfd-4998-bbae-f3ea0a16b74e",
   "metadata": {},
   "source": [
    "Các thao tác với Tuple"
   ]
  },
  {
   "cell_type": "code",
   "execution_count": 13,
   "id": "b736c5e5-723e-4adb-b573-b59618849a79",
   "metadata": {},
   "outputs": [
    {
     "name": "stdout",
     "output_type": "stream",
     "text": [
      "Nam\n",
      "Nữ\n"
     ]
    }
   ],
   "source": [
    "print(gioiTinh[0])\n",
    "print(gioiTinh[1])"
   ]
  },
  {
   "cell_type": "code",
   "execution_count": 14,
   "id": "a0f3f377-b651-4815-9a5c-7af4627005ad",
   "metadata": {},
   "outputs": [
    {
     "name": "stdout",
     "output_type": "stream",
     "text": [
      "(1, 2, 3)\n"
     ]
    }
   ],
   "source": [
    "print(lopHoc[0:3])"
   ]
  },
  {
   "cell_type": "markdown",
   "id": "6f5d8ce2-4c18-4f6e-9ee5-7896d79c0d2f",
   "metadata": {},
   "source": [
    "Lưu ý : Gía trị phần tử Tuple không thể thay đổi"
   ]
  },
  {
   "cell_type": "markdown",
   "id": "4bde5a1d-0fc8-4a10-a207-a718e60ddb38",
   "metadata": {},
   "source": [
    "Đếm số lượt xuất hiện"
   ]
  },
  {
   "cell_type": "code",
   "execution_count": 18,
   "id": "a01a06bb-b18e-4692-a9b9-2911f1f48801",
   "metadata": {},
   "outputs": [
    {
     "data": {
      "text/plain": [
       "1"
      ]
     },
     "execution_count": 18,
     "metadata": {},
     "output_type": "execute_result"
    }
   ],
   "source": [
    "lopHoc.count(3)"
   ]
  },
  {
   "cell_type": "code",
   "execution_count": 20,
   "id": "5a0505d5-e76e-4c79-81d1-21b6f30bad70",
   "metadata": {},
   "outputs": [
    {
     "data": {
      "text/plain": [
       "2"
      ]
     },
     "execution_count": 20,
     "metadata": {},
     "output_type": "execute_result"
    }
   ],
   "source": [
    "traiCay.count(\"Táo\")"
   ]
  },
  {
   "cell_type": "markdown",
   "id": "9b1a0a0f-a1cb-43c3-ae7b-bef2f7dd9393",
   "metadata": {},
   "source": [
    "Chúng ta có thể duyệt từng phần tử trog Tuple bằng vòng lặp"
   ]
  },
  {
   "cell_type": "code",
   "execution_count": 21,
   "id": "109c2c79-15ad-45e9-ac10-5eac326e70fe",
   "metadata": {},
   "outputs": [
    {
     "name": "stdout",
     "output_type": "stream",
     "text": [
      "Táo\n",
      "Chuối\n",
      "Táo\n",
      "Cam\n"
     ]
    }
   ],
   "source": [
    "for x in traiCay:\n",
    "    print(x)"
   ]
  },
  {
   "cell_type": "markdown",
   "id": "35051efd-c67f-4083-8177-293d8306a7c3",
   "metadata": {},
   "source": [
    "Cộng 2 Tuple"
   ]
  },
  {
   "cell_type": "code",
   "execution_count": 22,
   "id": "07e21cf7-e530-48ed-80ab-9210bc6744fc",
   "metadata": {},
   "outputs": [
    {
     "data": {
      "text/plain": [
       "(1, 2, 3, 4, 5, 6)"
      ]
     },
     "execution_count": 22,
     "metadata": {},
     "output_type": "execute_result"
    }
   ],
   "source": [
    "y = (1, 2, 3) + (4, 5, 6)\n",
    "y"
   ]
  },
  {
   "cell_type": "markdown",
   "id": "6d8761e1-9665-4b0d-9b65-75ef3bd01615",
   "metadata": {},
   "source": [
    "Nhân hai Tuple"
   ]
  },
  {
   "cell_type": "code",
   "execution_count": 23,
   "id": "46c50582-6113-4da3-930f-2016df375c20",
   "metadata": {},
   "outputs": [
    {
     "data": {
      "text/plain": [
       "(1, 3, 4, 1, 3, 4)"
      ]
     },
     "execution_count": 23,
     "metadata": {},
     "output_type": "execute_result"
    }
   ],
   "source": [
    "y = (1, 3, 4) * 2\n",
    "y"
   ]
  },
  {
   "cell_type": "code",
   "execution_count": 27,
   "id": "e09c34ca-1fd9-4169-bab7-380dedcc1e8a",
   "metadata": {},
   "outputs": [
    {
     "data": {
      "text/plain": [
       "(1, 4, 5, 1, 4, 5, 1, 4, 5)"
      ]
     },
     "execution_count": 27,
     "metadata": {},
     "output_type": "execute_result"
    }
   ],
   "source": [
    "y = (1, 4, 5) * 3\n",
    "y"
   ]
  },
  {
   "cell_type": "markdown",
   "id": "2d16dc84-9fc6-4a58-92dc-5c9739e30f82",
   "metadata": {},
   "source": [
    "Bạn có thể sử dụng toán tử in để kiểm tra xem 1 phần tử có tồn tại trong Tuple hay không?"
   ]
  },
  {
   "cell_type": "code",
   "execution_count": 29,
   "id": "8aec004c-4baa-4f23-ba92-36a9996dd048",
   "metadata": {},
   "outputs": [
    {
     "name": "stdout",
     "output_type": "stream",
     "text": [
      "True\n"
     ]
    }
   ],
   "source": [
    "print(\"Táo\" in traiCay)"
   ]
  },
  {
   "cell_type": "code",
   "execution_count": 30,
   "id": "639058ed-57e4-4f49-b31f-49355c12d6a9",
   "metadata": {},
   "outputs": [
    {
     "name": "stdout",
     "output_type": "stream",
     "text": [
      "False\n"
     ]
    }
   ],
   "source": [
    "print(\"Ôỉ\" in traiCay)"
   ]
  },
  {
   "cell_type": "markdown",
   "id": "971a9757-c86e-429b-ac40-b609abb91a63",
   "metadata": {},
   "source": [
    "Chúng ta cũng có thê lấy ra số lượng phàn tử của Tuple"
   ]
  },
  {
   "cell_type": "code",
   "execution_count": 31,
   "id": "80a99a70-5138-4676-91d4-4dfe0ac4a4c2",
   "metadata": {},
   "outputs": [
    {
     "name": "stdout",
     "output_type": "stream",
     "text": [
      "4\n"
     ]
    }
   ],
   "source": [
    "print(len(traiCay))"
   ]
  },
  {
   "cell_type": "markdown",
   "id": "cae292ff-11f3-474d-a463-a5eaeb6d6191",
   "metadata": {},
   "source": [
    "Tìm min, tìm max"
   ]
  },
  {
   "cell_type": "code",
   "execution_count": 32,
   "id": "26cf068b-8b79-4d62-b969-54e5037db24c",
   "metadata": {},
   "outputs": [
    {
     "name": "stdout",
     "output_type": "stream",
     "text": [
      "Nam\n"
     ]
    }
   ],
   "source": [
    "print(min(gioiTinh))"
   ]
  },
  {
   "cell_type": "code",
   "execution_count": 34,
   "id": "fd0bc2f7-d3c2-459b-b4dd-d74bf25639a4",
   "metadata": {},
   "outputs": [
    {
     "name": "stdout",
     "output_type": "stream",
     "text": [
      "78\n"
     ]
    }
   ],
   "source": [
    "print(sum(lopHoc))"
   ]
  },
  {
   "cell_type": "code",
   "execution_count": 35,
   "id": "22398cbc-6505-4451-a1fc-7dd358359c2c",
   "metadata": {},
   "outputs": [
    {
     "name": "stdout",
     "output_type": "stream",
     "text": [
      "Táo\n"
     ]
    }
   ],
   "source": [
    "print(max(traiCay))"
   ]
  },
  {
   "cell_type": "markdown",
   "id": "c49408cf-199e-44bb-abde-fdd57a7fc15e",
   "metadata": {},
   "source": [
    " Sắp xếp Tuple và chuyển về List"
   ]
  },
  {
   "cell_type": "code",
   "execution_count": 37,
   "id": "1600627a-c944-4eb0-b521-e445033a4fb1",
   "metadata": {},
   "outputs": [
    {
     "data": {
      "text/plain": [
       "['Cam', 'Chuối', 'Táo', 'Táo']"
      ]
     },
     "execution_count": 37,
     "metadata": {},
     "output_type": "execute_result"
    }
   ],
   "source": [
    "listTraiCay = sorted(traiCay)\n",
    "listTraiCay"
   ]
  },
  {
   "cell_type": "code",
   "execution_count": null,
   "id": "a3d7e304-d8da-4ac3-823b-8c566e8e7169",
   "metadata": {},
   "outputs": [],
   "source": []
  }
 ],
 "metadata": {
  "kernelspec": {
   "display_name": "Python 3 (ipykernel)",
   "language": "python",
   "name": "python3"
  },
  "language_info": {
   "codemirror_mode": {
    "name": "ipython",
    "version": 3
   },
   "file_extension": ".py",
   "mimetype": "text/x-python",
   "name": "python",
   "nbconvert_exporter": "python",
   "pygments_lexer": "ipython3",
   "version": "3.12.7"
  }
 },
 "nbformat": 4,
 "nbformat_minor": 5
}
