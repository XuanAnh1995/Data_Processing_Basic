{
 "cells": [
  {
   "cell_type": "raw",
   "id": "c5cad5df-56c6-4047-9852-a54a05201c45",
   "metadata": {},
   "source": [
    "# Dictionary : Từ điển\n",
    "Được sử dụng để lưu trữ các giá trị dữ liệu trong các cặp key : value\n",
    "Là 1 tập được sắp xếp theo thứ tự, có thể thay đổi và không cho phép trùng lặp key\n",
    "Kể từ phiên bản Python 3.7, các từ điển được sắp xếp theo thứ tự\n",
    "{key : value}"
   ]
  },
  {
   "cell_type": "code",
   "execution_count": 1,
   "id": "af7531f0-a12e-43e8-93f6-599d4e7ab8fb",
   "metadata": {},
   "outputs": [
    {
     "name": "stdout",
     "output_type": "stream",
     "text": [
      "{'hoVaTen': 'NGUYEN VAN A', 'maLop': 'DH001', 'diemTrungBinh': 8.5}\n"
     ]
    }
   ],
   "source": [
    "sinhVien = {\n",
    "    \"hoVaTen\" : \"NGUYEN VAN A\",\n",
    "    \"maLop\" : \"DH001\",\n",
    "    \"diemTrungBinh\" : 8.5\n",
    "}\n",
    "print(sinhVien)"
   ]
  },
  {
   "cell_type": "code",
   "execution_count": 6,
   "id": "006d10df-8bf2-4940-af8f-f5a6e7d24c3b",
   "metadata": {},
   "outputs": [
    {
     "name": "stdout",
     "output_type": "stream",
     "text": [
      "Họ và tên : NGUYEN VAN A\n"
     ]
    }
   ],
   "source": [
    "print(\"Họ và tên : \" + sinhVien[\"hoVaTen\"])"
   ]
  },
  {
   "cell_type": "code",
   "execution_count": 7,
   "id": "825a6a16-f398-4f44-a222-edf501b12fe8",
   "metadata": {},
   "outputs": [
    {
     "name": "stdout",
     "output_type": "stream",
     "text": [
      "Mã lớp : DH001\n"
     ]
    }
   ],
   "source": [
    "print(\"Mã lớp : \" + sinhVien[\"maLop\"] )"
   ]
  },
  {
   "cell_type": "code",
   "execution_count": 9,
   "id": "bfbf133f-eaae-4734-9d00-f61346887409",
   "metadata": {},
   "outputs": [
    {
     "name": "stdout",
     "output_type": "stream",
     "text": [
      "Điểm trung bình : 8.5\n"
     ]
    }
   ],
   "source": [
    "print(\"Điểm trung bình : \" + str(sinhVien[\"diemTrungBinh\"]))"
   ]
  },
  {
   "cell_type": "code",
   "execution_count": 11,
   "id": "1e7b6d06-31a9-4e70-9fc6-727f32b0e88b",
   "metadata": {},
   "outputs": [
    {
     "name": "stdout",
     "output_type": "stream",
     "text": [
      "Mã lớp : DH001\n"
     ]
    }
   ],
   "source": [
    "# Ngoài ra sử dụng get() lấy giá trị ta có kết quả tương tự\n",
    "print(\"Mã lớp : \" + sinhVien.get(\"maLop\"))"
   ]
  },
  {
   "cell_type": "code",
   "execution_count": 26,
   "id": "ddcb0358-6ebe-4ffe-8e01-78dc4120a914",
   "metadata": {},
   "outputs": [
    {
     "name": "stdout",
     "output_type": "stream",
     "text": [
      "Mã lớp : DH02\n",
      "{'hoVaTen': 'NGUYEN VAN A', 'diemTrungBinh': 5.5, 'maLop': 'DH03'}\n"
     ]
    }
   ],
   "source": [
    "# Thay đổi giá trị\n",
    "\n",
    "# Cách 1\n",
    "sinhVien[\"maLop\"] = \"DH02\"\n",
    "print(\"Mã lớp : \" + sinhVien.get(\"maLop\"))\n",
    "\n",
    "# Cách 2\n",
    "sinhVien.update({\n",
    "    \"maLop\" : \"DH03\",\n",
    "    \"diemTrungBinh\" : 5.5\n",
    "})\n",
    "print(sinhVien)"
   ]
  },
  {
   "cell_type": "code",
   "execution_count": 27,
   "id": "a6aed1d3-6a51-493e-81f5-3750a7ffb478",
   "metadata": {},
   "outputs": [
    {
     "name": "stdout",
     "output_type": "stream",
     "text": [
      "{'hoVaTen': 'NGUYEN VAN A', 'diemTrungBinh': 5.5, 'maLop': 'DH03', 'namHoc': 2024}\n",
      "{'hoVaTen': 'NGUYEN VAN A', 'diemTrungBinh': 5.5, 'maLop': 'DH03', 'namHoc': 2024, 'noiSinh': 'Hà Nội 2'}\n"
     ]
    }
   ],
   "source": [
    "#Thêm mục mới vào dictionary\n",
    "# cách 1\n",
    "sinhVien[\"namHoc\"] = 2024\n",
    "print(sinhVien)\n",
    "\n",
    "# cách 2\n",
    "sinhVien.update({\n",
    "    \"noiSinh\" : \"Hà Nội 2\"\n",
    "})\n",
    "print(sinhVien)"
   ]
  },
  {
   "cell_type": "code",
   "execution_count": 28,
   "id": "dea30160-4811-4d39-b260-4aa5cca61d6f",
   "metadata": {},
   "outputs": [
    {
     "name": "stdout",
     "output_type": "stream",
     "text": [
      "{'hoVaTen': 'NGUYEN VAN A', 'diemTrungBinh': 5.5, 'maLop': 'DH03', 'noiSinh': 'Hà Nội 2'}\n",
      "{'hoVaTen': 'NGUYEN VAN A', 'diemTrungBinh': 5.5, 'maLop': 'DH03'}\n",
      "{'hoVaTen': 'NGUYEN VAN A', 'diemTrungBinh': 5.5}\n"
     ]
    }
   ],
   "source": [
    "# Loại bỏ / Xóa các mục\n",
    "# pop(key)\n",
    "sinhVien.pop(\"namHoc\")\n",
    "print(sinhVien)\n",
    "\n",
    "# popitem(): Xóa mục được chèn cuối cùng\n",
    "sinhVien.popitem()\n",
    "print(sinhVien)\n",
    "\n",
    "# del khóa loại bỏ mục có tên khoa học được chỉ định, hoặc toàn bộ từ điển\n",
    "del sinhVien[\"maLop\"]\n",
    "print(sinhVien)"
   ]
  },
  {
   "cell_type": "code",
   "execution_count": 30,
   "id": "bacbba62-5239-493d-9fdb-7779bc06927d",
   "metadata": {},
   "outputs": [
    {
     "ename": "NameError",
     "evalue": "name 'sinhVien' is not defined",
     "output_type": "error",
     "traceback": [
      "\u001b[1;31m---------------------------------------------------------------------------\u001b[0m",
      "\u001b[1;31mNameError\u001b[0m                                 Traceback (most recent call last)",
      "Cell \u001b[1;32mIn[30], line 1\u001b[0m\n\u001b[1;32m----> 1\u001b[0m \u001b[38;5;28;01mdel\u001b[39;00m sinhVien\n",
      "\u001b[1;31mNameError\u001b[0m: name 'sinhVien' is not defined"
     ]
    }
   ],
   "source": [
    "del sinhVien"
   ]
  },
  {
   "cell_type": "code",
   "execution_count": 33,
   "id": "b21daae3-0e20-40f2-8191-35749cde77e0",
   "metadata": {},
   "outputs": [
    {
     "name": "stdout",
     "output_type": "stream",
     "text": [
      "{'hoVaTen': 'NGUYEN VAN A', 'maLop': 'DH001', 'diemTrungBinh': 8.5}\n"
     ]
    }
   ],
   "source": [
    "sinhVien = {\n",
    "    \"hoVaTen\" : \"NGUYEN VAN A\",\n",
    "    \"maLop\" : \"DH001\",\n",
    "    \"diemTrungBinh\" : 8.5\n",
    "}\n",
    "print(sinhVien)"
   ]
  },
  {
   "cell_type": "code",
   "execution_count": 32,
   "id": "6a9c0496-2d4e-40b2-911e-b2394a151486",
   "metadata": {},
   "outputs": [
    {
     "name": "stdout",
     "output_type": "stream",
     "text": [
      "{'hoVaTen': 'NGUYEN VAN A', 'maLop': 'DH001', 'diemTrungBinh': 8.5}\n",
      "{}\n"
     ]
    }
   ],
   "source": [
    "# Clear : Xóa hết dữ liệu trong dictionary\n",
    "print(sinhVien)\n",
    "\n",
    "sinhVien.clear()\n",
    "\n",
    "print(sinhVien)"
   ]
  },
  {
   "cell_type": "code",
   "execution_count": 37,
   "id": "89626c6d-4899-4994-bf4b-18ffb98b6b42",
   "metadata": {},
   "outputs": [
    {
     "name": "stdout",
     "output_type": "stream",
     "text": [
      "hoVaTen\n",
      "maLop\n",
      "diemTrungBinh\n",
      "NGUYEN VAN A\n",
      "DH001\n",
      "8.5\n",
      "hoVaTen\n",
      "maLop\n",
      "diemTrungBinh\n",
      "hoVaTen NGUYEN VAN A\n",
      "maLop DH001\n",
      "diemTrungBinh 8.5\n"
     ]
    }
   ],
   "source": [
    "# In tất cả các tên khóa trong từ điển, từng cái một:\n",
    "\n",
    "for x in sinhVien:\n",
    "    print(x)\n",
    "\n",
    "# Duyệt các giá trị \n",
    "\n",
    "for x in sinhVien.values():\n",
    "    print(x)\n",
    "\n",
    "# Duyệt các khóa\n",
    "\n",
    "for x in sinhVien.keys():\n",
    "    print(x)\n",
    "\n",
    "# Duyệt các cặp khóa - giá trị\n",
    "for x, y in sinhVien.items():\n",
    "    print(x, y)"
   ]
  },
  {
   "cell_type": "code",
   "execution_count": null,
   "id": "a1de0bd8-52d1-4925-83a2-55973be3c0a0",
   "metadata": {},
   "outputs": [],
   "source": []
  }
 ],
 "metadata": {
  "kernelspec": {
   "display_name": "Python 3 (ipykernel)",
   "language": "python",
   "name": "python3"
  },
  "language_info": {
   "codemirror_mode": {
    "name": "ipython",
    "version": 3
   },
   "file_extension": ".py",
   "mimetype": "text/x-python",
   "name": "python",
   "nbconvert_exporter": "python",
   "pygments_lexer": "ipython3",
   "version": "3.12.7"
  }
 },
 "nbformat": 4,
 "nbformat_minor": 5
}
