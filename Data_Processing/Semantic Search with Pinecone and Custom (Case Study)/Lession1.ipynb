{
 "cells": [
  {
   "cell_type": "code",
   "execution_count": 1,
   "id": "57bdfb78-fd46-4e57-a660-4577250551d3",
   "metadata": {},
   "outputs": [],
   "source": [
    "import pandas as pd\n",
    "import os\n",
    "from pinecone import Pinecone, ServerlessSpec\n",
    "from dotenv import load_dotenv, find_dotenv\n",
    "import pinecone\n",
    "from sentence_transformers import SentenceTransformer"
   ]
  },
  {
   "cell_type": "code",
   "execution_count": 2,
   "id": "3ff0d849-8dd5-492c-aca5-fee3c3f89a76",
   "metadata": {},
   "outputs": [],
   "source": [
    "files = pd.read_csv(\"course_descriptions.csv\", encoding= \"ANSI\")"
   ]
  },
  {
   "cell_type": "code",
   "execution_count": 3,
   "id": "325bdc0f-86a8-45c0-881e-67e7673c05f4",
   "metadata": {},
   "outputs": [
    {
     "data": {
      "text/html": [
       "<div>\n",
       "<style scoped>\n",
       "    .dataframe tbody tr th:only-of-type {\n",
       "        vertical-align: middle;\n",
       "    }\n",
       "\n",
       "    .dataframe tbody tr th {\n",
       "        vertical-align: top;\n",
       "    }\n",
       "\n",
       "    .dataframe thead th {\n",
       "        text-align: right;\n",
       "    }\n",
       "</style>\n",
       "<table border=\"1\" class=\"dataframe\">\n",
       "  <thead>\n",
       "    <tr style=\"text-align: right;\">\n",
       "      <th></th>\n",
       "      <th>course_name</th>\n",
       "      <th>course_slug</th>\n",
       "      <th>course_technology</th>\n",
       "      <th>course_description</th>\n",
       "      <th>course_topic</th>\n",
       "      <th>course_description_short</th>\n",
       "    </tr>\n",
       "  </thead>\n",
       "  <tbody>\n",
       "    <tr>\n",
       "      <th>0</th>\n",
       "      <td>Introduction to Tableau</td>\n",
       "      <td>tableau</td>\n",
       "      <td>tableau</td>\n",
       "      <td>Tableau is now one of the most popular busines...</td>\n",
       "      <td>data visualization</td>\n",
       "      <td>Teaching you how to tell compelling stories wi...</td>\n",
       "    </tr>\n",
       "    <tr>\n",
       "      <th>1</th>\n",
       "      <td>The Complete Data Visualization Course with Py...</td>\n",
       "      <td>data-visualization</td>\n",
       "      <td>python</td>\n",
       "      <td>The Data Visualization course is designed for ...</td>\n",
       "      <td>data visualization</td>\n",
       "      <td>Teaching you how to master the art of creating...</td>\n",
       "    </tr>\n",
       "    <tr>\n",
       "      <th>2</th>\n",
       "      <td>Introduction to R Programming</td>\n",
       "      <td>introduction-to-r-programming</td>\n",
       "      <td>r</td>\n",
       "      <td>R is one of the best programming languages spe...</td>\n",
       "      <td>programming</td>\n",
       "      <td>Providing you with the skills to manipulate, a...</td>\n",
       "    </tr>\n",
       "    <tr>\n",
       "      <th>3</th>\n",
       "      <td>Data Preprocessing with NumPy</td>\n",
       "      <td>data-preprocessing-numpy</td>\n",
       "      <td>python</td>\n",
       "      <td>This course is designed to show you how to wor...</td>\n",
       "      <td>data processing</td>\n",
       "      <td>This course will guide you through one of Pyth...</td>\n",
       "    </tr>\n",
       "    <tr>\n",
       "      <th>4</th>\n",
       "      <td>Introduction to Data and Data Science</td>\n",
       "      <td>intro-to-data-and-data-science</td>\n",
       "      <td>theory</td>\n",
       "      <td>Working with data is an essential part of main...</td>\n",
       "      <td>machine learning</td>\n",
       "      <td>Introducing you to the field of data science a...</td>\n",
       "    </tr>\n",
       "  </tbody>\n",
       "</table>\n",
       "</div>"
      ],
      "text/plain": [
       "                                         course_name  \\\n",
       "0                            Introduction to Tableau   \n",
       "1  The Complete Data Visualization Course with Py...   \n",
       "2                      Introduction to R Programming   \n",
       "3                      Data Preprocessing with NumPy   \n",
       "4              Introduction to Data and Data Science   \n",
       "\n",
       "                      course_slug course_technology  \\\n",
       "0                         tableau           tableau   \n",
       "1              data-visualization            python   \n",
       "2   introduction-to-r-programming                 r   \n",
       "3        data-preprocessing-numpy            python   \n",
       "4  intro-to-data-and-data-science            theory   \n",
       "\n",
       "                                  course_description        course_topic  \\\n",
       "0  Tableau is now one of the most popular busines...  data visualization   \n",
       "1  The Data Visualization course is designed for ...  data visualization   \n",
       "2  R is one of the best programming languages spe...         programming   \n",
       "3  This course is designed to show you how to wor...     data processing   \n",
       "4  Working with data is an essential part of main...    machine learning   \n",
       "\n",
       "                            course_description_short  \n",
       "0  Teaching you how to tell compelling stories wi...  \n",
       "1  Teaching you how to master the art of creating...  \n",
       "2  Providing you with the skills to manipulate, a...  \n",
       "3  This course will guide you through one of Pyth...  \n",
       "4  Introducing you to the field of data science a...  "
      ]
     },
     "execution_count": 3,
     "metadata": {},
     "output_type": "execute_result"
    }
   ],
   "source": [
    "files.head()"
   ]
  },
  {
   "cell_type": "code",
   "execution_count": 4,
   "id": "59f68484-4ef5-4fb3-b8e7-a8f38279c0fb",
   "metadata": {},
   "outputs": [
    {
     "name": "stdout",
     "output_type": "stream",
     "text": [
      "<class 'pandas.core.frame.DataFrame'>\n",
      "RangeIndex: 106 entries, 0 to 105\n",
      "Data columns (total 6 columns):\n",
      " #   Column                    Non-Null Count  Dtype \n",
      "---  ------                    --------------  ----- \n",
      " 0   course_name               106 non-null    object\n",
      " 1   course_slug               106 non-null    object\n",
      " 2   course_technology         106 non-null    object\n",
      " 3   course_description        106 non-null    object\n",
      " 4   course_topic              106 non-null    object\n",
      " 5   course_description_short  106 non-null    object\n",
      "dtypes: object(6)\n",
      "memory usage: 5.1+ KB\n"
     ]
    }
   ],
   "source": [
    "files.info()"
   ]
  },
  {
   "cell_type": "code",
   "execution_count": 5,
   "id": "88df9f1f-47b8-4686-b3d3-a7b768215d4d",
   "metadata": {},
   "outputs": [],
   "source": [
    "def create_course_description(row):\n",
    "    return f'''The course name is {row[\"course_name\"]}, the slug is {row[\"course_slug\"]},\n",
    "            the technology is {row[\"course_technology\"]} and the course topic is {row[\"course_topic\"]}'''"
   ]
  },
  {
   "cell_type": "code",
   "execution_count": 6,
   "id": "39445aca-c59f-4782-b9ac-93965483b747",
   "metadata": {},
   "outputs": [
    {
     "name": "stdout",
     "output_type": "stream",
     "text": [
      "0      The course name is Introduction to Tableau, th...\n",
      "1      The course name is The Complete Data Visualiza...\n",
      "2      The course name is Introduction to R Programmi...\n",
      "3      The course name is Data Preprocessing with Num...\n",
      "4      The course name is Introduction to Data and Da...\n",
      "                             ...                        \n",
      "101    The course name is Intro to NLP for AI, the sl...\n",
      "102    The course name is Data Analysis with ChatGPT,...\n",
      "103    The course name is ChatGPT for Data Science, t...\n",
      "104    The course name is Intro to LLMs, the slug is ...\n",
      "105    The course name is Growth Analysis with SQL, P...\n",
      "Name: course_description_new, Length: 106, dtype: object\n"
     ]
    }
   ],
   "source": [
    "files['course_description_new'] = files.apply(create_course_description, axis = 1)\n",
    "print(files[\"course_description_new\"])"
   ]
  },
  {
   "cell_type": "code",
   "execution_count": 7,
   "id": "a67537b2-eba4-45e9-b919-9358a8f251b0",
   "metadata": {},
   "outputs": [
    {
     "data": {
      "text/plain": [
       "'The course name is Introduction to Tableau, the slug is tableau,\\n            the technology is tableau and the course topic is data visualization'"
      ]
     },
     "execution_count": 7,
     "metadata": {},
     "output_type": "execute_result"
    }
   ],
   "source": [
    "files['course_description_new'][0]"
   ]
  },
  {
   "cell_type": "code",
   "execution_count": 8,
   "id": "9c695fd8-a8ac-480a-b95e-327d25084d8d",
   "metadata": {},
   "outputs": [],
   "source": [
    "%load_ext dotenv\n",
    "%dotenv"
   ]
  },
  {
   "cell_type": "code",
   "execution_count": 9,
   "id": "f69d5f41-b4b8-4cc2-91d0-c318adfe851a",
   "metadata": {},
   "outputs": [
    {
     "data": {
      "text/plain": [
       "True"
      ]
     },
     "execution_count": 9,
     "metadata": {},
     "output_type": "execute_result"
    }
   ],
   "source": [
    "load_dotenv(find_dotenv(), override= True)"
   ]
  },
  {
   "cell_type": "code",
   "execution_count": 10,
   "id": "7a8c2e6b-4d4b-46c8-8306-a91660580498",
   "metadata": {},
   "outputs": [],
   "source": [
    "pc = Pinecone(api_key= os.environ.get(\"PINECONE_API_KEY\"), environment = os.environ.get(\"PINECONE_ENV\"))"
   ]
  },
  {
   "cell_type": "code",
   "execution_count": 11,
   "id": "90ae4984-c34c-4fe3-aac2-39b12874839f",
   "metadata": {},
   "outputs": [],
   "source": [
    "index_name = \"my-index\"\n",
    "dimension = 384\n",
    "metric = \"cosine\""
   ]
  },
  {
   "cell_type": "code",
   "execution_count": 12,
   "id": "b48528ce-c34b-493e-89fa-d70d25df0319",
   "metadata": {},
   "outputs": [
    {
     "name": "stdout",
     "output_type": "stream",
     "text": [
      "my-index successfully delete\n"
     ]
    }
   ],
   "source": [
    "if index_name in [index.name for index in pc.list_indexes()]:\n",
    "    pc.delete_index(index_name)\n",
    "    print(f\"{index_name} successfully delete\")\n",
    "else :\n",
    "    print(f\"{index_name} not in index list\")"
   ]
  },
  {
   "cell_type": "code",
   "execution_count": 13,
   "id": "1f6890f3-cb3d-4234-9bde-8c0f78d194db",
   "metadata": {},
   "outputs": [
    {
     "data": {
      "text/plain": [
       "{\n",
       "    \"name\": \"my-index\",\n",
       "    \"metric\": \"cosine\",\n",
       "    \"host\": \"my-index-03idc8k.svc.aped-4627-b74a.pinecone.io\",\n",
       "    \"spec\": {\n",
       "        \"serverless\": {\n",
       "            \"cloud\": \"aws\",\n",
       "            \"region\": \"us-east-1\"\n",
       "        }\n",
       "    },\n",
       "    \"status\": {\n",
       "        \"ready\": true,\n",
       "        \"state\": \"Ready\"\n",
       "    },\n",
       "    \"vector_type\": \"dense\",\n",
       "    \"dimension\": 384,\n",
       "    \"deletion_protection\": \"disabled\",\n",
       "    \"tags\": null\n",
       "}"
      ]
     },
     "execution_count": 13,
     "metadata": {},
     "output_type": "execute_result"
    }
   ],
   "source": [
    "pc.create_index(\n",
    "    name= index_name,\n",
    "    dimension= dimension,\n",
    "    metric= metric,\n",
    "    spec= ServerlessSpec(\n",
    "        cloud= \"aws\",\n",
    "        region= \"us-east-1\"\n",
    "    )\n",
    ")"
   ]
  },
  {
   "cell_type": "code",
   "execution_count": 14,
   "id": "f498bff1-9a36-40e0-83ce-acf169c27cfa",
   "metadata": {},
   "outputs": [],
   "source": [
    "index = pc.Index(index_name)"
   ]
  },
  {
   "cell_type": "raw",
   "id": "4325fc99-e439-47fc-81b0-512a874cf356",
   "metadata": {},
   "source": [
    "Embedding the data"
   ]
  },
  {
   "cell_type": "code",
   "execution_count": 15,
   "id": "fc2d362c-9d3d-4dc9-b6ce-72e67f225808",
   "metadata": {},
   "outputs": [],
   "source": [
    "model = SentenceTransformer(\"all-MiniLM-L6-v2\")"
   ]
  },
  {
   "cell_type": "code",
   "execution_count": 16,
   "id": "714acb00-51b2-4a99-89ba-97a5c06ff68d",
   "metadata": {},
   "outputs": [],
   "source": [
    "def create_embedding(row):\n",
    "    combined_text = ' '.join(str(row[field]) for field in ['course_description', 'course_description_new', 'course_description_short'])\n",
    "    embedding = model.encode(combined_text, show_progress_bar= False)\n",
    "    return embedding"
   ]
  },
  {
   "cell_type": "code",
   "execution_count": 17,
   "id": "a98448c6-7097-44dc-ad2f-8f871d4564bd",
   "metadata": {},
   "outputs": [],
   "source": [
    "files[\"embedding\"] = files.apply(create_embedding, axis = 1)"
   ]
  },
  {
   "cell_type": "code",
   "execution_count": 18,
   "id": "1673c58e-f7e0-4682-8055-026c4af8365c",
   "metadata": {},
   "outputs": [
    {
     "name": "stdout",
     "output_type": "stream",
     "text": [
      "Data upsert to Pinecone index\n"
     ]
    }
   ],
   "source": [
    "vectors_to_upsert = [(str(row[\"course_name\"]), row[\"embedding\"].tolist()) for _, row in files.iterrows()]\n",
    "index.upsert(vectors = vectors_to_upsert)\n",
    "print(\"Data upsert to Pinecone index\")"
   ]
  },
  {
   "cell_type": "raw",
   "id": "df2b9bad-37fa-4fcd-afeb-304af7fb9ef0",
   "metadata": {},
   "source": [
    "Semantic search"
   ]
  },
  {
   "cell_type": "code",
   "execution_count": 19,
   "id": "fc0ae09a-08f3-4490-9b03-a92a6a64af05",
   "metadata": {},
   "outputs": [],
   "source": [
    "query = \"clustering\"\n",
    "query_embedding = model.encode(query, show_progress_bar=False).tolist()"
   ]
  },
  {
   "cell_type": "code",
   "execution_count": 20,
   "id": "6a0985b3-338c-4acd-ba8b-4f8cde21f7b4",
   "metadata": {},
   "outputs": [],
   "source": [
    "query_results = index.query(\n",
    "    vector= [query_embedding],\n",
    "    top_k= 12,\n",
    "    include_metadata= True\n",
    ")"
   ]
  },
  {
   "cell_type": "code",
   "execution_count": 21,
   "id": "3770935f-f6ab-4ce8-881f-35f5ceccff8a",
   "metadata": {},
   "outputs": [
    {
     "data": {
      "text/plain": [
       "{'matches': [], 'namespace': '', 'usage': {'read_units': 1}}"
      ]
     },
     "execution_count": 21,
     "metadata": {},
     "output_type": "execute_result"
    }
   ],
   "source": [
    "query_results"
   ]
  },
  {
   "cell_type": "code",
   "execution_count": 22,
   "id": "d1b428dc-58d6-4eb0-8926-37f29045e15d",
   "metadata": {},
   "outputs": [],
   "source": [
    "score_threshold = 0.3\n",
    "for match in query_results[\"matches\"]:\n",
    "    if match['score'] >= score_threshold:\n",
    "        print(f\"Matched item ID: {match['id']}, score: {match['score']}\")"
   ]
  },
  {
   "cell_type": "code",
   "execution_count": null,
   "id": "b2d153ae-48bf-4e52-8fad-14fce0a164b8",
   "metadata": {},
   "outputs": [],
   "source": []
  },
  {
   "cell_type": "code",
   "execution_count": null,
   "id": "5764f1ec-2985-4663-a49b-c0c36ce6aecf",
   "metadata": {},
   "outputs": [],
   "source": []
  },
  {
   "cell_type": "code",
   "execution_count": null,
   "id": "7bda4de0-f3a8-462e-a09e-c18dd30c035f",
   "metadata": {},
   "outputs": [],
   "source": []
  }
 ],
 "metadata": {
  "kernelspec": {
   "display_name": "Python 3 (ipykernel)",
   "language": "python",
   "name": "python3"
  },
  "language_info": {
   "codemirror_mode": {
    "name": "ipython",
    "version": 3
   },
   "file_extension": ".py",
   "mimetype": "text/x-python",
   "name": "python",
   "nbconvert_exporter": "python",
   "pygments_lexer": "ipython3",
   "version": "3.12.7"
  }
 },
 "nbformat": 4,
 "nbformat_minor": 5
}
