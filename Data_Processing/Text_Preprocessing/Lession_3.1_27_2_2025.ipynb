{
 "cells": [
  {
   "cell_type": "code",
   "execution_count": 1,
   "id": "80c9050c-2eb0-47f0-b4e7-cfb44cc2e8f8",
   "metadata": {},
   "outputs": [],
   "source": [
    "import nltk\n",
    "import pandas as pd\n",
    "import matplotlib.pyplot as plt"
   ]
  },
  {
   "cell_type": "code",
   "execution_count": 2,
   "id": "6ab30649-2ce6-45b7-8fbd-c1d372ace148",
   "metadata": {},
   "outputs": [
    {
     "name": "stdout",
     "output_type": "stream",
     "text": [
      "['the', 'rise', 'of', 'artificial', 'intelligence', 'has', 'led', 'to', 'significant', 'advancements', 'in', 'natural', 'language', 'processing', 'computer', 'vision', 'and', 'other', 'fields', 'machine', 'learning', 'algorithms', 'are', 'becoming', 'more', 'sophisticated', 'enabling', 'computers', 'to', 'perform', 'complex', 'tasks', 'that', 'were', 'once', 'thought', 'to', 'be', 'the', 'exclusive', 'domain', 'of', 'humans', 'with', 'the', 'advent', 'of', 'deep', 'learning', 'neural', 'networks', 'have', 'become', 'even', 'more', 'powerful', 'capable', 'of', 'processing', 'vast', 'amounts', 'of', 'data', 'and', 'learning', 'from', 'it', 'in', 'ways', 'that', 'were', 'not', 'possible', 'before', 'as', 'a', 'result', 'ai', 'is', 'increasingly', 'being', 'used', 'in', 'a', 'wide', 'range', 'of', 'industries', 'from', 'healthcare', 'to', 'finance', 'to', 'transportation', 'and', 'its', 'impact', 'is', 'only', 'set', 'to', 'grow', 'in', 'the', 'years', 'to', 'come']\n"
     ]
    }
   ],
   "source": [
    "tokens = ['the', 'rise', 'of', 'artificial', 'intelligence', 'has', 'led', 'to', 'significant', 'advancements', 'in', 'natural', 'language', 'processing', 'computer', 'vision', 'and', 'other', 'fields', 'machine', 'learning', 'algorithms', 'are', 'becoming', 'more', 'sophisticated', 'enabling', 'computers', 'to', 'perform', 'complex', 'tasks', 'that', 'were', 'once', 'thought', 'to', 'be', 'the', 'exclusive', 'domain', 'of', 'humans', 'with', 'the', 'advent', 'of', 'deep', 'learning', 'neural', 'networks', 'have', 'become', 'even', 'more', 'powerful', 'capable', 'of', 'processing', 'vast', 'amounts', 'of', 'data', 'and', 'learning', 'from', 'it', 'in', 'ways', 'that', 'were', 'not', 'possible', 'before', 'as', 'a', 'result', 'ai', 'is', 'increasingly', 'being', 'used', 'in', 'a', 'wide', 'range', 'of', 'industries', 'from', 'healthcare', 'to', 'finance', 'to', 'transportation', 'and', 'its', 'impact', 'is', 'only', 'set', 'to', 'grow', 'in', 'the', 'years', 'to', 'come']\n",
    "print(tokens)"
   ]
  },
  {
   "cell_type": "code",
   "execution_count": 3,
   "id": "a2144e59-2a6b-4365-8650-8aa072e17f30",
   "metadata": {},
   "outputs": [
    {
     "name": "stdout",
     "output_type": "stream",
     "text": [
      "(to,)          7\n",
      "(of,)          6\n",
      "(the,)         4\n",
      "(in,)          4\n",
      "(learning,)    3\n",
      "              ..\n",
      "(humans,)      1\n",
      "(rise,)        1\n",
      "(advent,)      1\n",
      "(deep,)        1\n",
      "(come,)        1\n",
      "Name: count, Length: 79, dtype: int64\n"
     ]
    }
   ],
   "source": [
    "unigrams = (pd.Series(nltk.ngrams(tokens, 1)).value_counts())\n",
    "print(unigrams)"
   ]
  },
  {
   "cell_type": "code",
   "execution_count": 4,
   "id": "98e83ca0-a539-4126-956e-fa13418f051f",
   "metadata": {},
   "outputs": [
    {
     "data": {
      "text/plain": [
       "Text(0.5, 1.0, '10 Most requently Occuring Unigrams')"
      ]
     },
     "execution_count": 4,
     "metadata": {},
     "output_type": "execute_result"
    },
    {
     "data": {
      "image/png": "[encoded data removed]",
      "text/plain": [
       "<Figure size 1200x800 with 1 Axes>"
      ]
     },
     "metadata": {},
     "output_type": "display_data"
    }
   ],
   "source": [
    "# Sắp xếp & vẽ biểu đồ\n",
    "ax = unigrams[:10].sort_values().plot.barh(color=\"lightsalmon\", width = 9, figsize = (12, 8))\n",
    "# Đặt tiêu đề\n",
    "plt.title(\"10 Most requently Occuring Unigrams\")"
   ]
  },
  {
   "cell_type": "code",
   "execution_count": 5,
   "id": "3adfe64c-b442-4a25-a8ef-64e50af400da",
   "metadata": {
    "scrolled": true
   },
   "outputs": [
    {
     "name": "stdout",
     "output_type": "stream",
     "text": [
      "(that, were)             2\n",
      "(the, rise)              1\n",
      "(increasingly, being)    1\n",
      "(ai, is)                 1\n",
      "(result, ai)             1\n",
      "(a, result)              1\n",
      "(as, a)                  1\n",
      "(before, as)             1\n",
      "(possible, before)       1\n",
      "(not, possible)          1\n",
      "Name: count, dtype: int64\n"
     ]
    }
   ],
   "source": [
    "bigrams = (pd.Series(nltk.ngrams(tokens, 2)).value_counts())\n",
    "print(bigrams[:10])"
   ]
  },
  {
   "cell_type": "code",
   "execution_count": 7,
   "id": "a4b15a6d-1d45-4c24-ac54-a86899c508c2",
   "metadata": {},
   "outputs": [
    {
     "name": "stdout",
     "output_type": "stream",
     "text": [
      "(the, rise, of)            1\n",
      "(even, more, powerful)     1\n",
      "(ai, is, increasingly)     1\n",
      "(result, ai, is)           1\n",
      "(a, result, ai)            1\n",
      "(as, a, result)            1\n",
      "(before, as, a)            1\n",
      "(possible, before, as)     1\n",
      "(not, possible, before)    1\n",
      "(were, not, possible)      1\n",
      "Name: count, dtype: int64\n"
     ]
    }
   ],
   "source": [
    "trigrams = (pd.Series(nltk.ngrams(tokens, 3)).value_counts())\n",
    "print(trigrams[:10])"
   ]
  },
  {
   "cell_type": "code",
   "execution_count": null,
   "id": "30a0ea4f-c162-439b-be8b-5ac1609d08f8",
   "metadata": {},
   "outputs": [],
   "source": [
    " "
   ]
  }
 ],
 "metadata": {
  "kernelspec": {
   "display_name": "Python 3 (ipykernel)",
   "language": "python",
   "name": "python3"
  },
  "language_info": {
   "codemirror_mode": {
    "name": "ipython",
    "version": 3
   },
   "file_extension": ".py",
   "mimetype": "text/x-python",
   "name": "python",
   "nbconvert_exporter": "python",
   "pygments_lexer": "ipython3",
   "version": "3.12.7"
  },
  "panel-cell-order": [
   "42b3a8f8-bac0-4e91-9e24-2a80fc31ced0"
  ]
 },
 "nbformat": 4,
 "nbformat_minor": 5
}
