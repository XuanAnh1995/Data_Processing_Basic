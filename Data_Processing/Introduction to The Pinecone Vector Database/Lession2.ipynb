{
 "cells": [
  {
   "cell_type": "code",
   "execution_count": 1,
   "id": "a043707b-8f79-4354-9a41-6132245bf7a9",
   "metadata": {},
   "outputs": [],
   "source": [
    "from datasets import load_dataset\n",
    "from dotenv import load_dotenv, find_dotenv\n",
    "import pinecone\n",
    "from pinecone import Pinecone, ServerlessSpec\n",
    "import os\n",
    "from sentence_transformers import SentenceTransformer"
   ]
  },
  {
   "cell_type": "code",
   "execution_count": 2,
   "id": "da4da0fd-5144-4c13-90f6-bc98857f69c6",
   "metadata": {},
   "outputs": [
    {
     "data": {
      "application/vnd.jupyter.widget-view+json": {
       "model_id": "320b1f9d4a6d4959944bd5c143456350",
       "version_major": 2,
       "version_minor": 0
      },
      "text/plain": [
       "Resolving data files:   0%|          | 0/25868 [00:00<?, ?it/s]"
      ]
     },
     "metadata": {},
     "output_type": "display_data"
    }
   ],
   "source": [
    "fw = load_dataset(\"HuggingFaceFW/fineweb\", name= \"sample-10BT\", split= \"train\", streaming= True)"
   ]
  },
  {
   "cell_type": "code",
   "execution_count": 3,
   "id": "272dcf53-cd2f-4934-a3df-ab301aee7d11",
   "metadata": {},
   "outputs": [
    {
     "data": {
      "text/plain": [
       "IterableDataset({\n",
       "    features: ['text', 'id', 'dump', 'url', 'date', 'file_path', 'language', 'language_score', 'token_count'],\n",
       "    num_shards: 15\n",
       "})"
      ]
     },
     "execution_count": 3,
     "metadata": {},
     "output_type": "execute_result"
    }
   ],
   "source": [
    "fw"
   ]
  },
  {
   "cell_type": "code",
   "execution_count": 4,
   "id": "2ed30cdb-8fd6-4d87-b97e-b0baa2d852e8",
   "metadata": {},
   "outputs": [],
   "source": [
    "model = SentenceTransformer(\"all-MiniLM-L6-v2\")"
   ]
  },
  {
   "cell_type": "code",
   "execution_count": 5,
   "id": "e0a8c400-ffe1-41ec-9de4-0b34b0d83cde",
   "metadata": {},
   "outputs": [
    {
     "data": {
      "text/plain": [
       "True"
      ]
     },
     "execution_count": 5,
     "metadata": {},
     "output_type": "execute_result"
    }
   ],
   "source": [
    "load_dotenv(find_dotenv(), override= True)"
   ]
  },
  {
   "cell_type": "code",
   "execution_count": 6,
   "id": "380dfa92-6959-42db-b560-06dcc51d9fa8",
   "metadata": {},
   "outputs": [],
   "source": [
    "pc = Pinecone(api_key= os.environ.get(\"PINECONE_API_KEY\"), enviroment = os.environ.get(\"PINECONE_ENV\"))"
   ]
  },
  {
   "cell_type": "code",
   "execution_count": 7,
   "id": "1ec63879-766b-4a65-b0ee-bc160645c18d",
   "metadata": {},
   "outputs": [
    {
     "data": {
      "text/plain": [
       "[\n",
       "    {\n",
       "        \"name\": \"text\",\n",
       "        \"metric\": \"cosine\",\n",
       "        \"host\": \"text-03idc8k.svc.aped-4627-b74a.pinecone.io\",\n",
       "        \"spec\": {\n",
       "            \"serverless\": {\n",
       "                \"cloud\": \"aws\",\n",
       "                \"region\": \"us-east-1\"\n",
       "            }\n",
       "        },\n",
       "        \"status\": {\n",
       "            \"ready\": true,\n",
       "            \"state\": \"Ready\"\n",
       "        },\n",
       "        \"vector_type\": \"dense\",\n",
       "        \"dimension\": 384,\n",
       "        \"deletion_protection\": \"disabled\",\n",
       "        \"tags\": null\n",
       "    },\n",
       "    {\n",
       "        \"name\": \"my-index-3\",\n",
       "        \"metric\": \"dotproduct\",\n",
       "        \"host\": \"my-index-3-03idc8k.svc.aped-4627-b74a.pinecone.io\",\n",
       "        \"spec\": {\n",
       "            \"serverless\": {\n",
       "                \"cloud\": \"aws\",\n",
       "                \"region\": \"us-east-1\"\n",
       "            }\n",
       "        },\n",
       "        \"status\": {\n",
       "            \"ready\": true,\n",
       "            \"state\": \"Ready\"\n",
       "        },\n",
       "        \"vector_type\": \"dense\",\n",
       "        \"dimension\": 1000,\n",
       "        \"deletion_protection\": \"disabled\",\n",
       "        \"tags\": null\n",
       "    },\n",
       "    {\n",
       "        \"name\": \"my-index-2\",\n",
       "        \"metric\": \"euclidean\",\n",
       "        \"host\": \"my-index-2-03idc8k.svc.aped-4627-b74a.pinecone.io\",\n",
       "        \"spec\": {\n",
       "            \"serverless\": {\n",
       "                \"cloud\": \"aws\",\n",
       "                \"region\": \"us-east-1\"\n",
       "            }\n",
       "        },\n",
       "        \"status\": {\n",
       "            \"ready\": true,\n",
       "            \"state\": \"Ready\"\n",
       "        },\n",
       "        \"vector_type\": \"dense\",\n",
       "        \"dimension\": 1536,\n",
       "        \"deletion_protection\": \"disabled\",\n",
       "        \"tags\": null\n",
       "    },\n",
       "    {\n",
       "        \"name\": \"my-index\",\n",
       "        \"metric\": \"cosine\",\n",
       "        \"host\": \"my-index-03idc8k.svc.aped-4627-b74a.pinecone.io\",\n",
       "        \"spec\": {\n",
       "            \"serverless\": {\n",
       "                \"cloud\": \"aws\",\n",
       "                \"region\": \"us-east-1\"\n",
       "            }\n",
       "        },\n",
       "        \"status\": {\n",
       "            \"ready\": true,\n",
       "            \"state\": \"Ready\"\n",
       "        },\n",
       "        \"vector_type\": \"dense\",\n",
       "        \"dimension\": 3,\n",
       "        \"deletion_protection\": \"disabled\",\n",
       "        \"tags\": null\n",
       "    }\n",
       "]"
      ]
     },
     "execution_count": 7,
     "metadata": {},
     "output_type": "execute_result"
    }
   ],
   "source": [
    "pc.list_indexes()"
   ]
  },
  {
   "cell_type": "raw",
   "id": "6d92df6d-17e9-48f2-9265-2cdfb23b038f",
   "metadata": {},
   "source": [
    "pc.create_index(\n",
    "    name=\"text\",\n",
    "    dimension=model.get_sentence_embedding_dimension(),\n",
    "    metric=\"cosine\",\n",
    "    spec=ServerlessSpec(\n",
    "        cloud='aws',\n",
    "        region='us-east-1'\n",
    "    )\n",
    ")"
   ]
  },
  {
   "cell_type": "code",
   "execution_count": 9,
   "id": "cc6700b9-47df-44e5-a866-9dda262d3be4",
   "metadata": {},
   "outputs": [
    {
     "data": {
      "text/plain": [
       "[\n",
       "    {\n",
       "        \"name\": \"text\",\n",
       "        \"metric\": \"cosine\",\n",
       "        \"host\": \"text-03idc8k.svc.aped-4627-b74a.pinecone.io\",\n",
       "        \"spec\": {\n",
       "            \"serverless\": {\n",
       "                \"cloud\": \"aws\",\n",
       "                \"region\": \"us-east-1\"\n",
       "            }\n",
       "        },\n",
       "        \"status\": {\n",
       "            \"ready\": true,\n",
       "            \"state\": \"Ready\"\n",
       "        },\n",
       "        \"vector_type\": \"dense\",\n",
       "        \"dimension\": 384,\n",
       "        \"deletion_protection\": \"disabled\",\n",
       "        \"tags\": null\n",
       "    },\n",
       "    {\n",
       "        \"name\": \"my-index-3\",\n",
       "        \"metric\": \"dotproduct\",\n",
       "        \"host\": \"my-index-3-03idc8k.svc.aped-4627-b74a.pinecone.io\",\n",
       "        \"spec\": {\n",
       "            \"serverless\": {\n",
       "                \"cloud\": \"aws\",\n",
       "                \"region\": \"us-east-1\"\n",
       "            }\n",
       "        },\n",
       "        \"status\": {\n",
       "            \"ready\": true,\n",
       "            \"state\": \"Ready\"\n",
       "        },\n",
       "        \"vector_type\": \"dense\",\n",
       "        \"dimension\": 1000,\n",
       "        \"deletion_protection\": \"disabled\",\n",
       "        \"tags\": null\n",
       "    },\n",
       "    {\n",
       "        \"name\": \"my-index-2\",\n",
       "        \"metric\": \"euclidean\",\n",
       "        \"host\": \"my-index-2-03idc8k.svc.aped-4627-b74a.pinecone.io\",\n",
       "        \"spec\": {\n",
       "            \"serverless\": {\n",
       "                \"cloud\": \"aws\",\n",
       "                \"region\": \"us-east-1\"\n",
       "            }\n",
       "        },\n",
       "        \"status\": {\n",
       "            \"ready\": true,\n",
       "            \"state\": \"Ready\"\n",
       "        },\n",
       "        \"vector_type\": \"dense\",\n",
       "        \"dimension\": 1536,\n",
       "        \"deletion_protection\": \"disabled\",\n",
       "        \"tags\": null\n",
       "    },\n",
       "    {\n",
       "        \"name\": \"my-index\",\n",
       "        \"metric\": \"cosine\",\n",
       "        \"host\": \"my-index-03idc8k.svc.aped-4627-b74a.pinecone.io\",\n",
       "        \"spec\": {\n",
       "            \"serverless\": {\n",
       "                \"cloud\": \"aws\",\n",
       "                \"region\": \"us-east-1\"\n",
       "            }\n",
       "        },\n",
       "        \"status\": {\n",
       "            \"ready\": true,\n",
       "            \"state\": \"Ready\"\n",
       "        },\n",
       "        \"vector_type\": \"dense\",\n",
       "        \"dimension\": 3,\n",
       "        \"deletion_protection\": \"disabled\",\n",
       "        \"tags\": null\n",
       "    }\n",
       "]"
      ]
     },
     "execution_count": 9,
     "metadata": {},
     "output_type": "execute_result"
    }
   ],
   "source": [
    "pc.list_indexes()"
   ]
  },
  {
   "cell_type": "code",
   "execution_count": 10,
   "id": "8979d723-50ec-41de-ad93-6723492dbbad",
   "metadata": {},
   "outputs": [],
   "source": [
    "index = pc.Index(name= \"text\")"
   ]
  },
  {
   "cell_type": "code",
   "execution_count": 11,
   "id": "7321889a-6a76-4ce1-849a-9623ba561a13",
   "metadata": {},
   "outputs": [
    {
     "name": "stdout",
     "output_type": "stream",
     "text": [
      "Subset of data upserted to Pinecone index.\n"
     ]
    }
   ],
   "source": [
    "# Define the number of items you want to process (subset size)\n",
    "subset_size = 1500 # For example, take only 1500 items\n",
    "\n",
    "# Iterate over the dataset and prepare data for upserting\n",
    "vectors_to_upsert = []\n",
    "for i, item in enumerate(fw):\n",
    "    if i >= subset_size:\n",
    "        break\n",
    "        \n",
    "    text = item['text']\n",
    "    unique_id = str(item['id'])\n",
    "    language = item['language']\n",
    "    \n",
    "    # Create an embedding for the text\n",
    "    embedding = model.encode(text, show_progress_bar=False).tolist()\n",
    "\n",
    "    # Prepare metadata\n",
    "    metadata = {'language': language}\n",
    "\n",
    "    # Append the tuple (id, embedding, metadata) to the list\n",
    "    vectors_to_upsert.append((unique_id, embedding, metadata))\n",
    "\n",
    "# Upsert data to Pinecone in batches\n",
    "batch_size = 1000  # Adjust based on your environment and dataset size\n",
    "for i in range(0, len(vectors_to_upsert), batch_size):\n",
    "    batch = vectors_to_upsert[i:i + batch_size]\n",
    "    index.upsert(vectors=batch)\n",
    "\n",
    "print(\"Subset of data upserted to Pinecone index.\")"
   ]
  },
  {
   "cell_type": "code",
   "execution_count": null,
   "id": "9915782e-a428-40e9-8ed5-d28a9c5f361e",
   "metadata": {},
   "outputs": [],
   "source": []
  }
 ],
 "metadata": {
  "kernelspec": {
   "display_name": "Python 3 (ipykernel)",
   "language": "python",
   "name": "python3"
  },
  "language_info": {
   "codemirror_mode": {
    "name": "ipython",
    "version": 3
   },
   "file_extension": ".py",
   "mimetype": "text/x-python",
   "name": "python",
   "nbconvert_exporter": "python",
   "pygments_lexer": "ipython3",
   "version": "3.12.7"
  }
 },
 "nbformat": 4,
 "nbformat_minor": 5
}
