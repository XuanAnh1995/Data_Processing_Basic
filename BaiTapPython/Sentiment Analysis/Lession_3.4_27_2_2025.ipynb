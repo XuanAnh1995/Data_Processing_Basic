{
 "cells": [
  {
   "cell_type": "code",
   "execution_count": 1,
   "id": "cff0a05d-09e2-4f29-a7c0-44fd508c2beb",
   "metadata": {},
   "outputs": [],
   "source": [
    "import pandas as pd\n",
    "import numpy as np\n",
    "import re\n",
    "from vaderSentiment.vaderSentiment import SentimentIntensityAnalyzer\n",
    "import transformers\n",
    "from transformers import pipeline\n",
    "from nltk.tokenize import word_tokenize\n",
    "from nltk.corpus import stopwords\n",
    "from nltk.stem import WordNetLemmatizer\n",
    "from sklearn.model_selection import train_test_split\n",
    "from sklearn import metrics\n",
    "from itertools import chain\n",
    "from nltk import NaiveBayesClassifier"
   ]
  },
  {
   "cell_type": "code",
   "execution_count": 2,
   "id": "2eb886aa-a5eb-4242-835c-20c9563c06b1",
   "metadata": {},
   "outputs": [
    {
     "name": "stdout",
     "output_type": "stream",
     "text": [
      "   index                                         reviewText  rating\n",
      "0  11494  Clean and funny. A bit busy with all the diffe...       3\n",
      "1    984  Alex a sexy hot cop and the PhD candidate. Wha...       4\n",
      "2   1463  Good thing that this is a free story. I read i...       1\n",
      "3  10342  Action, action, action! Equipment keeps gettin...       4\n",
      "4   5256  this was hands down the worse book i have ever...       1\n"
     ]
    }
   ],
   "source": [
    "data = pd.read_csv(r\"D:\\Code Python\\book_reviews_sample.csv\")\n",
    "print(data.head())"
   ]
  },
  {
   "cell_type": "code",
   "execution_count": 3,
   "id": "c68782db-1e56-4728-8613-fd7d0ce4223e",
   "metadata": {},
   "outputs": [
    {
     "name": "stdout",
     "output_type": "stream",
     "text": [
      "<class 'pandas.core.frame.DataFrame'>\n",
      "RangeIndex: 100 entries, 0 to 99\n",
      "Data columns (total 3 columns):\n",
      " #   Column      Non-Null Count  Dtype \n",
      "---  ------      --------------  ----- \n",
      " 0   index       100 non-null    int64 \n",
      " 1   reviewText  100 non-null    object\n",
      " 2   rating      100 non-null    int64 \n",
      "dtypes: int64(2), object(1)\n",
      "memory usage: 2.5+ KB\n"
     ]
    }
   ],
   "source": [
    "data.info()"
   ]
  },
  {
   "cell_type": "code",
   "execution_count": 4,
   "id": "75a3b020-54d4-4b72-8c9e-406958ef9265",
   "metadata": {},
   "outputs": [
    {
     "data": {
      "text/plain": [
       "'Clean and funny. A bit busy with all the different plots going on. But overall a good read. Bye now.'"
      ]
     },
     "execution_count": 4,
     "metadata": {},
     "output_type": "execute_result"
    }
   ],
   "source": [
    "data['reviewText'][0]"
   ]
  },
  {
   "cell_type": "raw",
   "id": "4031a813-0d7e-46cf-b8f6-69af0355c389",
   "metadata": {},
   "source": [
    "Clean Data"
   ]
  },
  {
   "cell_type": "code",
   "execution_count": 5,
   "id": "a5c8e76e-69a8-446c-a3db-f7a39d9044ea",
   "metadata": {},
   "outputs": [
    {
     "data": {
      "text/plain": [
       "'clean and funny. a bit busy with all the different plots going on. but overall a good read. bye now.'"
      ]
     },
     "execution_count": 5,
     "metadata": {},
     "output_type": "execute_result"
    }
   ],
   "source": [
    "# Lowercase\n",
    "data['reviewText_clean'] = data['reviewText'].str.lower()\n",
    "data['reviewText_clean'][0]"
   ]
  },
  {
   "cell_type": "code",
   "execution_count": 6,
   "id": "caf7f3dc-cbda-4962-8cbc-f7475954d857",
   "metadata": {},
   "outputs": [],
   "source": [
    "# remove punctuation\n",
    "data['reviewText_clean'] = data.apply(lambda x: re.sub(r\"([^\\w\\s])\", \"\", x['reviewText_clean']), axis= 1)"
   ]
  },
  {
   "cell_type": "code",
   "execution_count": 7,
   "id": "6fe00923-6d1c-4c81-82a9-038562bf9ff0",
   "metadata": {},
   "outputs": [
    {
     "data": {
      "text/html": [
       "<div>\n",
       "<style scoped>\n",
       "    .dataframe tbody tr th:only-of-type {\n",
       "        vertical-align: middle;\n",
       "    }\n",
       "\n",
       "    .dataframe tbody tr th {\n",
       "        vertical-align: top;\n",
       "    }\n",
       "\n",
       "    .dataframe thead th {\n",
       "        text-align: right;\n",
       "    }\n",
       "</style>\n",
       "<table border=\"1\" class=\"dataframe\">\n",
       "  <thead>\n",
       "    <tr style=\"text-align: right;\">\n",
       "      <th></th>\n",
       "      <th>index</th>\n",
       "      <th>reviewText</th>\n",
       "      <th>rating</th>\n",
       "      <th>reviewText_clean</th>\n",
       "    </tr>\n",
       "  </thead>\n",
       "  <tbody>\n",
       "    <tr>\n",
       "      <th>0</th>\n",
       "      <td>11494</td>\n",
       "      <td>Clean and funny. A bit busy with all the diffe...</td>\n",
       "      <td>3</td>\n",
       "      <td>clean and funny a bit busy with all the differ...</td>\n",
       "    </tr>\n",
       "    <tr>\n",
       "      <th>1</th>\n",
       "      <td>984</td>\n",
       "      <td>Alex a sexy hot cop and the PhD candidate. Wha...</td>\n",
       "      <td>4</td>\n",
       "      <td>alex a sexy hot cop and the phd candidate what...</td>\n",
       "    </tr>\n",
       "    <tr>\n",
       "      <th>2</th>\n",
       "      <td>1463</td>\n",
       "      <td>Good thing that this is a free story. I read i...</td>\n",
       "      <td>1</td>\n",
       "      <td>good thing that this is a free story i read it...</td>\n",
       "    </tr>\n",
       "    <tr>\n",
       "      <th>3</th>\n",
       "      <td>10342</td>\n",
       "      <td>Action, action, action! Equipment keeps gettin...</td>\n",
       "      <td>4</td>\n",
       "      <td>action action action equipment keeps getting b...</td>\n",
       "    </tr>\n",
       "    <tr>\n",
       "      <th>4</th>\n",
       "      <td>5256</td>\n",
       "      <td>this was hands down the worse book i have ever...</td>\n",
       "      <td>1</td>\n",
       "      <td>this was hands down the worse book i have ever...</td>\n",
       "    </tr>\n",
       "  </tbody>\n",
       "</table>\n",
       "</div>"
      ],
      "text/plain": [
       "   index                                         reviewText  rating  \\\n",
       "0  11494  Clean and funny. A bit busy with all the diffe...       3   \n",
       "1    984  Alex a sexy hot cop and the PhD candidate. Wha...       4   \n",
       "2   1463  Good thing that this is a free story. I read i...       1   \n",
       "3  10342  Action, action, action! Equipment keeps gettin...       4   \n",
       "4   5256  this was hands down the worse book i have ever...       1   \n",
       "\n",
       "                                    reviewText_clean  \n",
       "0  clean and funny a bit busy with all the differ...  \n",
       "1  alex a sexy hot cop and the phd candidate what...  \n",
       "2  good thing that this is a free story i read it...  \n",
       "3  action action action equipment keeps getting b...  \n",
       "4  this was hands down the worse book i have ever...  "
      ]
     },
     "execution_count": 7,
     "metadata": {},
     "output_type": "execute_result"
    }
   ],
   "source": [
    "data.head()"
   ]
  },
  {
   "cell_type": "raw",
   "id": "50f8c562-662d-4f15-9ce3-997f000761ad",
   "metadata": {},
   "source": [
    "Rule-based sentiment with VADER"
   ]
  },
  {
   "cell_type": "code",
   "execution_count": 8,
   "id": "18f6a3fb-1af3-41c1-9309-caed30870523",
   "metadata": {},
   "outputs": [],
   "source": [
    "vader_sentiment = SentimentIntensityAnalyzer()"
   ]
  },
  {
   "cell_type": "code",
   "execution_count": 9,
   "id": "f7a7acd3-b888-4068-a4f5-753b421fcb72",
   "metadata": {},
   "outputs": [],
   "source": [
    "data['var_sentiment_core'] = data['reviewText_clean'].apply(lambda review: vader_sentiment.polarity_scores(review)['compound'])"
   ]
  },
  {
   "cell_type": "code",
   "execution_count": 10,
   "id": "59374ebd-9753-4006-b8f5-8b4491dcd408",
   "metadata": {},
   "outputs": [],
   "source": [
    "# Create labels\n",
    "bins = [-1, -0.1, 0.1, 1]\n",
    "names = ['negative', 'neutral', 'positive']\n",
    "data['var_sentiment_label'] = pd.cut(data['var_sentiment_core'], bins, labels= names)"
   ]
  },
  {
   "cell_type": "code",
   "execution_count": 11,
   "id": "c5eb74be-036a-442e-a191-4c3349c10e8d",
   "metadata": {},
   "outputs": [
    {
     "data": {
      "text/plain": [
       "<Axes: xlabel='var_sentiment_label'>"
      ]
     },
     "execution_count": 11,
     "metadata": {},
     "output_type": "execute_result"
    },
    {
     "data": {
      "image/png": "[encoded data removed]",
      "text/plain": [
       "<Figure size 640x480 with 1 Axes>"
      ]
     },
     "metadata": {},
     "output_type": "display_data"
    }
   ],
   "source": [
    "data['var_sentiment_label'].value_counts().plot.bar()"
   ]
  },
  {
   "cell_type": "raw",
   "id": "548ebac3-73eb-452d-bbe3-9d46c7846342",
   "metadata": {},
   "source": [
    "Pre-trained Transformer Model"
   ]
  },
  {
   "cell_type": "code",
   "execution_count": 12,
   "id": "99d2d845-eea0-4cc2-be3b-d25bda63339c",
   "metadata": {},
   "outputs": [
    {
     "name": "stdout",
     "output_type": "stream",
     "text": [
      "2.6.0+cpu\n",
      "CUDA Available: False\n"
     ]
    }
   ],
   "source": [
    "import torch\n",
    "print(torch.__version__)  # Kiểm tra phiên bản\n",
    "print(\"CUDA Available:\", torch.cuda.is_available())  # Kiểm tra có hỗ trợ GPU không"
   ]
  },
  {
   "cell_type": "code",
   "execution_count": 13,
   "id": "8552fdae-f7ea-4897-88dd-f14707a3f5a5",
   "metadata": {},
   "outputs": [],
   "source": [
    "from transformers import pipeline"
   ]
  },
  {
   "cell_type": "code",
   "execution_count": 14,
   "id": "41d89937-fe36-4a7a-b6cb-c32df2baea55",
   "metadata": {},
   "outputs": [
    {
     "name": "stderr",
     "output_type": "stream",
     "text": [
      "No model was supplied, defaulted to distilbert/distilbert-base-uncased-finetuned-sst-2-english and revision 714eb0f (https://huggingface.co/distilbert/distilbert-base-uncased-finetuned-sst-2-english).\n",
      "Using a pipeline without specifying a model name and revision in production is not recommended.\n",
      "Device set to use cpu\n"
     ]
    }
   ],
   "source": [
    "transformer_pipeline = pipeline(\"sentiment-analysis\")"
   ]
  },
  {
   "cell_type": "code",
   "execution_count": 15,
   "id": "5d3e24e8-14be-4ce4-b711-366c0a324fb5",
   "metadata": {},
   "outputs": [
    {
     "name": "stdout",
     "output_type": "stream",
     "text": [
      "Index(['index', 'reviewText', 'rating', 'reviewText_clean',\n",
      "       'var_sentiment_core', 'var_sentiment_label'],\n",
      "      dtype='object')\n"
     ]
    }
   ],
   "source": [
    "print(data.columns)"
   ]
  },
  {
   "cell_type": "code",
   "execution_count": 16,
   "id": "46679a7a-49fd-4c8c-b547-e0df38f78ba8",
   "metadata": {},
   "outputs": [],
   "source": [
    "transformer_labels = []\n",
    "\n",
    "for review in data['reviewText_clean'].values:\n",
    "    sentiment_list = transformer_pipeline(review)\n",
    "    sentiment_label = [sent['label'] for sent in sentiment_list]\n",
    "    transformer_labels.append(sentiment_label)\n",
    "    \n",
    "data['transformer_sentiment_label'] = transformer_labels"
   ]
  },
  {
   "cell_type": "code",
   "execution_count": 17,
   "id": "7cb11924-e7c2-46c2-934c-06c041f11baf",
   "metadata": {},
   "outputs": [
    {
     "data": {
      "text/plain": [
       "<Axes: xlabel='transformer_sentiment_label'>"
      ]
     },
     "execution_count": 17,
     "metadata": {},
     "output_type": "execute_result"
    },
    {
     "data": {
      "image/png": "[encoded data removed]",
      "text/plain": [
       "<Figure size 640x480 with 1 Axes>"
      ]
     },
     "metadata": {},
     "output_type": "display_data"
    }
   ],
   "source": [
    "data['transformer_sentiment_label'].value_counts().plot.bar()"
   ]
  },
  {
   "cell_type": "code",
   "execution_count": 18,
   "id": "a556a28c-16f4-4dd8-933f-816637c4fa7d",
   "metadata": {},
   "outputs": [
    {
     "data": {
      "text/plain": [
       "0     [POSITIVE]\n",
       "1     [POSITIVE]\n",
       "2     [NEGATIVE]\n",
       "3     [NEGATIVE]\n",
       "4     [NEGATIVE]\n",
       "         ...    \n",
       "95    [POSITIVE]\n",
       "96    [NEGATIVE]\n",
       "97    [POSITIVE]\n",
       "98    [NEGATIVE]\n",
       "99    [POSITIVE]\n",
       "Name: transformer_sentiment_label, Length: 100, dtype: object"
      ]
     },
     "execution_count": 18,
     "metadata": {},
     "output_type": "execute_result"
    }
   ],
   "source": [
    "data['transformer_sentiment_label']"
   ]
  },
  {
   "cell_type": "code",
   "execution_count": 21,
   "id": "9a5c7377-36a6-4e1a-863a-dac99122095c",
   "metadata": {},
   "outputs": [
    {
     "data": {
      "image/png": "[encoded data removed]",
      "text/plain": [
       "<Figure size 640x480 with 1 Axes>"
      ]
     },
     "metadata": {},
     "output_type": "display_data"
    }
   ],
   "source": [
    "import matplotlib.pyplot as plt\n",
    "\n",
    "# Vẽ biểu đồ cột\n",
    "ax = data['transformer_sentiment_label'].value_counts().plot.bar(color=['blue', 'red'])\n",
    "\n",
    "# Thêm tiêu đề và nhãn trục\n",
    "plt.title(\"Sentiment Analysis Results\")\n",
    "plt.xlabel(\"Sentiment Label\")\n",
    "plt.ylabel(\"Count\")\n",
    "plt.xticks(rotation=0)  # Giữ nhãn ngang\n",
    "\n",
    "# Thêm số đếm trên từng cột\n",
    "for i in ax.containers:\n",
    "    ax.bar_label(i, label_type='edge', fontsize=10, color='black', padding=3)\n",
    "\n",
    "# Hiển thị biểu đồ\n",
    "plt.show()\n"
   ]
  },
  {
   "cell_type": "code",
   "execution_count": null,
   "id": "3ab43242-3ad1-479d-9565-d84be2484230",
   "metadata": {},
   "outputs": [],
   "source": []
  }
 ],
 "metadata": {
  "kernelspec": {
   "display_name": "Python 3 (ipykernel)",
   "language": "python",
   "name": "python3"
  },
  "language_info": {
   "codemirror_mode": {
    "name": "ipython",
    "version": 3
   },
   "file_extension": ".py",
   "mimetype": "text/x-python",
   "name": "python",
   "nbconvert_exporter": "python",
   "pygments_lexer": "ipython3",
   "version": "3.12.7"
  }
 },
 "nbformat": 4,
 "nbformat_minor": 5
}
