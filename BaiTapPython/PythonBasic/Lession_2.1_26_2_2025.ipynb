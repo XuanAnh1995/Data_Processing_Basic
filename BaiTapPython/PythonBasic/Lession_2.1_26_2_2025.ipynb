{
 "cells": [
  {
   "cell_type": "code",
   "execution_count": 1,
   "id": "34f35ceb-c536-453e-9a27-f37d6e3b7e88",
   "metadata": {},
   "outputs": [
    {
     "data": {
      "text/plain": [
       "range(0, 10)"
      ]
     },
     "execution_count": 1,
     "metadata": {},
     "output_type": "execute_result"
    }
   ],
   "source": [
    "range(10)"
   ]
  },
  {
   "cell_type": "code",
   "execution_count": 2,
   "id": "d129e0db-9134-4e45-8af1-ee95f284e25c",
   "metadata": {},
   "outputs": [
    {
     "data": {
      "text/plain": [
       "[0, 1, 2, 3, 4, 5, 6, 7, 8, 9]"
      ]
     },
     "execution_count": 2,
     "metadata": {},
     "output_type": "execute_result"
    }
   ],
   "source": [
    "list(range(10))"
   ]
  },
  {
   "cell_type": "code",
   "execution_count": 3,
   "id": "1920b685-74ea-47c6-8c8f-695786cefc9e",
   "metadata": {},
   "outputs": [
    {
     "data": {
      "text/plain": [
       "range(3, 7)"
      ]
     },
     "execution_count": 3,
     "metadata": {},
     "output_type": "execute_result"
    }
   ],
   "source": [
    "range(3, 7)"
   ]
  },
  {
   "cell_type": "code",
   "execution_count": 4,
   "id": "3dc70202-a2f1-4e9b-8055-469ab7ce9858",
   "metadata": {},
   "outputs": [
    {
     "data": {
      "text/plain": [
       "[3, 4, 5, 6]"
      ]
     },
     "execution_count": 4,
     "metadata": {},
     "output_type": "execute_result"
    }
   ],
   "source": [
    "list(range(3, 7))"
   ]
  },
  {
   "cell_type": "code",
   "execution_count": 5,
   "id": "1a3c3e81-7fc4-49da-8857-f2b79bc9bd3f",
   "metadata": {},
   "outputs": [
    {
     "data": {
      "text/plain": [
       "range(0, 10, 2)"
      ]
     },
     "execution_count": 5,
     "metadata": {},
     "output_type": "execute_result"
    }
   ],
   "source": [
    "range(0, 10, 2)"
   ]
  },
  {
   "cell_type": "code",
   "execution_count": 6,
   "id": "b6f5cc13-84e9-4694-b461-a0488b316d10",
   "metadata": {},
   "outputs": [
    {
     "data": {
      "text/plain": [
       "[0, 2, 4, 6, 8]"
      ]
     },
     "execution_count": 6,
     "metadata": {},
     "output_type": "execute_result"
    }
   ],
   "source": [
    "list(range(0, 10, 2))"
   ]
  },
  {
   "cell_type": "code",
   "execution_count": 7,
   "id": "fabc1998-f197-4a65-aceb-44217cb3646e",
   "metadata": {},
   "outputs": [
    {
     "name": "stdout",
     "output_type": "stream",
     "text": [
      "\n",
      " [-9.5, -7.5, -5.5, -3.5, -1.5, 0.5, 2.5, 4.5, 6.5, 8.5]\n"
     ]
    }
   ],
   "source": [
    "Numbers = []\n",
    "for i in range(-10, 10, 2):  \n",
    "    i += 0.5\n",
    "    Numbers.append(i) \n",
    "print(\"\\n\", Numbers)"
   ]
  },
  {
   "cell_type": "code",
   "execution_count": 8,
   "id": "5baa8145-4d48-4683-bd9c-3872b9cc9574",
   "metadata": {},
   "outputs": [
    {
     "data": {
      "text/plain": [
       "[0, 1, 2, 3, 4, 5, 6, 7, 8, 9]"
      ]
     },
     "execution_count": 8,
     "metadata": {},
     "output_type": "execute_result"
    }
   ],
   "source": [
    "list(range(0, 10, 1))"
   ]
  },
  {
   "cell_type": "code",
   "execution_count": 9,
   "id": "ef388603-e060-48ae-aae0-0f91f534adc6",
   "metadata": {},
   "outputs": [
    {
     "data": {
      "text/plain": [
       "[1, 3, 5, 7, 9]"
      ]
     },
     "execution_count": 9,
     "metadata": {},
     "output_type": "execute_result"
    }
   ],
   "source": [
    "list(range(1, 10, 2))"
   ]
  },
  {
   "cell_type": "code",
   "execution_count": 10,
   "id": "fdc53d21-157f-4c01-9fc2-b1434efe506a",
   "metadata": {},
   "outputs": [
    {
     "data": {
      "text/plain": [
       "[]"
      ]
     },
     "execution_count": 10,
     "metadata": {},
     "output_type": "execute_result"
    }
   ],
   "source": [
    "list(range(0, 10, -2))"
   ]
  },
  {
   "cell_type": "code",
   "execution_count": 11,
   "id": "e258c150-7d1e-4f4c-9001-82ec84d5d746",
   "metadata": {},
   "outputs": [
    {
     "name": "stdout",
     "output_type": "stream",
     "text": [
      "[]\n"
     ]
    }
   ],
   "source": [
    "Numbers = []\n",
    "print(Numbers)"
   ]
  },
  {
   "cell_type": "code",
   "execution_count": 12,
   "id": "e508e218-dbf4-4106-8a78-0aa7a855112a",
   "metadata": {},
   "outputs": [
    {
     "name": "stdout",
     "output_type": "stream",
     "text": [
      "1 2 4 8 16 32 64 128 256 512 "
     ]
    }
   ],
   "source": [
    "for n in range(10):\n",
    "    print(2 ** n, end = \" \")"
   ]
  },
  {
   "cell_type": "code",
   "execution_count": 13,
   "id": "88a6c34e-ed91-4e0f-9d69-0bc9132db6e3",
   "metadata": {},
   "outputs": [
    {
     "name": "stdout",
     "output_type": "stream",
     "text": [
      "0 Odd 2 Odd 4 Odd 6 Odd 8 Odd 10 Odd 12 Odd 14 Odd 16 Odd 18 Odd "
     ]
    }
   ],
   "source": [
    "for x in range(20):\n",
    "    if x % 2 == 0:\n",
    "        print(x, end = \" \")\n",
    "    else :\n",
    "        print(\"Odd\", end = \" \")"
   ]
  },
  {
   "cell_type": "code",
   "execution_count": 14,
   "id": "91672230-6b53-411d-9c0a-7bc49566fd38",
   "metadata": {},
   "outputs": [],
   "source": [
    "x = [1, 2, 3]"
   ]
  },
  {
   "cell_type": "code",
   "execution_count": 15,
   "id": "d6b14d90-2ab3-4078-bbf4-ec50b0948ab5",
   "metadata": {},
   "outputs": [
    {
     "name": "stdout",
     "output_type": "stream",
     "text": [
      "1 2 3 "
     ]
    }
   ],
   "source": [
    "for i in x:\n",
    "    print(i, end = \" \")"
   ]
  },
  {
   "cell_type": "code",
   "execution_count": 16,
   "id": "363f015f-7cbb-4c53-a1f9-fd33d0dfca83",
   "metadata": {},
   "outputs": [
    {
     "name": "stdout",
     "output_type": "stream",
     "text": [
      "1 2 3 "
     ]
    }
   ],
   "source": [
    "for item in range(len(x)):\n",
    "    print(x[item], end = \" \")"
   ]
  },
  {
   "cell_type": "code",
   "execution_count": 17,
   "id": "0057cbd4-bc98-4f84-88eb-c6b57c84df87",
   "metadata": {},
   "outputs": [
    {
     "name": "stdout",
     "output_type": "stream",
     "text": [
      "2 4 6 8 10 12 14 16 18 20 "
     ]
    }
   ],
   "source": [
    "for x in range(1, 11):\n",
    "    print(x * 2, end = \" \")"
   ]
  },
  {
   "cell_type": "code",
   "execution_count": 18,
   "id": "de1260e9-e6ca-435f-a031-829505ba1081",
   "metadata": {},
   "outputs": [
    {
     "name": "stdout",
     "output_type": "stream",
     "text": [
      "Even 1 Even 3 Even 5 Even 7 Even 9 Even 11 Even 13 Even 15 Even 17 Even 19 Even 21 Even 23 Even 25 Even 27 Even 29 Even "
     ]
    }
   ],
   "source": [
    "for i in range(0, 31):\n",
    "    if i % 2 == 1:\n",
    "        print(i, end=\" \")  # In số lẻ trên cùng một dòng\n",
    "    else:\n",
    "        print(\"Even\", end=\" \")  # In \"Even\" trên cùng một dòng\n"
   ]
  },
  {
   "cell_type": "code",
   "execution_count": 19,
   "id": "1778f713-9a5d-435f-8661-9d657f1bf6d4",
   "metadata": {},
   "outputs": [
    {
     "name": "stdout",
     "output_type": "stream",
     "text": [
      "[1, 2, 3, 4, 5, 6]\n"
     ]
    }
   ],
   "source": [
    "N = list(range(1, 7))\n",
    "print(N)"
   ]
  },
  {
   "cell_type": "code",
   "execution_count": 20,
   "id": "1b12c0a9-2682-4bb6-aca8-a417cd1964d3",
   "metadata": {},
   "outputs": [
    {
     "name": "stdout",
     "output_type": "stream",
     "text": [
      "10 20 30 40 50 60 \n",
      "\n",
      "10 20 30 40 50 60 "
     ]
    }
   ],
   "source": [
    "n = [1,2,3,4,5,6]\n",
    "list(range(1, 7))\n",
    "\n",
    "for item in n:\n",
    "    print(item * 10, end = \" \")\n",
    "print(\"\\n\")\n",
    "for item in list(range(1, 7)):\n",
    "    print(item * 10, end = \" \")"
   ]
  },
  {
   "cell_type": "code",
   "execution_count": 21,
   "id": "5423e956-1871-4ea9-abe8-3a1573112b49",
   "metadata": {},
   "outputs": [],
   "source": [
    "def count(numbers):\n",
    "    total = 0\n",
    "    for x in numbers:\n",
    "        if x < 20:\n",
    "            total += 1\n",
    "    return total"
   ]
  },
  {
   "cell_type": "code",
   "execution_count": 22,
   "id": "b12961cf-26a7-4a21-a7b9-159881631a84",
   "metadata": {},
   "outputs": [
    {
     "name": "stdout",
     "output_type": "stream",
     "text": [
      "[1, 3, 7, 15, 23, 43, 98]\n"
     ]
    }
   ],
   "source": [
    "list_1 = [1, 3, 7, 15, 23, 43, 98]\n",
    "print(list_1)"
   ]
  },
  {
   "cell_type": "code",
   "execution_count": 23,
   "id": "862397a8-a62b-4905-8d0b-fd1ae2cebfa1",
   "metadata": {},
   "outputs": [
    {
     "data": {
      "text/plain": [
       "4"
      ]
     },
     "execution_count": 23,
     "metadata": {},
     "output_type": "execute_result"
    }
   ],
   "source": [
    "count(list_1)"
   ]
  },
  {
   "cell_type": "code",
   "execution_count": 24,
   "id": "cbf86b76-17ab-450d-b8a9-e9b8bad1278c",
   "metadata": {},
   "outputs": [
    {
     "name": "stdout",
     "output_type": "stream",
     "text": [
      "2\n"
     ]
    }
   ],
   "source": [
    "nums = [1,35,12,24,31,51,70,100]\n",
    "def count(numbers):\n",
    "    total = 0\n",
    "    for x in numbers:\n",
    "        if(x < 20):\n",
    "            total += 1;\n",
    "    print(total)\n",
    "    \n",
    "count(nums)"
   ]
  },
  {
   "cell_type": "code",
   "execution_count": 25,
   "id": "4a4f7986-e76c-4cbd-aced-4d6862519508",
   "metadata": {},
   "outputs": [
    {
     "name": "stdout",
     "output_type": "stream",
     "text": [
      "4\n"
     ]
    }
   ],
   "source": [
    "def count(nums):\n",
    "    i = 0\n",
    "    count = 0\n",
    "    while i < len(nums):  # Loop through the list\n",
    "        if nums[i] < 20:\n",
    "            count += 1  # Increment count if the number is less than 20\n",
    "        i += 1  # Move to the next index\n",
    "    return count  # Return the count of numbers less than 20\n",
    "\n",
    "# Example usage:\n",
    "nums = [10, 25, 5, 30, 15, 8, 22]\n",
    "print(count(nums))  # Output: 4\n"
   ]
  },
  {
   "cell_type": "code",
   "execution_count": 28,
   "id": "0713ab4d-9fe2-4e6c-8126-f6357f52956f",
   "metadata": {},
   "outputs": [
    {
     "name": "stdout",
     "output_type": "stream",
     "text": [
      "8\n",
      "2\n"
     ]
    }
   ],
   "source": [
    "nums = [1, 35, 12, 24, 31, 51, 70, 100]\n",
    "print(len(nums))\n",
    "\n",
    "def count(numbers):\n",
    "    total = 0\n",
    "    i = 0  # Initialize the index\n",
    "    \n",
    "    while i < len(numbers):  # Loop through the list\n",
    "        if numbers[i] < 20:\n",
    "            total += 1  # Count numbers less than 20\n",
    "        i += 1  # Move to the next index\n",
    "    \n",
    "    print(total)  # Print the total count\n",
    "\n",
    "count(nums)  # Expected output: 2"
   ]
  },
  {
   "cell_type": "code",
   "execution_count": 29,
   "id": "1b1b4d64-5495-4e8d-8324-38bf4aaa9787",
   "metadata": {},
   "outputs": [
    {
     "name": "stdout",
     "output_type": "stream",
     "text": [
      "{'bos': 4, 'lasa': 5, 'ham': 2}\n",
      "{'bos': 6, 'lasa': 10, 'ham': 0}\n"
     ]
    }
   ],
   "source": [
    "price = {\n",
    "    \"bos\" : 4,\n",
    "    \"lasa\": 5,\n",
    "    \"ham\" : 2\n",
    "}\n",
    "quantity = {\n",
    "    \"bos\" : 6,\n",
    "    \"lasa\": 10,\n",
    "    \"ham\" : 0\n",
    "}\n",
    "\n",
    "print(price)\n",
    "print(quantity)\n"
   ]
  },
  {
   "cell_type": "code",
   "execution_count": 31,
   "id": "d208448b-1513-420f-81cc-8eb5b5fe5089",
   "metadata": {},
   "outputs": [
    {
     "name": "stdout",
     "output_type": "stream",
     "text": [
      "74\n"
     ]
    }
   ],
   "source": [
    "money_spend = 0\n",
    "for i in price:\n",
    "    money_spend = money_spend + (quantity[i] * price[i])\n",
    "print(money_spend)"
   ]
  },
  {
   "cell_type": "code",
   "execution_count": 32,
   "id": "bd23b9e4-a4d4-49e6-80d1-4dd9d7d2be48",
   "metadata": {},
   "outputs": [
    {
     "name": "stdout",
     "output_type": "stream",
     "text": [
      "74\n"
     ]
    }
   ],
   "source": [
    "money_spend = 0\n",
    "for i in quantity:\n",
    "    money_spend = money_spend + (quantity[i] * price[i])\n",
    "print(money_spend)"
   ]
  },
  {
   "cell_type": "code",
   "execution_count": 38,
   "id": "3cf9201f-a94a-4c66-8d57-f3830741beee",
   "metadata": {},
   "outputs": [
    {
     "name": "stdout",
     "output_type": "stream",
     "text": [
      "74\n",
      "16\n"
     ]
    }
   ],
   "source": [
    "prices = {\n",
    "    \"box_of_spaghetti\" : 4,\n",
    "    \"lasagna\"  : 5,\n",
    "    \"hamburger\" : 2\n",
    "   }\n",
    "quantity = {\n",
    "    \"box_of_spaghetti\" : 6,\n",
    "    \"lasagna\"  : 10,\n",
    "    \"hamburger\" : 0\n",
    "    }\n",
    "total_quantity = 0\n",
    "money_spent = 0\n",
    "for i in prices:\n",
    "    money_spent = money_spent + prices[i] * quantity[i]\n",
    "    total_quantity = total_quantity + quantity[i]\n",
    "print(money_spent)\n",
    "print(total_quantity)"
   ]
  },
  {
   "cell_type": "code",
   "execution_count": null,
   "id": "a581e9da-892e-41ab-bb70-9b879002acc5",
   "metadata": {},
   "outputs": [],
   "source": []
  }
 ],
 "metadata": {
  "kernelspec": {
   "display_name": "Python 3 (ipykernel)",
   "language": "python",
   "name": "python3"
  },
  "language_info": {
   "codemirror_mode": {
    "name": "ipython",
    "version": 3
   },
   "file_extension": ".py",
   "mimetype": "text/x-python",
   "name": "python",
   "nbconvert_exporter": "python",
   "pygments_lexer": "ipython3",
   "version": "3.12.7"
  },
  "panel-cell-order": [
   "42b3a8f8-bac0-4e91-9e24-2a80fc31ced0"
  ]
 },
 "nbformat": 4,
 "nbformat_minor": 5
}
