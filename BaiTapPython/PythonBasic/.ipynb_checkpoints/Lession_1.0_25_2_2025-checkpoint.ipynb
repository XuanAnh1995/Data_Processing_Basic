{
 "cells": [
  {
   "cell_type": "code",
   "execution_count": 1,
   "id": "192aa6bd-3839-4ac2-9893-21a77d30b452",
   "metadata": {},
   "outputs": [
    {
     "data": {
      "text/plain": [
       "['Join', 'Leila', 'Gregory', 'Cate']"
      ]
     },
     "execution_count": 1,
     "metadata": {},
     "output_type": "execute_result"
    }
   ],
   "source": [
    "P = ['Join', 'Leila', 'Gregory', 'Cate']\n",
    "P"
   ]
  },
  {
   "cell_type": "code",
   "execution_count": 2,
   "id": "d943cb46-0940-45b7-be36-8e1874c7a1b9",
   "metadata": {},
   "outputs": [],
   "source": [
    "p = ['Join', 'Leila', 'Gregory', 'Cate']"
   ]
  },
  {
   "cell_type": "code",
   "execution_count": 3,
   "id": "eb842f23-d149-4799-aac3-5abcdd3ecb86",
   "metadata": {},
   "outputs": [
    {
     "data": {
      "text/plain": [
       "['Join', 'Leila', 'Gregory', 'Cate']"
      ]
     },
     "execution_count": 3,
     "metadata": {},
     "output_type": "execute_result"
    }
   ],
   "source": [
    "P"
   ]
  },
  {
   "cell_type": "code",
   "execution_count": 4,
   "id": "032d7000-a4a3-452a-8294-a06d154b34ba",
   "metadata": {},
   "outputs": [
    {
     "data": {
      "text/plain": [
       "['Join', 'Anna', 'Gregory', 'Cate']"
      ]
     },
     "execution_count": 4,
     "metadata": {},
     "output_type": "execute_result"
    }
   ],
   "source": [
    "P[1] = 'Anna'\n",
    "P"
   ]
  },
  {
   "cell_type": "code",
   "execution_count": 5,
   "id": "7604ae37-75c3-4b5e-9df2-566d1fc8128c",
   "metadata": {},
   "outputs": [
    {
     "data": {
      "text/plain": [
       "['Join', 'Anna', 'Cate']"
      ]
     },
     "execution_count": 5,
     "metadata": {},
     "output_type": "execute_result"
    }
   ],
   "source": [
    "del P[2]\n",
    "P"
   ]
  },
  {
   "cell_type": "code",
   "execution_count": 6,
   "id": "c49c71c1-cb69-4dc8-9512-70e5a39bfa92",
   "metadata": {},
   "outputs": [
    {
     "data": {
      "text/plain": [
       "['Join', 'Anna', 'Cate', 'Diana']"
      ]
     },
     "execution_count": 6,
     "metadata": {},
     "output_type": "execute_result"
    }
   ],
   "source": [
    "P.append(\"Diana\")\n",
    "P"
   ]
  },
  {
   "cell_type": "code",
   "execution_count": 7,
   "id": "89b65851-66f5-4c32-a5d7-69ea1fd095ef",
   "metadata": {},
   "outputs": [
    {
     "data": {
      "text/plain": [
       "['Join', 'Anna', 'Cate', 'Diana', 'Giore', 'Mai']"
      ]
     },
     "execution_count": 7,
     "metadata": {},
     "output_type": "execute_result"
    }
   ],
   "source": [
    "P.extend(['Giore', 'Mai'])\n",
    "P"
   ]
  },
  {
   "cell_type": "code",
   "execution_count": 8,
   "id": "ecd93c0d-1178-40fb-a946-b9b3eb1edf4f",
   "metadata": {},
   "outputs": [
    {
     "name": "stdout",
     "output_type": "stream",
     "text": [
      "The first P is: Join.\n"
     ]
    }
   ],
   "source": [
    "print(\"The first P is: \" + P[0] + \".\")"
   ]
  },
  {
   "cell_type": "code",
   "execution_count": 9,
   "id": "4eeb5476-c867-4096-b196-cd688638a48e",
   "metadata": {},
   "outputs": [
    {
     "data": {
      "text/plain": [
       "6"
      ]
     },
     "execution_count": 9,
     "metadata": {},
     "output_type": "execute_result"
    }
   ],
   "source": [
    "len(P)"
   ]
  },
  {
   "cell_type": "code",
   "execution_count": 10,
   "id": "a5438f67-bb02-44ea-b459-a882b6b9eac2",
   "metadata": {},
   "outputs": [
    {
     "data": {
      "text/plain": [
       "4"
      ]
     },
     "execution_count": 10,
     "metadata": {},
     "output_type": "execute_result"
    }
   ],
   "source": [
    "len(\"aNNA\")"
   ]
  },
  {
   "cell_type": "code",
   "execution_count": 11,
   "id": "c433a064-d8b0-477f-bd03-69ec5e7e4e69",
   "metadata": {},
   "outputs": [
    {
     "data": {
      "text/plain": [
       "['Anna', 'Cate']"
      ]
     },
     "execution_count": 11,
     "metadata": {},
     "output_type": "execute_result"
    }
   ],
   "source": [
    "P[1:3]"
   ]
  },
  {
   "cell_type": "code",
   "execution_count": 12,
   "id": "2c7abde5-518f-42da-afa8-416f02ee34be",
   "metadata": {},
   "outputs": [
    {
     "data": {
      "text/plain": [
       "['Join', 'Anna', 'Cate', 'Diana', 'Giore', 'Mai']"
      ]
     },
     "execution_count": 12,
     "metadata": {},
     "output_type": "execute_result"
    }
   ],
   "source": [
    "P"
   ]
  },
  {
   "cell_type": "code",
   "execution_count": 13,
   "id": "3cbe2ba6-9a5d-4855-b982-610cfd35ab48",
   "metadata": {},
   "outputs": [
    {
     "data": {
      "text/plain": [
       "['Join', 'Anna', 'Cate']"
      ]
     },
     "execution_count": 13,
     "metadata": {},
     "output_type": "execute_result"
    }
   ],
   "source": [
    "P[:3]"
   ]
  },
  {
   "cell_type": "code",
   "execution_count": 14,
   "id": "248b771a-25eb-4ea0-8fa0-57c8b9693ff0",
   "metadata": {},
   "outputs": [
    {
     "data": {
      "text/plain": [
       "['Giore', 'Mai']"
      ]
     },
     "execution_count": 14,
     "metadata": {},
     "output_type": "execute_result"
    }
   ],
   "source": [
    "P[-2:]"
   ]
  },
  {
   "cell_type": "code",
   "execution_count": 15,
   "id": "bf1a12fe-4c38-47bc-a4b2-d2dff8aa9e81",
   "metadata": {},
   "outputs": [
    {
     "data": {
      "text/plain": [
       "['Join', 'Anna', 'Cate', 'Diana']"
      ]
     },
     "execution_count": 15,
     "metadata": {},
     "output_type": "execute_result"
    }
   ],
   "source": [
    "P[:-2]"
   ]
  },
  {
   "cell_type": "code",
   "execution_count": 16,
   "id": "ae260e2a-1d95-4da4-ad4e-587d16c8548e",
   "metadata": {},
   "outputs": [
    {
     "data": {
      "text/plain": [
       "1"
      ]
     },
     "execution_count": 16,
     "metadata": {},
     "output_type": "execute_result"
    }
   ],
   "source": [
    "P.index('Anna')"
   ]
  },
  {
   "cell_type": "code",
   "execution_count": 17,
   "id": "46fc51a7-00ae-4fc8-afe2-51dee1346126",
   "metadata": {},
   "outputs": [
    {
     "data": {
      "text/plain": [
       "['Joshua', 'Brittany']"
      ]
     },
     "execution_count": 17,
     "metadata": {},
     "output_type": "execute_result"
    }
   ],
   "source": [
    "Newcomers = ['Joshua', 'Brittany']\n",
    "Newcomers"
   ]
  },
  {
   "cell_type": "code",
   "execution_count": 18,
   "id": "d60556db-0d42-471e-8d7e-890f41fd20af",
   "metadata": {},
   "outputs": [],
   "source": [
    "Bigger_List = [P, Newcomers]"
   ]
  },
  {
   "cell_type": "code",
   "execution_count": 19,
   "id": "07ab3b82-f742-4f78-ba0a-b92f6d5e36dd",
   "metadata": {},
   "outputs": [
    {
     "data": {
      "text/plain": [
       "[['Join', 'Anna', 'Cate', 'Diana', 'Giore', 'Mai'], ['Joshua', 'Brittany']]"
      ]
     },
     "execution_count": 19,
     "metadata": {},
     "output_type": "execute_result"
    }
   ],
   "source": [
    "Bigger_List"
   ]
  },
  {
   "cell_type": "code",
   "execution_count": 20,
   "id": "982afce7-908c-4d52-91e2-ab678e07751c",
   "metadata": {},
   "outputs": [
    {
     "data": {
      "text/plain": [
       "[['Join', 'Anna', 'Cate', 'Diana', 'Giore', 'Mai'], ['Joshua', 'Brittany']]"
      ]
     },
     "execution_count": 20,
     "metadata": {},
     "output_type": "execute_result"
    }
   ],
   "source": [
    "import copy \n",
    "Bigger_List_Copy = copy.deepcopy(Bigger_List)\n",
    "Bigger_List_Copy"
   ]
  },
  {
   "cell_type": "code",
   "execution_count": 21,
   "id": "d7856c46-7423-4fec-a5ab-a68bd33989cf",
   "metadata": {},
   "outputs": [],
   "source": [
    "Numbers = [1, 2, 3, 5, 6]"
   ]
  },
  {
   "cell_type": "code",
   "execution_count": 22,
   "id": "5f9ac36b-2a88-46ef-8b99-4408b987de7c",
   "metadata": {},
   "outputs": [
    {
     "data": {
      "text/plain": [
       "[1, 2, 3, 5, 6]"
      ]
     },
     "execution_count": 22,
     "metadata": {},
     "output_type": "execute_result"
    }
   ],
   "source": [
    "Numbers"
   ]
  },
  {
   "cell_type": "code",
   "execution_count": 23,
   "id": "f6e17627-bd96-4312-91e6-57982e15762b",
   "metadata": {},
   "outputs": [],
   "source": [
    "Numbers.sort(reverse = True)"
   ]
  },
  {
   "cell_type": "code",
   "execution_count": 24,
   "id": "6b778a45-2371-4151-84db-070f0e9b5b76",
   "metadata": {},
   "outputs": [],
   "source": [
    "Numbers.sort(reverse = True)"
   ]
  },
  {
   "cell_type": "code",
   "execution_count": 25,
   "id": "638e91ca-60b1-449e-9644-3024f2de99bb",
   "metadata": {},
   "outputs": [
    {
     "data": {
      "text/plain": [
       "[6, 5, 3, 2, 1]"
      ]
     },
     "execution_count": 25,
     "metadata": {},
     "output_type": "execute_result"
    }
   ],
   "source": [
    "Numbers"
   ]
  },
  {
   "cell_type": "code",
   "execution_count": 26,
   "id": "f82ffae1-c0bd-4136-8972-44e78289f5bd",
   "metadata": {},
   "outputs": [
    {
     "data": {
      "text/plain": [
       "[1, 2, 3, 5, 6]"
      ]
     },
     "execution_count": 26,
     "metadata": {},
     "output_type": "execute_result"
    }
   ],
   "source": [
    "Numbers.sort(reverse = False)\n",
    "Numbers"
   ]
  },
  {
   "cell_type": "code",
   "execution_count": 27,
   "id": "6254e3b5-2bc9-4593-9d5f-e9c32d4a6cfb",
   "metadata": {},
   "outputs": [
    {
     "data": {
      "text/plain": [
       "[1, 9, 5, 3]"
      ]
     },
     "execution_count": 27,
     "metadata": {},
     "output_type": "execute_result"
    }
   ],
   "source": [
    "Numbers = [1, 9 , 5, 3]\n",
    "Numbers"
   ]
  },
  {
   "cell_type": "code",
   "execution_count": 28,
   "id": "df936e1c-1fb4-475a-81d0-b8c8b78cfdf5",
   "metadata": {},
   "outputs": [],
   "source": [
    "Numbers.sort(reverse = True)"
   ]
  },
  {
   "cell_type": "code",
   "execution_count": 29,
   "id": "7f91e064-9635-4d20-85b4-3047badd0a5c",
   "metadata": {},
   "outputs": [
    {
     "data": {
      "text/plain": [
       "[9, 5, 3, 1]"
      ]
     },
     "execution_count": 29,
     "metadata": {},
     "output_type": "execute_result"
    }
   ],
   "source": [
    "Numbers"
   ]
  },
  {
   "cell_type": "code",
   "execution_count": 30,
   "id": "bda22c04-d0d7-48b0-b08f-149182c412e4",
   "metadata": {},
   "outputs": [
    {
     "data": {
      "text/plain": [
       "[1, 3, 5, 9]"
      ]
     },
     "execution_count": 30,
     "metadata": {},
     "output_type": "execute_result"
    }
   ],
   "source": [
    "Numbers.sort(reverse = False)\n",
    "Numbers"
   ]
  },
  {
   "cell_type": "code",
   "execution_count": 31,
   "id": "3abf1f63-948c-4dff-a7db-c9dfd4565b69",
   "metadata": {},
   "outputs": [
    {
     "data": {
      "text/plain": [
       "['Mai', 'Join', 'Giore', 'Diana', 'Cate', 'Anna']"
      ]
     },
     "execution_count": 31,
     "metadata": {},
     "output_type": "execute_result"
    }
   ],
   "source": [
    "P.sort(reverse = True)\n",
    "P"
   ]
  },
  {
   "cell_type": "code",
   "execution_count": 32,
   "id": "21712585-8449-4fd9-9fe3-0e903b20b2a8",
   "metadata": {},
   "outputs": [
    {
     "data": {
      "text/plain": [
       "['Anna', 'Cate', 'Diana', 'Giore', 'Join', 'Mai']"
      ]
     },
     "execution_count": 32,
     "metadata": {},
     "output_type": "execute_result"
    }
   ],
   "source": [
    "P.sort(reverse = False)\n",
    "P"
   ]
  },
  {
   "cell_type": "code",
   "execution_count": 35,
   "id": "9d88c760-af01-4b4b-a0bc-8ff44b30db04",
   "metadata": {},
   "outputs": [
    {
     "data": {
      "text/plain": [
       "[100]"
      ]
     },
     "execution_count": 35,
     "metadata": {},
     "output_type": "execute_result"
    }
   ],
   "source": [
    "Numbers = [15, 40, 50, 100, 115, 140]\n",
    "Numbers[3:4]"
   ]
  },
  {
   "cell_type": "code",
   "execution_count": null,
   "id": "fafde4fe-78da-449a-918e-e872c4211daf",
   "metadata": {},
   "outputs": [],
   "source": [
    "Numbers = [15, 40, 50, 100, 115, 140]\n",
    "Numbers[-1:]"
   ]
  },
  {
   "cell_type": "code",
   "execution_count": null,
   "id": "2d515f3b-5002-470b-a436-bdedcae4106b",
   "metadata": {},
   "outputs": [],
   "source": [
    "Numbers = [15, 40, 50, 100, 115, 140]\n",
    "Numbers[-4:]"
   ]
  },
  {
   "cell_type": "code",
   "execution_count": null,
   "id": "cbdec8c6-6f18-4c38-9804-19d6f1e70b20",
   "metadata": {},
   "outputs": [],
   "source": [
    "Numbers = [15, 40, 50, 100, 115, 140]\n",
    "Numbers.index(15)"
   ]
  },
  {
   "cell_type": "code",
   "execution_count": null,
   "id": "133ada0e-330e-4ba1-a943-c4563c36dd67",
   "metadata": {},
   "outputs": [],
   "source": [
    "Numbers = [15, 40, 50, 100, 115, 140]\n",
    "Numbers.sort(reverse = True)"
   ]
  },
  {
   "cell_type": "code",
   "execution_count": null,
   "id": "f07faa9f-8c53-440f-9fc5-454e75872a29",
   "metadata": {},
   "outputs": [],
   "source": [
    "Numbers"
   ]
  },
  {
   "cell_type": "code",
   "execution_count": null,
   "id": "09b84692-3efb-4cad-8a9d-91da284f23b6",
   "metadata": {},
   "outputs": [],
   "source": [
    "Numbers = [15, 40, 50, 100, 115, 140]\n",
    "\n",
    "Numbers.sort(reverse = False)"
   ]
  },
  {
   "cell_type": "code",
   "execution_count": null,
   "id": "33b81cbb-43e8-4c73-8ee1-6b15c6b842e1",
   "metadata": {},
   "outputs": [],
   "source": [
    "Numbers"
   ]
  },
  {
   "cell_type": "markdown",
   "id": "c7fc322e-b37d-4f29-a1b1-e441601a2b54",
   "metadata": {},
   "source": [
    "# Tuple"
   ]
  },
  {
   "cell_type": "code",
   "execution_count": null,
   "id": "85a184a6-a2a8-469a-8f00-f48ce8ef3f16",
   "metadata": {},
   "outputs": [],
   "source": [
    "x = (40, 41, 42)\n",
    "x"
   ]
  },
  {
   "cell_type": "code",
   "execution_count": null,
   "id": "bc2e7fe2-ce0f-43a9-800d-fdd1d21a98c2",
   "metadata": {},
   "outputs": [],
   "source": [
    "y = 50, 51, 52 \n",
    "y"
   ]
  },
  {
   "cell_type": "code",
   "execution_count": null,
   "id": "21544405-bf78-45d9-9315-fea38516cf00",
   "metadata": {},
   "outputs": [],
   "source": [
    "a, b, c = 1, 2, 4 \n",
    "c"
   ]
  },
  {
   "cell_type": "code",
   "execution_count": null,
   "id": "a17de84e-24b9-4be7-a85d-6a285b80d15a",
   "metadata": {},
   "outputs": [],
   "source": [
    "a, b, c = 1, 2, 3\n",
    "c"
   ]
  },
  {
   "cell_type": "code",
   "execution_count": null,
   "id": "2c1e7c85-b305-4fa0-8149-02d913177584",
   "metadata": {},
   "outputs": [],
   "source": [
    "a, b, b = 1, 2, 4\n",
    "b"
   ]
  },
  {
   "cell_type": "code",
   "execution_count": null,
   "id": "8c849d06-5d72-4def-bb06-165e9cd7d56d",
   "metadata": {},
   "outputs": [],
   "source": [
    "a\n",
    "b\n",
    "c"
   ]
  },
  {
   "cell_type": "code",
   "execution_count": null,
   "id": "242cce95-136a-465e-8872-ecbfc722cd27",
   "metadata": {},
   "outputs": [],
   "source": [
    "x[0]"
   ]
  },
  {
   "cell_type": "code",
   "execution_count": null,
   "id": "6ae76ec0-212a-422a-a2fb-b17d00c4d713",
   "metadata": {},
   "outputs": [],
   "source": [
    "y[3]"
   ]
  },
  {
   "cell_type": "code",
   "execution_count": null,
   "id": "79155ffb-630e-424d-84c7-0e2e4ae97148",
   "metadata": {},
   "outputs": [],
   "source": [
    "y[2]"
   ]
  },
  {
   "cell_type": "code",
   "execution_count": null,
   "id": "b15bbfb3-89a0-4057-b2f4-c06f301795ba",
   "metadata": {},
   "outputs": [],
   "source": [
    "List_1 = [x, y]\n",
    "List_1"
   ]
  },
  {
   "cell_type": "code",
   "execution_count": null,
   "id": "3083ac79-ab1b-4d05-88e4-21190c7f22cf",
   "metadata": {},
   "outputs": [],
   "source": [
    "(age, years_of_school) = \"30, 17\".split(',')\n",
    "print(age)\n",
    "print(years_of_school)\n"
   ]
  },
  {
   "cell_type": "code",
   "execution_count": null,
   "id": "fe6af9e5-7fcd-4fdf-a3fb-3ef3b44a676f",
   "metadata": {},
   "outputs": [],
   "source": [
    "def square_info(x):\n",
    "    P = 4 * x\n",
    "    S = x ** 2\n",
    "    return P, S"
   ]
  },
  {
   "cell_type": "code",
   "execution_count": null,
   "id": "4a305894-39ee-46bb-9cb5-138545aa81f8",
   "metadata": {},
   "outputs": [],
   "source": [
    "square_info(4)"
   ]
  },
  {
   "cell_type": "code",
   "execution_count": null,
   "id": "d6d9f094-dda2-44ff-a9e6-677811dde273",
   "metadata": {},
   "outputs": [],
   "source": [
    "square_info(3)"
   ]
  },
  {
   "cell_type": "markdown",
   "id": "a8e2c3df-c9ae-4940-89b5-141b016a485b",
   "metadata": {},
   "source": [
    "Dictionary"
   ]
  },
  {
   "cell_type": "code",
   "execution_count": null,
   "id": "7a180bd0-879c-4712-bfd2-0600976995ef",
   "metadata": {},
   "outputs": [],
   "source": [
    "dict = {'k1' : \"Cat\", 'k2' : \"Dog\", 'k3' : \"Mouse\", 'k4' : \"Fish\"}\n",
    "dict"
   ]
  },
  {
   "cell_type": "code",
   "execution_count": null,
   "id": "eb962c4b-37f6-41a0-b493-f0095471cbb0",
   "metadata": {},
   "outputs": [],
   "source": [
    "dict['k1']"
   ]
  },
  {
   "cell_type": "code",
   "execution_count": null,
   "id": "4fb61a0d-affe-4324-ab9b-fdc4ecd931d3",
   "metadata": {},
   "outputs": [],
   "source": [
    "dict['k3']"
   ]
  },
  {
   "cell_type": "code",
   "execution_count": null,
   "id": "ec1d7f2d-baba-4d17-9cb0-5be6acea284e",
   "metadata": {},
   "outputs": [],
   "source": [
    "dict['k5'] = \"Kakaka\"\n",
    "dict"
   ]
  },
  {
   "cell_type": "code",
   "execution_count": null,
   "id": "fc4f775d-8a38-450f-aca1-d21f7ac9485d",
   "metadata": {},
   "outputs": [],
   "source": [
    "dict['k5'] = 'Kokoko'\n",
    "dict"
   ]
  },
  {
   "cell_type": "code",
   "execution_count": null,
   "id": "2c1089a4-6907-4b8e-a28a-ec9a64988437",
   "metadata": {},
   "outputs": [],
   "source": [
    "dep_works = {'dep1': \"Peter\", 'dep2' : ['Lan, Hieu, Minh']}\n",
    "dep_works"
   ]
  },
  {
   "cell_type": "code",
   "execution_count": 2,
   "id": "31435103-65de-4f9b-8fff-d766acda0999",
   "metadata": {},
   "outputs": [],
   "source": [
    "Team = {}\n",
    "Team['PG'] = 'Disk'\n",
    "Team['SG'] = 'Al'\n",
    "Team['SF'] = 'Sean'\n",
    "Team['PF'] = 'Alex'\n",
    "Team['C'] = 'Hector'"
   ]
  },
  {
   "cell_type": "code",
   "execution_count": 3,
   "id": "cde0c260-1bc4-46ec-8dbe-602bccadfb71",
   "metadata": {},
   "outputs": [
    {
     "name": "stdout",
     "output_type": "stream",
     "text": [
      "{'PG': 'Disk', 'SG': 'Al', 'SF': 'Sean', 'PF': 'Alex', 'C': 'Hector'}\n"
     ]
    }
   ],
   "source": [
    "print(Team)"
   ]
  },
  {
   "cell_type": "code",
   "execution_count": 4,
   "id": "0a446335-9210-4955-a291-6fd513b7ff0d",
   "metadata": {},
   "outputs": [
    {
     "name": "stdout",
     "output_type": "stream",
     "text": [
      "Hector\n"
     ]
    }
   ],
   "source": [
    "print(Team['C'])"
   ]
  },
  {
   "cell_type": "code",
   "execution_count": 5,
   "id": "944a3285-aec2-4a67-92d7-d9e86f23a2df",
   "metadata": {},
   "outputs": [
    {
     "name": "stdout",
     "output_type": "stream",
     "text": [
      "None\n"
     ]
    }
   ],
   "source": [
    "print(Team.get('pg'))"
   ]
  },
  {
   "cell_type": "code",
   "execution_count": 6,
   "id": "26696032-ef20-4647-b731-172e2d5d650f",
   "metadata": {},
   "outputs": [
    {
     "name": "stdout",
     "output_type": "stream",
     "text": [
      "Disk\n"
     ]
    }
   ],
   "source": [
    "print(Team.get('PG'))"
   ]
  },
  {
   "cell_type": "code",
   "execution_count": 7,
   "id": "fbb0b798-61d1-4668-bd01-86ff57ada75c",
   "metadata": {},
   "outputs": [
    {
     "data": {
      "text/plain": [
       "[0, 2, 4, 6, 8, 10, 12, 14, 16, 18, 20]"
      ]
     },
     "execution_count": 7,
     "metadata": {},
     "output_type": "execute_result"
    }
   ],
   "source": [
    "even = [0, 2, 4, 6, 8, 10, 12, 14, 16, 18, 20]\n",
    "even"
   ]
  },
  {
   "cell_type": "code",
   "execution_count": 10,
   "id": "60c378fa-58a5-4cc7-8e5f-4add945a1e52",
   "metadata": {},
   "outputs": [
    {
     "name": "stdout",
     "output_type": "stream",
     "text": [
      "0 2 4 6 8 10 12 14 16 18 20 "
     ]
    }
   ],
   "source": [
    "for n in even :\n",
    "    print(n, end = \" \")"
   ]
  },
  {
   "cell_type": "code",
   "execution_count": 12,
   "id": "02e33fb1-166d-4552-b281-5ec12b72e9a4",
   "metadata": {},
   "outputs": [
    {
     "name": "stdout",
     "output_type": "stream",
     "text": [
      "0 2 4 6 8 10 12 14 16 18 20 "
     ]
    }
   ],
   "source": [
    "x = 0\n",
    "while x <= 20 :\n",
    "    print(x, end = \" \")\n",
    "    x += 2"
   ]
  },
  {
   "cell_type": "code",
   "execution_count": 13,
   "id": "3338d2e0-2dac-4112-b46f-f0b4f31ff13f",
   "metadata": {},
   "outputs": [
    {
     "name": "stdout",
     "output_type": "stream",
     "text": [
      "1\n",
      "3\n",
      "5\n",
      "7\n",
      "9\n",
      "11\n",
      "13\n",
      "15\n",
      "17\n",
      "19\n",
      "21\n",
      "23\n",
      "25\n",
      "27\n",
      "29\n"
     ]
    }
   ],
   "source": [
    "x = 1\n",
    "while x < 30 :\n",
    "    print(x)\n",
    "    x += 2"
   ]
  },
  {
   "cell_type": "code",
   "execution_count": null,
   "id": "8186af99-d042-442d-9e81-d9ca98c00259",
   "metadata": {},
   "outputs": [],
   "source": []
  }
 ],
 "metadata": {
  "kernelspec": {
   "display_name": "Python 3 (ipykernel)",
   "language": "python",
   "name": "python3"
  },
  "language_info": {
   "codemirror_mode": {
    "name": "ipython",
    "version": 3
   },
   "file_extension": ".py",
   "mimetype": "text/x-python",
   "name": "python",
   "nbconvert_exporter": "python",
   "pygments_lexer": "ipython3",
   "version": "3.12.7"
  },
  "panel-cell-order": [
   "42b3a8f8-bac0-4e91-9e24-2a80fc31ced0"
  ]
 },
 "nbformat": 4,
 "nbformat_minor": 5
}
