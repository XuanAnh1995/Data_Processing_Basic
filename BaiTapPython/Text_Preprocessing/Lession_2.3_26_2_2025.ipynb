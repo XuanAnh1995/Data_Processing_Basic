{
 "cells": [
  {
   "cell_type": "code",
   "execution_count": 1,
   "id": "8979f77b-acc3-417d-98a8-8503ddb17ebe",
   "metadata": {},
   "outputs": [],
   "source": [
    "import re"
   ]
  },
  {
   "cell_type": "code",
   "execution_count": 2,
   "id": "3c39fe0b-687e-43d7-b87c-499cbe995f35",
   "metadata": {},
   "outputs": [
    {
     "name": "stdout",
     "output_type": "stream",
     "text": [
      "C:\\desktop\\notes\n"
     ]
    }
   ],
   "source": [
    "my_folder = r\"C:\\desktop\\notes\"\n",
    "print(my_folder)"
   ]
  },
  {
   "cell_type": "code",
   "execution_count": 3,
   "id": "63058538-5c10-4b2d-9b9c-dea8ae8d059e",
   "metadata": {},
   "outputs": [
    {
     "name": "stdout",
     "output_type": "stream",
     "text": [
      "Thư mục không tồn tại!\n"
     ]
    }
   ],
   "source": [
    "import os\n",
    "if os.path.exists(my_folder):\n",
    "    print(\"Thư mục tồn tại!\")\n",
    "else:\n",
    "    print(\"Thư mục không tồn tại!\")"
   ]
  },
  {
   "cell_type": "code",
   "execution_count": 4,
   "id": "43656110-6cd0-455b-b798-c3113624c375",
   "metadata": {},
   "outputs": [],
   "source": [
    "result_search = re.search(\"pattern\", r\"string to contain the pattern\")"
   ]
  },
  {
   "cell_type": "code",
   "execution_count": 5,
   "id": "8c64c50d-73fa-4ed3-9e02-9209bb4dd1b5",
   "metadata": {},
   "outputs": [
    {
     "name": "stdout",
     "output_type": "stream",
     "text": [
      "<re.Match object; span=(22, 29), match='pattern'>\n"
     ]
    }
   ],
   "source": [
    "print(result_search)"
   ]
  },
  {
   "cell_type": "code",
   "execution_count": 6,
   "id": "5e36212f-6afc-48e5-8e6c-41e620fd2f83",
   "metadata": {},
   "outputs": [
    {
     "name": "stdout",
     "output_type": "stream",
     "text": [
      "None\n"
     ]
    }
   ],
   "source": [
    "result_search_2 = re.search(\"pattern\", r\"the phrase to find isn't in this string\")\n",
    "print(result_search_2)"
   ]
  },
  {
   "cell_type": "code",
   "execution_count": 7,
   "id": "32598fc6-72fe-43ae-afc7-18f4569bca8e",
   "metadata": {},
   "outputs": [],
   "source": [
    "string = r\"sara was able to help me find the items I needed quickly\""
   ]
  },
  {
   "cell_type": "code",
   "execution_count": 8,
   "id": "684b8784-8b3d-4be1-b69f-aa127bb2aba8",
   "metadata": {},
   "outputs": [
    {
     "name": "stdout",
     "output_type": "stream",
     "text": [
      "sarah was able to help me find the items I needed quickly\n"
     ]
    }
   ],
   "source": [
    "new_string = re.sub(\"sara\", \"sarah\", string)\n",
    "print(new_string)"
   ]
  },
  {
   "cell_type": "code",
   "execution_count": 9,
   "id": "ac34f1a3-1a01-408e-859a-97b0e8e3642d",
   "metadata": {},
   "outputs": [
    {
     "name": "stdout",
     "output_type": "stream",
     "text": [
      "['sam was a great help to me in the store', 'the cashier was very rude to me, I think her name was eleanor', 'amazing work from sadeen!', 'sarah was able to help me find the items i needed quickly', 'lucy is such a great addition to the team', 'great service from sara she found me what i wanted']\n"
     ]
    }
   ],
   "source": [
    "customer_reviews = ['sam was a great help to me in the store', \n",
    " 'the cashier was very rude to me, I think her name was eleanor', \n",
    " 'amazing work from sadeen!', \n",
    " 'sarah was able to help me find the items i needed quickly', \n",
    " 'lucy is such a great addition to the team', \n",
    " 'great service from sara she found me what i wanted']\n",
    "print(customer_reviews)"
   ]
  },
  {
   "cell_type": "code",
   "execution_count": 10,
   "id": "0d468472-1702-426e-bd8c-11ea4d20be3a",
   "metadata": {},
   "outputs": [],
   "source": [
    "sarah_review = []"
   ]
  },
  {
   "cell_type": "code",
   "execution_count": 11,
   "id": "c5704427-e364-4bfd-8028-0b5902c35e1e",
   "metadata": {},
   "outputs": [],
   "source": [
    "pattern_to_find = r\"sarah?\""
   ]
  },
  {
   "cell_type": "code",
   "execution_count": 12,
   "id": "4d90bc17-79cf-4636-a04b-46497ae3053c",
   "metadata": {},
   "outputs": [],
   "source": [
    "for string in customer_reviews:\n",
    "    if (re.search(pattern_to_find, string)):\n",
    "        sarah_review.append(string)"
   ]
  },
  {
   "cell_type": "code",
   "execution_count": 13,
   "id": "0b38dda5-4fdd-4bc8-86b4-23db8cf97797",
   "metadata": {},
   "outputs": [
    {
     "name": "stdout",
     "output_type": "stream",
     "text": [
      "['sarah was able to help me find the items i needed quickly', 'great service from sara she found me what i wanted']\n"
     ]
    }
   ],
   "source": [
    "print(sarah_review)"
   ]
  },
  {
   "cell_type": "code",
   "execution_count": 15,
   "id": "fdbc17bc-5873-4504-b84d-ad4e875c2698",
   "metadata": {},
   "outputs": [],
   "source": [
    "a_reviews = []\n",
    "pattern_to_find = r\"^a\"\n",
    "for string in customer_reviews:\n",
    "    if(re.search(pattern_to_find, string, re.IGNORECASE)):\n",
    "        a_reviews.append(string)"
   ]
  },
  {
   "cell_type": "code",
   "execution_count": 16,
   "id": "aa609c7f-4ec9-4831-9206-b75f92b07733",
   "metadata": {},
   "outputs": [
    {
     "name": "stdout",
     "output_type": "stream",
     "text": [
      "['amazing work from sadeen!']\n"
     ]
    }
   ],
   "source": [
    "print(a_reviews)"
   ]
  },
  {
   "cell_type": "code",
   "execution_count": 18,
   "id": "c5334348-645f-4f82-9dd2-e0efe611e861",
   "metadata": {},
   "outputs": [],
   "source": [
    "y_reviews = []\n",
    "pattern_to_find = r\"y$\"\n",
    "for string in customer_reviews:\n",
    "    if(re.search(pattern_to_find, string, re.IGNORECASE)):\n",
    "        y_reviews.append(string)"
   ]
  },
  {
   "cell_type": "code",
   "execution_count": 19,
   "id": "c1182b43-a63c-4e1d-8e06-3b3bfa221ce2",
   "metadata": {},
   "outputs": [
    {
     "name": "stdout",
     "output_type": "stream",
     "text": [
      "['sarah was able to help me find the items i needed quickly']\n"
     ]
    }
   ],
   "source": [
    "print(y_reviews)"
   ]
  },
  {
   "cell_type": "code",
   "execution_count": 24,
   "id": "28346539-de94-45d1-a4d0-11788e221877",
   "metadata": {},
   "outputs": [],
   "source": [
    "needwant_reviews = []\n",
    "pattern_to_find = r\"(need|want)ed\"\n",
    "for string in customer_reviews:\n",
    "    if(re.search(pattern_to_find, string)):\n",
    "        needwant_reviews.append(string)"
   ]
  },
  {
   "cell_type": "code",
   "execution_count": 25,
   "id": "d46b3c9a-71b3-4284-a521-2b98370e3817",
   "metadata": {},
   "outputs": [
    {
     "name": "stdout",
     "output_type": "stream",
     "text": [
      "['sarah was able to help me find the items i needed quickly', 'great service from sara she found me what i wanted']\n"
     ]
    }
   ],
   "source": [
    "print(needwant_reviews)"
   ]
  },
  {
   "cell_type": "code",
   "execution_count": 26,
   "id": "b2ed8d02-7575-45ac-8110-7f707f3b80e3",
   "metadata": {},
   "outputs": [],
   "source": [
    "no_punct_reviews = []\n",
    "pattern_to_find = r\"[^\\W\\S]\""
   ]
  },
  {
   "cell_type": "code",
   "execution_count": 27,
   "id": "ac35a9c5-bf0c-41ce-b89e-48e3eebdc830",
   "metadata": {},
   "outputs": [],
   "source": [
    "for string in customer_reviews:\n",
    "    no_punct_string = re.sub(pattern_to_find, \"\", string)\n",
    "    no_punct_reviews.append(no_punct_string)\n"
   ]
  },
  {
   "cell_type": "code",
   "execution_count": 28,
   "id": "93640873-bd06-4c92-a3ba-b312b94512df",
   "metadata": {},
   "outputs": [
    {
     "name": "stdout",
     "output_type": "stream",
     "text": [
      "['sam was a great help to me in the store', 'the cashier was very rude to me, I think her name was eleanor', 'amazing work from sadeen!', 'sarah was able to help me find the items i needed quickly', 'lucy is such a great addition to the team', 'great service from sara she found me what i wanted']\n"
     ]
    }
   ],
   "source": [
    "print(no_punct_reviews)"
   ]
  },
  {
   "cell_type": "code",
   "execution_count": 29,
   "id": "b3b25223-0d5a-43b2-a712-2711ab2e511c",
   "metadata": {},
   "outputs": [
    {
     "name": "stdout",
     "output_type": "stream",
     "text": [
      "['sam đã giúp tôi rất nhiều trong cửa hàng', 'nhân viên thu ngân rất thô lỗ với tôi, tôi nghĩ tên cô ấy là eleanor', 'công việc tuyệt vời từ sadeen!', 'sarah đã giúp tôi tìm thấy những món đồ tôi cần một cách nhanh chóng', 'lucy là sự bổ sung tuyệt vời cho nhóm', 'dịch vụ tuyệt vời từ sara, cô ấy đã tìm thấy những gì tôi muốn']\n"
     ]
    }
   ],
   "source": [
    "customer_reviews = ['sam đã giúp tôi rất nhiều trong cửa hàng',\n",
    "'nhân viên thu ngân rất thô lỗ với tôi, tôi nghĩ tên cô ấy là eleanor',\n",
    "'công việc tuyệt vời từ sadeen!',\n",
    "'sarah đã giúp tôi tìm thấy những món đồ tôi cần một cách nhanh chóng',\n",
    "'lucy là sự bổ sung tuyệt vời cho nhóm',\n",
    "'dịch vụ tuyệt vời từ sara, cô ấy đã tìm thấy những gì tôi muốn']\n",
    "print(customer_reviews)"
   ]
  },
  {
   "cell_type": "code",
   "execution_count": 30,
   "id": "7638151a-4509-4c3d-bd08-279eb46635cd",
   "metadata": {},
   "outputs": [],
   "source": [
    "customer_reviews = [re.sub(r\"\\bsara\\b\", \"sarah\", review, flags=re.IGNORECASE) for review in customer_reviews]"
   ]
  },
  {
   "cell_type": "code",
   "execution_count": 31,
   "id": "7d421f42-c989-4629-8f0e-f083f1591dd7",
   "metadata": {},
   "outputs": [
    {
     "name": "stdout",
     "output_type": "stream",
     "text": [
      "['sam đã giúp tôi rất nhiều trong cửa hàng', 'nhân viên thu ngân rất thô lỗ với tôi, tôi nghĩ tên cô ấy là eleanor', 'công việc tuyệt vời từ sadeen!', 'sarah đã giúp tôi tìm thấy những món đồ tôi cần một cách nhanh chóng', 'lucy là sự bổ sung tuyệt vời cho nhóm', 'dịch vụ tuyệt vời từ sarah, cô ấy đã tìm thấy những gì tôi muốn']\n"
     ]
    }
   ],
   "source": [
    "print(customer_reviews)"
   ]
  },
  {
   "cell_type": "code",
   "execution_count": 32,
   "id": "a6788c08-8a2f-4d77-8f89-1842fb46c0b5",
   "metadata": {},
   "outputs": [],
   "source": [
    "sarah_reviews = []\n",
    "pattern_to_find = \"sarah\"\n",
    "for string in customer_reviews:\n",
    "    if(re.search(pattern_to_find, string)):\n",
    "        sarah_reviews.append(string)"
   ]
  },
  {
   "cell_type": "code",
   "execution_count": 33,
   "id": "c1ef7a2f-b90a-42ad-9dfb-07cac9161404",
   "metadata": {},
   "outputs": [
    {
     "name": "stdout",
     "output_type": "stream",
     "text": [
      "['sarah đã giúp tôi tìm thấy những món đồ tôi cần một cách nhanh chóng', 'dịch vụ tuyệt vời từ sarah, cô ấy đã tìm thấy những gì tôi muốn']\n"
     ]
    }
   ],
   "source": [
    "print(sarah_reviews)"
   ]
  },
  {
   "cell_type": "code",
   "execution_count": 36,
   "id": "b6754cd1-9882-4146-8d9a-519e7e3ec0f4",
   "metadata": {},
   "outputs": [
    {
     "name": "stderr",
     "output_type": "stream",
     "text": [
      "[nltk_data] Downloading package punkt_tab to\n",
      "[nltk_data]     C:\\Users\\luuvi\\AppData\\Roaming\\nltk_data...\n",
      "[nltk_data]   Package punkt_tab is already up-to-date!\n"
     ]
    }
   ],
   "source": [
    "import nltk\n",
    "nltk.download('punkt_tab')\n",
    "from nltk.tokenize import word_tokenize, sent_tokenize"
   ]
  },
  {
   "cell_type": "code",
   "execution_count": 37,
   "id": "47f86eb0-c471-4e57-8a29-1f773e6a0c22",
   "metadata": {},
   "outputs": [],
   "source": [
    "sentences = \"Her cat's name is Luna, Her dog's name is Max\""
   ]
  },
  {
   "cell_type": "code",
   "execution_count": 38,
   "id": "700d6d22-0eb5-40b8-9f75-0672d049d014",
   "metadata": {},
   "outputs": [
    {
     "data": {
      "text/plain": [
       "[\"Her cat's name is Luna, Her dog's name is Max\"]"
      ]
     },
     "execution_count": 38,
     "metadata": {},
     "output_type": "execute_result"
    }
   ],
   "source": [
    "sent_tokenize(sentences)"
   ]
  },
  {
   "cell_type": "code",
   "execution_count": 40,
   "id": "939e3ace-26bb-4889-9c6e-912e028be82a",
   "metadata": {},
   "outputs": [
    {
     "data": {
      "text/plain": [
       "['her', 'cat', \"'s\", 'name', 'is', 'luna']"
      ]
     },
     "execution_count": 40,
     "metadata": {},
     "output_type": "execute_result"
    }
   ],
   "source": [
    "sentences = \"her cat's name is luna\"\n",
    "word_tokenize(sentences)"
   ]
  },
  {
   "cell_type": "code",
   "execution_count": 41,
   "id": "1fe93552-cd57-44ef-8adc-5af4b9153208",
   "metadata": {},
   "outputs": [
    {
     "data": {
      "text/plain": [
       "['Her',\n",
       " 'cat',\n",
       " \"'s\",\n",
       " 'name',\n",
       " 'is',\n",
       " 'Luna',\n",
       " ',',\n",
       " 'Her',\n",
       " 'dog',\n",
       " \"'s\",\n",
       " 'name',\n",
       " 'is',\n",
       " 'Max']"
      ]
     },
     "execution_count": 41,
     "metadata": {},
     "output_type": "execute_result"
    }
   ],
   "source": [
    "sentence_2 = \"Her cat's name is Luna, Her dog's name is Max\"\n",
    "word_tokenize(sentence_2)"
   ]
  },
  {
   "cell_type": "code",
   "execution_count": 42,
   "id": "933d6db9-3fba-4b6a-9ac9-273c496cd9aa",
   "metadata": {},
   "outputs": [],
   "source": [
    "from nltk.stem import PorterStemmer"
   ]
  },
  {
   "cell_type": "code",
   "execution_count": 43,
   "id": "2c9b64dc-1819-41b4-ad15-347cf2f83274",
   "metadata": {},
   "outputs": [],
   "source": [
    "ps = PorterStemmer()"
   ]
  },
  {
   "cell_type": "code",
   "execution_count": 44,
   "id": "7fe64e69-28b0-43ad-9859-d26b94786922",
   "metadata": {},
   "outputs": [],
   "source": [
    "connect_tokens = ['connecting', 'connected', 'connectivity', 'connect', 'connects']"
   ]
  },
  {
   "cell_type": "code",
   "execution_count": 49,
   "id": "d631aa4d-6984-45ed-bba6-731a7bd2a19a",
   "metadata": {},
   "outputs": [
    {
     "name": "stdout",
     "output_type": "stream",
     "text": [
      "connecting :  connect\n",
      "connected :  connect\n",
      "connectivity :  connect\n",
      "connect :  connect\n",
      "connects :  connect\n"
     ]
    }
   ],
   "source": [
    "for t in connect_tokens:\n",
    "    print(t, \": \", ps.stem(t))"
   ]
  },
  {
   "cell_type": "code",
   "execution_count": 47,
   "id": "4a83e132-6184-452e-b795-38f2002757e6",
   "metadata": {},
   "outputs": [],
   "source": [
    "learn_tokens = ['learn', 'learned', 'learning']"
   ]
  },
  {
   "cell_type": "code",
   "execution_count": 48,
   "id": "6e3b96f6-5a0b-411c-aef3-f0948fef457b",
   "metadata": {},
   "outputs": [
    {
     "name": "stdout",
     "output_type": "stream",
     "text": [
      "learn :  learn\n",
      "learned :  learn\n",
      "learning :  learn\n"
     ]
    }
   ],
   "source": [
    "for t in learn_tokens:\n",
    "    print(t, \": \", ps.stem(t))"
   ]
  },
  {
   "cell_type": "code",
   "execution_count": 50,
   "id": "d9f9760e-ec8b-47ef-9156-8c944dc99ce0",
   "metadata": {},
   "outputs": [],
   "source": [
    "like_tokens = ['like', 'better', 'worse']"
   ]
  },
  {
   "cell_type": "code",
   "execution_count": 51,
   "id": "a26b0604-235c-49af-888e-297b4c0c55c3",
   "metadata": {},
   "outputs": [
    {
     "name": "stdout",
     "output_type": "stream",
     "text": [
      "like :  like\n",
      "better :  better\n",
      "worse :  wors\n"
     ]
    }
   ],
   "source": [
    "for t in like_tokens:\n",
    "    print(t, \": \", ps.stem(t))"
   ]
  },
  {
   "cell_type": "code",
   "execution_count": 66,
   "id": "b5eff744-9116-4040-b952-49ba9e5c1282",
   "metadata": {},
   "outputs": [
    {
     "name": "stderr",
     "output_type": "stream",
     "text": [
      "[nltk_data] Downloading package wordnet to\n",
      "[nltk_data]     C:\\Users\\luuvi\\AppData\\Roaming\\nltk_data...\n"
     ]
    },
    {
     "data": {
      "text/plain": [
       "True"
      ]
     },
     "execution_count": 66,
     "metadata": {},
     "output_type": "execute_result"
    }
   ],
   "source": [
    "import nltk \n",
    "nltk.download('wordnet')"
   ]
  },
  {
   "cell_type": "code",
   "execution_count": 67,
   "id": "888d1f84-416b-4fa0-9a3b-0a5436078dd7",
   "metadata": {},
   "outputs": [],
   "source": [
    "from nltk.stem import WordNetLemmatizer"
   ]
  },
  {
   "cell_type": "code",
   "execution_count": 68,
   "id": "720873c7-91d1-4cac-86de-fe4c096eec4f",
   "metadata": {},
   "outputs": [],
   "source": [
    "lemmatizer = WordNetLemmatizer()"
   ]
  },
  {
   "cell_type": "code",
   "execution_count": 69,
   "id": "7ab0d392-d61b-437e-8166-6e67e820a4f7",
   "metadata": {},
   "outputs": [],
   "source": [
    "words = [\"running\", \"flies\", \"better\", \"geese\"]"
   ]
  },
  {
   "cell_type": "code",
   "execution_count": 70,
   "id": "c824492c-212c-4cc9-9929-374716a76cff",
   "metadata": {},
   "outputs": [
    {
     "name": "stdout",
     "output_type": "stream",
     "text": [
      "running -> running\n",
      "flies -> fly\n",
      "better -> better\n",
      "geese -> goose\n"
     ]
    }
   ],
   "source": [
    "for word in words:\n",
    "    print(word, \"->\", lemmatizer.lemmatize(word))"
   ]
  },
  {
   "cell_type": "code",
   "execution_count": 71,
   "id": "37d182cf-6cbb-48ca-a058-76c759b79ade",
   "metadata": {},
   "outputs": [
    {
     "name": "stdout",
     "output_type": "stream",
     "text": [
      "like :  like\n",
      "better :  better\n",
      "worse :  worse\n"
     ]
    }
   ],
   "source": [
    "for t in like_tokens:\n",
    "    print(t, \": \", lemmatizer.lemmatize(t))"
   ]
  },
  {
   "cell_type": "code",
   "execution_count": 72,
   "id": "a3c65dfc-8be0-4f53-a7c3-84b7eb043811",
   "metadata": {},
   "outputs": [
    {
     "name": "stdout",
     "output_type": "stream",
     "text": [
      "connecting :  connecting\n",
      "connected :  connected\n",
      "connectivity :  connectivity\n",
      "connect :  connect\n",
      "connects :  connects\n"
     ]
    }
   ],
   "source": [
    "for t in connect_tokens:\n",
    "    print(t, \": \", lemmatizer.lemmatize(t))"
   ]
  },
  {
   "cell_type": "code",
   "execution_count": null,
   "id": "57efb9a8-dfcb-4623-89b6-74134b02729b",
   "metadata": {},
   "outputs": [],
   "source": []
  }
 ],
 "metadata": {
  "kernelspec": {
   "display_name": "Python 3 (ipykernel)",
   "language": "python",
   "name": "python3"
  },
  "language_info": {
   "codemirror_mode": {
    "name": "ipython",
    "version": 3
   },
   "file_extension": ".py",
   "mimetype": "text/x-python",
   "name": "python",
   "nbconvert_exporter": "python",
   "pygments_lexer": "ipython3",
   "version": "3.12.7"
  },
  "panel-cell-order": [
   "42b3a8f8-bac0-4e91-9e24-2a80fc31ced0"
  ]
 },
 "nbformat": 4,
 "nbformat_minor": 5
}
