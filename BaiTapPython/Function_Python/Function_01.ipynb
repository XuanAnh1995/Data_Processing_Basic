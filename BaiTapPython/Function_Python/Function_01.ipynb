{
 "cells": [
  {
   "cell_type": "code",
   "execution_count": 1,
   "id": "51f08faf-fcff-4901-ac0c-3cf5bb9a02fb",
   "metadata": {},
   "outputs": [
    {
     "name": "stdout",
     "output_type": "stream",
     "text": [
      "Môn 1: Toán\n",
      "Môn 2: Lý\n"
     ]
    }
   ],
   "source": [
    "# Khi không xác định được số đối sô, chúng ta có thể sử dụng dấu *\n",
    "def thoiKhoaBieu(* monHoc):\n",
    "    print(\"Môn 1: \" + monHoc[0])\n",
    "    print(\"Môn 2: \" + monHoc[1])\n",
    "\n",
    "thoiKhoaBieu(\"Toán\", \"Lý\", \"Hóa\", \"Anh Văn\", \"Lịch sử\")"
   ]
  },
  {
   "cell_type": "code",
   "execution_count": 6,
   "id": "7720f445-cf60-44df-93da-dcab1e460fff",
   "metadata": {},
   "outputs": [],
   "source": [
    "def tinhTong(*giaTri):\n",
    "    sum = 0\n",
    "    for x in giaTri:\n",
    "        sum = sum + x\n",
    "    print(sum)"
   ]
  },
  {
   "cell_type": "code",
   "execution_count": 8,
   "id": "b3af8795-be67-4072-9fdf-6bf43cdc7cbe",
   "metadata": {},
   "outputs": [
    {
     "name": "stdout",
     "output_type": "stream",
     "text": [
      "3\n",
      "28\n"
     ]
    }
   ],
   "source": [
    "tinhTong(1, 2)\n",
    "tinhTong(1, 2, 4, 7, 9, 5)"
   ]
  },
  {
   "cell_type": "code",
   "execution_count": 11,
   "id": "f1ab85d1-d5aa-4806-80d6-11856f91660e",
   "metadata": {},
   "outputs": [
    {
     "name": "stdout",
     "output_type": "stream",
     "text": [
      "Xin chào Tung\n",
      "Xin chào Ánh\n"
     ]
    }
   ],
   "source": [
    "# Truyền nhiều đối số, xác định thông qua tên , sử dụng **\n",
    "def xinChao(**ten):\n",
    "    print(\"Xin chào \" + ten[\"ten\"])\n",
    "\n",
    "xinChao(ten = \"Tung\", chuLot = \"Nhat\", ho = \"Lê\")\n",
    "xinChao(ten = \"Ánh\", ho = \"Lưu\", chuLot = \"Việt Xuân\")"
   ]
  },
  {
   "cell_type": "code",
   "execution_count": 18,
   "id": "ec72b882-4dd1-4761-9292-9caaf5aace9d",
   "metadata": {},
   "outputs": [],
   "source": [
    "# Sử dụng từ khóa return trả về giá trị\n",
    "def tinhTich(*giaTri):\n",
    "    tich = 1\n",
    "    for x in giaTri:\n",
    "        tich = tich * x\n",
    "    return tich"
   ]
  },
  {
   "cell_type": "code",
   "execution_count": 21,
   "id": "390ffec8-49b1-4647-9e7a-8c853556366d",
   "metadata": {},
   "outputs": [],
   "source": [
    "tich1 = tinhTich(1, 2,  3)\n",
    "tich2 = tinhTich(2, 19, 1)"
   ]
  },
  {
   "cell_type": "code",
   "execution_count": 22,
   "id": "9674320c-f989-4048-9eb5-74809abd7fa3",
   "metadata": {},
   "outputs": [
    {
     "name": "stdout",
     "output_type": "stream",
     "text": [
      "44\n"
     ]
    }
   ],
   "source": [
    "tong  = tich1 + tich2\n",
    "print(tong)"
   ]
  },
  {
   "cell_type": "code",
   "execution_count": null,
   "id": "9eaa939f-e0ae-47c7-b120-06ba38d709b9",
   "metadata": {},
   "outputs": [],
   "source": []
  }
 ],
 "metadata": {
  "kernelspec": {
   "display_name": "Python 3 (ipykernel)",
   "language": "python",
   "name": "python3"
  },
  "language_info": {
   "codemirror_mode": {
    "name": "ipython",
    "version": 3
   },
   "file_extension": ".py",
   "mimetype": "text/x-python",
   "name": "python",
   "nbconvert_exporter": "python",
   "pygments_lexer": "ipython3",
   "version": "3.12.7"
  }
 },
 "nbformat": 4,
 "nbformat_minor": 5
}
