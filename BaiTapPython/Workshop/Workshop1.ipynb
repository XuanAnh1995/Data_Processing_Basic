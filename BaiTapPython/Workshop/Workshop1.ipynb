{
 "cells": [
  {
   "cell_type": "code",
   "execution_count": null,
   "id": "723c733d-d799-48ca-8651-a63af96071a8",
   "metadata": {
    "scrolled": true
   },
   "outputs": [
    {
     "name": "stdout",
     "output_type": "stream",
     "text": [
      "--------------- MENU ---------------\n",
      "Vui lòng lựa chọn chức năng: \n",
      "1 - Thêm một số điện thoại vào thùng phiếu dự thưởng\n",
      "2 - Xóa một số điện thoại từ thùng phiếu dự thưởng\n",
      "3 - Quay số ngẫu nhiên lấy ra một số điện thoại trúng thưởng\n",
      "4 - Kết thúc chương trình\n",
      "set()\n"
     ]
    },
    {
     "name": "stdin",
     "output_type": "stream",
     "text": [
      "Lựa chọn:  1\n",
      "Nhập số điện thoại dự thưởng:  123\n"
     ]
    },
    {
     "name": "stdout",
     "output_type": "stream",
     "text": [
      "{'123'}\n"
     ]
    },
    {
     "name": "stdin",
     "output_type": "stream",
     "text": [
      "Lựa chọn:  1\n",
      "Nhập số điện thoại dự thưởng:  124\n"
     ]
    },
    {
     "name": "stdout",
     "output_type": "stream",
     "text": [
      "{'124', '123'}\n"
     ]
    },
    {
     "name": "stdin",
     "output_type": "stream",
     "text": [
      "Lựa chọn:  1\n",
      "Nhập số điện thoại dự thưởng:  125\n"
     ]
    },
    {
     "name": "stdout",
     "output_type": "stream",
     "text": [
      "{'124', '123', '125'}\n"
     ]
    },
    {
     "name": "stdin",
     "output_type": "stream",
     "text": [
      "Lựa chọn:  3\n"
     ]
    },
    {
     "name": "stdout",
     "output_type": "stream",
     "text": [
      "Vị trí trúng thưởng: 0\n",
      "Chúc mừng SĐT 124trúng thưởng\n",
      "{'124', '123', '125'}\n"
     ]
    }
   ],
   "source": [
    "#Thư viện random\n",
    "import random\n",
    "\n",
    "# Khai báo SET\n",
    "thungPhieu = set()\n",
    "\n",
    "print(\"--------------- MENU ---------------\")\n",
    "print(\"Vui lòng lựa chọn chức năng: \")\n",
    "print(\"1 - Thêm một số điện thoại vào thùng phiếu dự thưởng\")\n",
    "print(\"2 - Xóa một số điện thoại từ thùng phiếu dự thưởng\")\n",
    "print(\"3 - Quay số ngẫu nhiên lấy ra một số điện thoại trúng thưởng\")\n",
    "print(\"4 - Kết thúc chương trình\")\n",
    "\n",
    "# Vòng lặp\n",
    "while(True):\n",
    "   \n",
    "    print(thungPhieu)\n",
    "\n",
    "    luaChon = int(input(\"Lựa chọn: \"))\n",
    "\n",
    "    if(luaChon == 1):\n",
    "        soDienThoai  = input(\"Nhập số điện thoại dự thưởng: \")\n",
    "        thungPhieu.add(soDienThoai)\n",
    "    elif(luaChon == 2):\n",
    "        soDienThoai  = input(\"Nhập số điện thoại dự thưởng cần xóa: \")\n",
    "        thungPhieu.discard(soDienThoai)\n",
    "    elif(luaChon == 3):\n",
    "        index = random.randint(0, len(thungPhieu))\n",
    "        print(\"Vị trí trúng thưởng: \" + str(index))\n",
    "\n",
    "        for i, value in enumerate(thungPhieu):\n",
    "            if i == index:\n",
    "                print (\"Chúc mừng SĐT \" + str(value) + \" trúng thưởng\")\n",
    "                break\n",
    "    else :\n",
    "        break"
   ]
  },
  {
   "cell_type": "code",
   "execution_count": null,
   "id": "e2fcc8f4-8135-4999-a9df-f0eeae42003c",
   "metadata": {},
   "outputs": [],
   "source": []
  }
 ],
 "metadata": {
  "kernelspec": {
   "display_name": "Python 3 (ipykernel)",
   "language": "python",
   "name": "python3"
  },
  "language_info": {
   "codemirror_mode": {
    "name": "ipython",
    "version": 3
   },
   "file_extension": ".py",
   "mimetype": "text/x-python",
   "name": "python",
   "nbconvert_exporter": "python",
   "pygments_lexer": "ipython3",
   "version": "3.12.7"
  }
 },
 "nbformat": 4,
 "nbformat_minor": 5
}
