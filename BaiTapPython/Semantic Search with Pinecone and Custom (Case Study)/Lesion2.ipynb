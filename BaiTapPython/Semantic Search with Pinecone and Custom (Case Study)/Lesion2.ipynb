{
 "cells": [
  {
   "cell_type": "code",
   "execution_count": 1,
   "id": "883fa87a-539d-4ff7-a59a-37e0fea86c98",
   "metadata": {},
   "outputs": [],
   "source": [
    "%load_ext dotenv\n",
    "%dotenv"
   ]
  },
  {
   "cell_type": "code",
   "execution_count": 2,
   "id": "da44838f-92fa-4730-b646-c37ee73f0060",
   "metadata": {},
   "outputs": [],
   "source": [
    "import pandas as pd\n",
    "import os\n",
    "from pinecone import Pinecone, ServerlessSpec\n",
    "from dotenv import load_dotenv, find_dotenv\n",
    "import pinecone\n",
    "from sentence_transformers import SentenceTransformer"
   ]
  },
  {
   "cell_type": "code",
   "execution_count": 3,
   "id": "f9c5f035-630e-447d-8a18-34cc7cd75ee1",
   "metadata": {},
   "outputs": [],
   "source": [
    "files = pd.read_csv(\"course_section_descriptions.csv\", encoding= \"ANSI\")"
   ]
  },
  {
   "cell_type": "code",
   "execution_count": 4,
   "id": "6a74387c-0a93-4dbe-83f7-9a45b5052935",
   "metadata": {},
   "outputs": [
    {
     "name": "stdout",
     "output_type": "stream",
     "text": [
      "<class 'pandas.core.frame.DataFrame'>\n",
      "RangeIndex: 680 entries, 0 to 679\n",
      "Data columns (total 11 columns):\n",
      " #   Column                    Non-Null Count  Dtype \n",
      "---  ------                    --------------  ----- \n",
      " 0   course_id                 680 non-null    int64 \n",
      " 1   course_name               680 non-null    object\n",
      " 2   course_slug               680 non-null    object\n",
      " 3   course_description        680 non-null    object\n",
      " 4   course_description_short  680 non-null    object\n",
      " 5   course_technology         680 non-null    object\n",
      " 6   course_topic              680 non-null    object\n",
      " 7   course_instructor_quote   660 non-null    object\n",
      " 8   section_id                680 non-null    int64 \n",
      " 9   section_name              680 non-null    object\n",
      " 10  section_description       680 non-null    object\n",
      "dtypes: int64(2), object(9)\n",
      "memory usage: 58.6+ KB\n"
     ]
    }
   ],
   "source": [
    "files.info()"
   ]
  },
  {
   "cell_type": "code",
   "execution_count": 5,
   "id": "1484abdb-1047-468b-8535-f9f588436758",
   "metadata": {},
   "outputs": [
    {
     "data": {
      "text/html": [
       "<div>\n",
       "<style scoped>\n",
       "    .dataframe tbody tr th:only-of-type {\n",
       "        vertical-align: middle;\n",
       "    }\n",
       "\n",
       "    .dataframe tbody tr th {\n",
       "        vertical-align: top;\n",
       "    }\n",
       "\n",
       "    .dataframe thead th {\n",
       "        text-align: right;\n",
       "    }\n",
       "</style>\n",
       "<table border=\"1\" class=\"dataframe\">\n",
       "  <thead>\n",
       "    <tr style=\"text-align: right;\">\n",
       "      <th></th>\n",
       "      <th>course_id</th>\n",
       "      <th>course_name</th>\n",
       "      <th>course_slug</th>\n",
       "      <th>course_description</th>\n",
       "      <th>course_description_short</th>\n",
       "      <th>course_technology</th>\n",
       "      <th>course_topic</th>\n",
       "      <th>course_instructor_quote</th>\n",
       "      <th>section_id</th>\n",
       "      <th>section_name</th>\n",
       "      <th>section_description</th>\n",
       "    </tr>\n",
       "  </thead>\n",
       "  <tbody>\n",
       "    <tr>\n",
       "      <th>0</th>\n",
       "      <td>2</td>\n",
       "      <td>Introduction to Tableau</td>\n",
       "      <td>tableau</td>\n",
       "      <td>Tableau is now one of the most popular busines...</td>\n",
       "      <td>Teaching you how to tell compelling stories wi...</td>\n",
       "      <td>tableau</td>\n",
       "      <td>data visualization</td>\n",
       "      <td>Data scientists don’t just need to deal with d...</td>\n",
       "      <td>9</td>\n",
       "      <td>Introduction to Tableau</td>\n",
       "      <td>While Tableau is an indispensable tool in the ...</td>\n",
       "    </tr>\n",
       "    <tr>\n",
       "      <th>1</th>\n",
       "      <td>2</td>\n",
       "      <td>Introduction to Tableau</td>\n",
       "      <td>tableau</td>\n",
       "      <td>Tableau is now one of the most popular busines...</td>\n",
       "      <td>Teaching you how to tell compelling stories wi...</td>\n",
       "      <td>tableau</td>\n",
       "      <td>data visualization</td>\n",
       "      <td>Data scientists don’t just need to deal with d...</td>\n",
       "      <td>10</td>\n",
       "      <td>Tableau Functionalities</td>\n",
       "      <td>In this section, you will create your first Ta...</td>\n",
       "    </tr>\n",
       "    <tr>\n",
       "      <th>2</th>\n",
       "      <td>2</td>\n",
       "      <td>Introduction to Tableau</td>\n",
       "      <td>tableau</td>\n",
       "      <td>Tableau is now one of the most popular busines...</td>\n",
       "      <td>Teaching you how to tell compelling stories wi...</td>\n",
       "      <td>tableau</td>\n",
       "      <td>data visualization</td>\n",
       "      <td>Data scientists don’t just need to deal with d...</td>\n",
       "      <td>11</td>\n",
       "      <td>The Tableau Exercise</td>\n",
       "      <td>This section is a practical example that will ...</td>\n",
       "    </tr>\n",
       "    <tr>\n",
       "      <th>3</th>\n",
       "      <td>3</td>\n",
       "      <td>The Complete Data Visualization Course with Py...</td>\n",
       "      <td>data-visualization</td>\n",
       "      <td>The Data Visualization course is designed for ...</td>\n",
       "      <td>Teaching you how to master the art of creating...</td>\n",
       "      <td>python</td>\n",
       "      <td>data visualization</td>\n",
       "      <td>Data visualization is the face of data. Many p...</td>\n",
       "      <td>12</td>\n",
       "      <td>Introduction</td>\n",
       "      <td>In this section, you will learn about the impo...</td>\n",
       "    </tr>\n",
       "    <tr>\n",
       "      <th>4</th>\n",
       "      <td>3</td>\n",
       "      <td>The Complete Data Visualization Course with Py...</td>\n",
       "      <td>data-visualization</td>\n",
       "      <td>The Data Visualization course is designed for ...</td>\n",
       "      <td>Teaching you how to master the art of creating...</td>\n",
       "      <td>python</td>\n",
       "      <td>data visualization</td>\n",
       "      <td>Data visualization is the face of data. Many p...</td>\n",
       "      <td>13</td>\n",
       "      <td>Setting Up the Environments</td>\n",
       "      <td>Here, we set up different environments for the...</td>\n",
       "    </tr>\n",
       "  </tbody>\n",
       "</table>\n",
       "</div>"
      ],
      "text/plain": [
       "   course_id                                        course_name  \\\n",
       "0          2                            Introduction to Tableau   \n",
       "1          2                            Introduction to Tableau   \n",
       "2          2                            Introduction to Tableau   \n",
       "3          3  The Complete Data Visualization Course with Py...   \n",
       "4          3  The Complete Data Visualization Course with Py...   \n",
       "\n",
       "          course_slug                                 course_description  \\\n",
       "0             tableau  Tableau is now one of the most popular busines...   \n",
       "1             tableau  Tableau is now one of the most popular busines...   \n",
       "2             tableau  Tableau is now one of the most popular busines...   \n",
       "3  data-visualization  The Data Visualization course is designed for ...   \n",
       "4  data-visualization  The Data Visualization course is designed for ...   \n",
       "\n",
       "                            course_description_short course_technology  \\\n",
       "0  Teaching you how to tell compelling stories wi...           tableau   \n",
       "1  Teaching you how to tell compelling stories wi...           tableau   \n",
       "2  Teaching you how to tell compelling stories wi...           tableau   \n",
       "3  Teaching you how to master the art of creating...            python   \n",
       "4  Teaching you how to master the art of creating...            python   \n",
       "\n",
       "         course_topic                            course_instructor_quote  \\\n",
       "0  data visualization  Data scientists don’t just need to deal with d...   \n",
       "1  data visualization  Data scientists don’t just need to deal with d...   \n",
       "2  data visualization  Data scientists don’t just need to deal with d...   \n",
       "3  data visualization  Data visualization is the face of data. Many p...   \n",
       "4  data visualization  Data visualization is the face of data. Many p...   \n",
       "\n",
       "   section_id                 section_name  \\\n",
       "0           9      Introduction to Tableau   \n",
       "1          10      Tableau Functionalities   \n",
       "2          11         The Tableau Exercise   \n",
       "3          12                 Introduction   \n",
       "4          13  Setting Up the Environments   \n",
       "\n",
       "                                 section_description  \n",
       "0  While Tableau is an indispensable tool in the ...  \n",
       "1  In this section, you will create your first Ta...  \n",
       "2  This section is a practical example that will ...  \n",
       "3  In this section, you will learn about the impo...  \n",
       "4  Here, we set up different environments for the...  "
      ]
     },
     "execution_count": 5,
     "metadata": {},
     "output_type": "execute_result"
    }
   ],
   "source": [
    "files.head()"
   ]
  },
  {
   "cell_type": "code",
   "execution_count": 6,
   "id": "bc6ecc5a-eaed-46c0-8334-105c44654f10",
   "metadata": {},
   "outputs": [],
   "source": [
    "files[\"unique_id\"] = files[\"course_id\"].astype(str) + ' - ' + files[\"section_id\"] .astype(str)"
   ]
  },
  {
   "cell_type": "code",
   "execution_count": 7,
   "id": "4ee916d3-c713-444f-b138-1d695bbf4fe3",
   "metadata": {},
   "outputs": [],
   "source": [
    "files[\"metadata\"] = files.apply(lambda row: {\n",
    "    \"course_name\" : row[\"course_name\"],\n",
    "    \"section_name\" : row[\"section_name\"],\n",
    "    \"section_description\" : row[\"section_description\"]\n",
    "}, axis= 1)"
   ]
  },
  {
   "cell_type": "code",
   "execution_count": 8,
   "id": "102e18df-d4c6-4ed2-a1c7-f6a3ca84098c",
   "metadata": {},
   "outputs": [
    {
     "data": {
      "text/plain": [
       "0    {'course_name': 'Introduction to Tableau', 'se...\n",
       "1    {'course_name': 'Introduction to Tableau', 'se...\n",
       "2    {'course_name': 'Introduction to Tableau', 'se...\n",
       "3    {'course_name': 'The Complete Data Visualizati...\n",
       "4    {'course_name': 'The Complete Data Visualizati...\n",
       "Name: metadata, dtype: object"
      ]
     },
     "execution_count": 8,
     "metadata": {},
     "output_type": "execute_result"
    }
   ],
   "source": [
    "files[\"metadata\"].head()"
   ]
  },
  {
   "cell_type": "code",
   "execution_count": 10,
   "id": "bf269714-caec-4d9a-9025-fd3ca263a2f4",
   "metadata": {},
   "outputs": [],
   "source": [
    "def create_embedding(row):\n",
    "    combined_text = f'''{row[\"course_name\"]}\n",
    "                        {row[\"course_technology\"]}\n",
    "                        {row[\"course_description\"]}\n",
    "                        {row[\"section_name\"]}\n",
    "                        {row[\"section_description\"]}\n",
    "                     '''\n",
    "    return model.encode(combined_text, show_progress_bar = False)"
   ]
  },
  {
   "cell_type": "code",
   "execution_count": 11,
   "id": "4e32bf35-ce76-408c-b0da-c5e35a6dfdfa",
   "metadata": {},
   "outputs": [],
   "source": [
    "model = SentenceTransformer(\"all-MiniLM-L6-v2\")"
   ]
  },
  {
   "cell_type": "code",
   "execution_count": 12,
   "id": "34e90062-7cf6-4837-97ed-49a0788017bb",
   "metadata": {},
   "outputs": [],
   "source": [
    "files[\"embedding\"] = files.apply(create_embedding, axis= 1)"
   ]
  },
  {
   "cell_type": "raw",
   "id": "c4ee7e1a-8985-411d-9524-21af60355d93",
   "metadata": {},
   "source": [
    "Upserting data to Pinecone"
   ]
  },
  {
   "cell_type": "code",
   "execution_count": 14,
   "id": "867cc92a-8a1c-4486-89ae-a0347f6c92dd",
   "metadata": {},
   "outputs": [
    {
     "data": {
      "text/plain": [
       "True"
      ]
     },
     "execution_count": 14,
     "metadata": {},
     "output_type": "execute_result"
    }
   ],
   "source": [
    "load_dotenv(find_dotenv(), override= True)"
   ]
  },
  {
   "cell_type": "code",
   "execution_count": 15,
   "id": "102076ef-b404-4665-ac21-b5196b263563",
   "metadata": {},
   "outputs": [],
   "source": [
    "pc = Pinecone(api_key= os.environ.get(\"PINECONE_API_KEY \"), environment = os.environ.get(\"PINECONE_ENV\"))"
   ]
  },
  {
   "cell_type": "code",
   "execution_count": 19,
   "id": "89e24005-e06a-4904-8de4-c1989b54de27",
   "metadata": {},
   "outputs": [
    {
     "data": {
      "text/plain": [
       "[\n",
       "    {\n",
       "        \"name\": \"my-index\",\n",
       "        \"metric\": \"cosine\",\n",
       "        \"host\": \"my-index-03idc8k.svc.aped-4627-b74a.pinecone.io\",\n",
       "        \"spec\": {\n",
       "            \"serverless\": {\n",
       "                \"cloud\": \"aws\",\n",
       "                \"region\": \"us-east-1\"\n",
       "            }\n",
       "        },\n",
       "        \"status\": {\n",
       "            \"ready\": true,\n",
       "            \"state\": \"Ready\"\n",
       "        },\n",
       "        \"vector_type\": \"dense\",\n",
       "        \"dimension\": 384,\n",
       "        \"deletion_protection\": \"disabled\",\n",
       "        \"tags\": null\n",
       "    },\n",
       "    {\n",
       "        \"name\": \"text\",\n",
       "        \"metric\": \"cosine\",\n",
       "        \"host\": \"text-03idc8k.svc.aped-4627-b74a.pinecone.io\",\n",
       "        \"spec\": {\n",
       "            \"serverless\": {\n",
       "                \"cloud\": \"aws\",\n",
       "                \"region\": \"us-east-1\"\n",
       "            }\n",
       "        },\n",
       "        \"status\": {\n",
       "            \"ready\": true,\n",
       "            \"state\": \"Ready\"\n",
       "        },\n",
       "        \"vector_type\": \"dense\",\n",
       "        \"dimension\": 384,\n",
       "        \"deletion_protection\": \"disabled\",\n",
       "        \"tags\": null\n",
       "    },\n",
       "    {\n",
       "        \"name\": \"my-index-3\",\n",
       "        \"metric\": \"dotproduct\",\n",
       "        \"host\": \"my-index-3-03idc8k.svc.aped-4627-b74a.pinecone.io\",\n",
       "        \"spec\": {\n",
       "            \"serverless\": {\n",
       "                \"cloud\": \"aws\",\n",
       "                \"region\": \"us-east-1\"\n",
       "            }\n",
       "        },\n",
       "        \"status\": {\n",
       "            \"ready\": true,\n",
       "            \"state\": \"Ready\"\n",
       "        },\n",
       "        \"vector_type\": \"dense\",\n",
       "        \"dimension\": 1000,\n",
       "        \"deletion_protection\": \"disabled\",\n",
       "        \"tags\": null\n",
       "    },\n",
       "    {\n",
       "        \"name\": \"my-index-2\",\n",
       "        \"metric\": \"euclidean\",\n",
       "        \"host\": \"my-index-2-03idc8k.svc.aped-4627-b74a.pinecone.io\",\n",
       "        \"spec\": {\n",
       "            \"serverless\": {\n",
       "                \"cloud\": \"aws\",\n",
       "                \"region\": \"us-east-1\"\n",
       "            }\n",
       "        },\n",
       "        \"status\": {\n",
       "            \"ready\": true,\n",
       "            \"state\": \"Ready\"\n",
       "        },\n",
       "        \"vector_type\": \"dense\",\n",
       "        \"dimension\": 1536,\n",
       "        \"deletion_protection\": \"disabled\",\n",
       "        \"tags\": null\n",
       "    }\n",
       "]"
      ]
     },
     "execution_count": 19,
     "metadata": {},
     "output_type": "execute_result"
    }
   ],
   "source": [
    "pc.list_indexes()"
   ]
  },
  {
   "cell_type": "code",
   "execution_count": 17,
   "id": "73a53da5-dede-4862-ad05-99c20d2dfac6",
   "metadata": {},
   "outputs": [],
   "source": [
    "index_name = \"my-index\"\n",
    "dimension = 384\n",
    "metric = \"cosine\""
   ]
  },
  {
   "cell_type": "code",
   "execution_count": 20,
   "id": "abc3a69a-8a7c-4ed7-ba61-62a6dd23f276",
   "metadata": {},
   "outputs": [
    {
     "name": "stdout",
     "output_type": "stream",
     "text": [
      "my-index successfully deleted\n"
     ]
    }
   ],
   "source": [
    "if index_name in [index.name for index in pc.list_indexes()]:\n",
    "    pc.delete_index(index_name)\n",
    "    print(f\"{index_name} successfully deleted\")\n",
    "else :\n",
    "    print(f\"{index_name}  not in index list\")"
   ]
  },
  {
   "cell_type": "code",
   "execution_count": 21,
   "id": "100648d6-9f6d-419e-9a1f-5159ea83a627",
   "metadata": {},
   "outputs": [
    {
     "data": {
      "text/plain": [
       "{\n",
       "    \"name\": \"my-index\",\n",
       "    \"metric\": \"cosine\",\n",
       "    \"host\": \"my-index-03idc8k.svc.aped-4627-b74a.pinecone.io\",\n",
       "    \"spec\": {\n",
       "        \"serverless\": {\n",
       "            \"cloud\": \"aws\",\n",
       "            \"region\": \"us-east-1\"\n",
       "        }\n",
       "    },\n",
       "    \"status\": {\n",
       "        \"ready\": true,\n",
       "        \"state\": \"Ready\"\n",
       "    },\n",
       "    \"vector_type\": \"dense\",\n",
       "    \"dimension\": 384,\n",
       "    \"deletion_protection\": \"disabled\",\n",
       "    \"tags\": null\n",
       "}"
      ]
     },
     "execution_count": 21,
     "metadata": {},
     "output_type": "execute_result"
    }
   ],
   "source": [
    "pc.create_index(\n",
    "    name= index_name,\n",
    "    dimension= dimension,\n",
    "    metric= metric,\n",
    "    spec= ServerlessSpec(\n",
    "        cloud= \"aws\",\n",
    "        region= \"us-east-1\"\n",
    "    )\n",
    ")"
   ]
  },
  {
   "cell_type": "code",
   "execution_count": 22,
   "id": "92f722ca-fbca-42dc-8cef-85cacccdf6a2",
   "metadata": {},
   "outputs": [],
   "source": [
    "index = pc.Index(index_name)"
   ]
  },
  {
   "cell_type": "code",
   "execution_count": 23,
   "id": "8d68a754-5ece-4c8e-949a-8ab428b4ea90",
   "metadata": {},
   "outputs": [],
   "source": [
    "vectors_to_upsert = [(row[\"unique_id\"], row[\"embedding\"].tolist(), row[\"metadata\"]) for index, row in files.iterrows()]"
   ]
  },
  {
   "cell_type": "code",
   "execution_count": 24,
   "id": "af2c1779-b9b2-4342-97ec-72d9924de22c",
   "metadata": {},
   "outputs": [
    {
     "name": "stdout",
     "output_type": "stream",
     "text": [
      "Data successfully upserted to Pinecone index\n"
     ]
    }
   ],
   "source": [
    "index.upsert(vectors= vectors_to_upsert)\n",
    "print(\"Data successfully upserted to Pinecone index\")"
   ]
  },
  {
   "cell_type": "code",
   "execution_count": 25,
   "id": "ade12640-ff4c-4a5b-b2ed-a3e64c24123b",
   "metadata": {},
   "outputs": [],
   "source": [
    "query = \"clustering\"\n",
    "query_embedding = model.encode(query,  show_progress_bar= False).tolist()"
   ]
  },
  {
   "cell_type": "code",
   "execution_count": 27,
   "id": "2ddccfd7-9c13-46d3-b792-49f8b692f157",
   "metadata": {},
   "outputs": [],
   "source": [
    "query_results = index.query(\n",
    "    vector= [query_embedding],\n",
    "    top_k= 12,\n",
    "    include_metadata= True\n",
    ")"
   ]
  },
  {
   "cell_type": "code",
   "execution_count": 28,
   "id": "a296b03d-aec8-42c6-80d4-6c0d2313282e",
   "metadata": {},
   "outputs": [],
   "source": [
    "score_threshold = 0.3"
   ]
  },
  {
   "cell_type": "code",
   "execution_count": 29,
   "id": "03f92985-051f-44f4-a2c6-5fae6dd8f29a",
   "metadata": {},
   "outputs": [
    {
     "name": "stdout",
     "output_type": "stream",
     "text": [
      "Matched item ID: 51 - 469, Score: 0.545678616\n",
      "Course: Machine Learning in Excel \n",
      "Section: Cluster Analysis \n",
      "Description: Cluster analysis is the most intuitive and important example of unsupervised learning. However, to be able to understand cluster analysis, you must first become familiar with the mathematics behind it. Here we will explore the fundamentals of cluster analysis and have a look at the differences between clustering and classification.\n",
      "Matched item ID: 37 - 374, Score: 0.542693496\n",
      "Course: Machine Learning in Python \n",
      "Section: Other Types of Clustering \n",
      "Description: In previous sections, we focus extensively on k-means clustering, as it is the fastest and most efficient method for clustering. In this section, we explore other approaches that are less common.\n",
      "Matched item ID: 51 - 470, Score: 0.506335199\n",
      "Course: Machine Learning in Excel \n",
      "Section: K-means Clustering \n",
      "Description: Master K-means clustering in Excel by learning how to choose the number of clusters in your analysis and determine when to standardize or not standardize your data. At the end of this section, we will go through a complete practical example that includes marketing segmentation with cluster analysis. \n",
      "Matched item ID: 33 - 334, Score: 0.501697421\n",
      "Course: Customer Analytics in Python \n",
      "Section: Hierarchical Clustering \n",
      "Description: Here, we discuss the theory behind hierarchical and flat clustering. Throughout the course we’ll implement both approaches. In this section, we’ll focus on hierarchical clustering and use it to determine the number of clusters in our data set.\n",
      "Matched item ID: 33 - 335, Score: 0.488232851\n",
      "Course: Customer Analytics in Python \n",
      "Section: K-means Clustering \n",
      "Description: We continue with segmentation, this time focusing on a flat clustering technique, namely K-means. We’ll divide our customers into clusters using K-means and determine the customer segments. This is a crucial part of the customer analysis, as it is where we discover the most important characteristics, which define our customer groups.\n",
      "\n",
      "Matched item ID: 37 - 373, Score: 0.47914958\n",
      "Course: Machine Learning in Python \n",
      "Section: K-Means Clustering \n",
      "Description: In this section, you will learn how to do Cluster analysis. Cluster analysis consists in dividing your data into separate groups based on an algorithm. Clustering is an amazing technique often employed in data science. But what’s more, it makes much more sense to study patterns observed in a particular group rather than trying to find patterns in the entire dataset. We will provide several practical examples that will help you understand how to carry out cluster analysis and the difference between classification and clustering.\n",
      "Matched item ID: 37 - 372, Score: 0.446304739\n",
      "Course: Machine Learning in Python \n",
      "Section: Cluster Analysis (Basics and Prerequisites) \n",
      "Description: Cluster analysis is the most intuitive and important example of unsupervised learning. However, to be able to understand cluster analysis, we must first explore the mathematics behind it.\n",
      "Matched item ID: 51 - 471, Score: 0.42178461\n",
      "Course: Machine Learning in Excel \n",
      "Section: Decision Trees \n",
      "Description: With the use of visual examples this section of the course introduces you to the concept of decision trees. We will cover the advantages and disadvantages of this method and explore its inner workings – how is the tree constructed and what metrics are used in its construction. This will be followed up by a practical example showcasing how to create decision trees in Excel.\n",
      "Matched item ID: 33 - 336, Score: 0.41074723\n",
      "Course: Customer Analytics in Python \n",
      "Section: K-Means Clustering based on Principal Component Analysis \n",
      "Description: In our final section of customer analytics, we’ll introduce a dimensionality reduction algorithm: Principal Components Analysis (PCA). We’ll combine K-means and PCA to obtain even better clustering results and gain insight about our customers. In addition, we’ll perform the model deployment, which we’ll need in the following sections of our course\n",
      "Matched item ID: 51 - 464, Score: 0.405905128\n",
      "Course: Machine Learning in Excel \n",
      "Section: Introduction \n",
      "Description: In this introductory section, we will discuss why you need to learn advanced statistics, what sets this discipline apart from machine learning, and how you can get the most out of the Machine Learning in Excel course.\n",
      "Matched item ID: 43 - 417, Score: 0.381437957\n",
      "Course: Fashion Analytics with Tableau \n",
      "Section: Consumer-Driven Marketing \n",
      "Description: This chapter focuses on the importance of understanding your clients and their needs, as well as creating a seamless customer journey. Here we’ll discuss the main approaches to identifying consumer clusters. You will also gain a better understanding of the main predictors when it comes to consumer scoring, such as preferences, price point, or propensity to buy a product.\n",
      "Matched item ID: 51 - 472, Score: 0.375223279\n",
      "Course: Machine Learning in Excel \n",
      "Section: Machine Learning in the Cloud \n",
      "Description: In the final section of the course, we will combine Azure and Microsoft Excel to run ML experiments in the cloud. In our case, we’ll create a predictive analytics model in Azure Machine Learning Studio.\n"
     ]
    }
   ],
   "source": [
    "# Assuming query_results are fetched and include metadata\n",
    "for match in query_results['matches']:\n",
    "    if match['score'] >= score_threshold:\n",
    "        course_details = match.get('metadata', {})\n",
    "        course_name = course_details.get('course_name', 'N/A')\n",
    "        section_name = course_details.get('section_name', 'N/A')\n",
    "        section_description = course_details.get('section_description', 'No description available')\n",
    "        \n",
    "        print(f\"Matched item ID: {match['id']}, Score: {match['score']}\")\n",
    "        print(f\"Course: {course_name} \\nSection: {section_name} \\nDescription: {section_description}\")"
   ]
  },
  {
   "cell_type": "code",
   "execution_count": 30,
   "id": "b0870967-7a22-4731-b2ef-321f3e2162d4",
   "metadata": {},
   "outputs": [],
   "source": [
    "index_name = \"bert\"\n",
    "dimension = 768\n",
    "metric = \"cosine\""
   ]
  },
  {
   "cell_type": "code",
   "execution_count": 31,
   "id": "71a2579a-c25e-47c1-8f92-0b3175c6c017",
   "metadata": {},
   "outputs": [
    {
     "name": "stdout",
     "output_type": "stream",
     "text": [
      "bert  not in index list\n"
     ]
    }
   ],
   "source": [
    "if index_name in [index.name for index in pc.list_indexes()]:\n",
    "    pc.delete_index(index_name)\n",
    "    print(f\"{index_name} successfully deleted\")\n",
    "else :\n",
    "    print(f\"{index_name}  not in index list\")"
   ]
  },
  {
   "cell_type": "code",
   "execution_count": 32,
   "id": "6abf713b-293c-455b-b720-765370078237",
   "metadata": {},
   "outputs": [
    {
     "data": {
      "text/plain": [
       "{\n",
       "    \"name\": \"bert\",\n",
       "    \"metric\": \"cosine\",\n",
       "    \"host\": \"bert-03idc8k.svc.aped-4627-b74a.pinecone.io\",\n",
       "    \"spec\": {\n",
       "        \"serverless\": {\n",
       "            \"cloud\": \"aws\",\n",
       "            \"region\": \"us-east-1\"\n",
       "        }\n",
       "    },\n",
       "    \"status\": {\n",
       "        \"ready\": true,\n",
       "        \"state\": \"Ready\"\n",
       "    },\n",
       "    \"vector_type\": \"dense\",\n",
       "    \"dimension\": 768,\n",
       "    \"deletion_protection\": \"disabled\",\n",
       "    \"tags\": null\n",
       "}"
      ]
     },
     "execution_count": 32,
     "metadata": {},
     "output_type": "execute_result"
    }
   ],
   "source": [
    "pc.create_index(\n",
    "    name= index_name,\n",
    "    dimension= dimension,\n",
    "    metric= metric,\n",
    "    spec= ServerlessSpec(\n",
    "        cloud= \"aws\",\n",
    "        region= \"us-east-1\"\n",
    "    )\n",
    ")"
   ]
  },
  {
   "cell_type": "code",
   "execution_count": 33,
   "id": "005c5e22-863d-441a-be0b-bff21f7dd778",
   "metadata": {},
   "outputs": [
    {
     "data": {
      "text/plain": [
       "[\n",
       "    {\n",
       "        \"name\": \"text\",\n",
       "        \"metric\": \"cosine\",\n",
       "        \"host\": \"text-03idc8k.svc.aped-4627-b74a.pinecone.io\",\n",
       "        \"spec\": {\n",
       "            \"serverless\": {\n",
       "                \"cloud\": \"aws\",\n",
       "                \"region\": \"us-east-1\"\n",
       "            }\n",
       "        },\n",
       "        \"status\": {\n",
       "            \"ready\": true,\n",
       "            \"state\": \"Ready\"\n",
       "        },\n",
       "        \"vector_type\": \"dense\",\n",
       "        \"dimension\": 384,\n",
       "        \"deletion_protection\": \"disabled\",\n",
       "        \"tags\": null\n",
       "    },\n",
       "    {\n",
       "        \"name\": \"my-index\",\n",
       "        \"metric\": \"cosine\",\n",
       "        \"host\": \"my-index-03idc8k.svc.aped-4627-b74a.pinecone.io\",\n",
       "        \"spec\": {\n",
       "            \"serverless\": {\n",
       "                \"cloud\": \"aws\",\n",
       "                \"region\": \"us-east-1\"\n",
       "            }\n",
       "        },\n",
       "        \"status\": {\n",
       "            \"ready\": true,\n",
       "            \"state\": \"Ready\"\n",
       "        },\n",
       "        \"vector_type\": \"dense\",\n",
       "        \"dimension\": 384,\n",
       "        \"deletion_protection\": \"disabled\",\n",
       "        \"tags\": null\n",
       "    },\n",
       "    {\n",
       "        \"name\": \"bert\",\n",
       "        \"metric\": \"cosine\",\n",
       "        \"host\": \"bert-03idc8k.svc.aped-4627-b74a.pinecone.io\",\n",
       "        \"spec\": {\n",
       "            \"serverless\": {\n",
       "                \"cloud\": \"aws\",\n",
       "                \"region\": \"us-east-1\"\n",
       "            }\n",
       "        },\n",
       "        \"status\": {\n",
       "            \"ready\": true,\n",
       "            \"state\": \"Ready\"\n",
       "        },\n",
       "        \"vector_type\": \"dense\",\n",
       "        \"dimension\": 768,\n",
       "        \"deletion_protection\": \"disabled\",\n",
       "        \"tags\": null\n",
       "    },\n",
       "    {\n",
       "        \"name\": \"my-index-3\",\n",
       "        \"metric\": \"dotproduct\",\n",
       "        \"host\": \"my-index-3-03idc8k.svc.aped-4627-b74a.pinecone.io\",\n",
       "        \"spec\": {\n",
       "            \"serverless\": {\n",
       "                \"cloud\": \"aws\",\n",
       "                \"region\": \"us-east-1\"\n",
       "            }\n",
       "        },\n",
       "        \"status\": {\n",
       "            \"ready\": true,\n",
       "            \"state\": \"Ready\"\n",
       "        },\n",
       "        \"vector_type\": \"dense\",\n",
       "        \"dimension\": 1000,\n",
       "        \"deletion_protection\": \"disabled\",\n",
       "        \"tags\": null\n",
       "    },\n",
       "    {\n",
       "        \"name\": \"my-index-2\",\n",
       "        \"metric\": \"euclidean\",\n",
       "        \"host\": \"my-index-2-03idc8k.svc.aped-4627-b74a.pinecone.io\",\n",
       "        \"spec\": {\n",
       "            \"serverless\": {\n",
       "                \"cloud\": \"aws\",\n",
       "                \"region\": \"us-east-1\"\n",
       "            }\n",
       "        },\n",
       "        \"status\": {\n",
       "            \"ready\": true,\n",
       "            \"state\": \"Ready\"\n",
       "        },\n",
       "        \"vector_type\": \"dense\",\n",
       "        \"dimension\": 1536,\n",
       "        \"deletion_protection\": \"disabled\",\n",
       "        \"tags\": null\n",
       "    }\n",
       "]"
      ]
     },
     "execution_count": 33,
     "metadata": {},
     "output_type": "execute_result"
    }
   ],
   "source": [
    "pc.list_indexes()"
   ]
  },
  {
   "cell_type": "code",
   "execution_count": 34,
   "id": "020633ee-dd5a-40ae-abfd-e4e9fa59e44c",
   "metadata": {},
   "outputs": [],
   "source": [
    "query = \"regression in Python\"\n",
    "query_embedding = model.encode(query, show_progress_bar=False).tolist()"
   ]
  },
  {
   "cell_type": "code",
   "execution_count": 35,
   "id": "957ba93e-543a-4c4a-953a-e80dd7549e81",
   "metadata": {},
   "outputs": [],
   "source": [
    "query_results = index.query(\n",
    "    vector = [query_embedding],\n",
    "    top_k = 12,\n",
    "    include_metadata=True\n",
    ")"
   ]
  },
  {
   "cell_type": "code",
   "execution_count": 36,
   "id": "a365c443-79fb-4276-8768-37d163e09f1e",
   "metadata": {},
   "outputs": [],
   "source": [
    "score_threshold = 0.4"
   ]
  },
  {
   "cell_type": "code",
   "execution_count": 37,
   "id": "9e2d7e11-4615-4be6-9722-aed27b24d01a",
   "metadata": {},
   "outputs": [
    {
     "name": "stdout",
     "output_type": "stream",
     "text": [
      "Matched item ID: 37 - 369, Score: 0.743426919\n",
      "Course: Machine Learning in Python \n",
      "Section: Linear Regression with sklearn \n",
      "Description: While there are many libraries that can compute a regression model, the most numerically stable one is sklearn. It is also the preferred choice of many machine learning professionals. In this section, we implement all we know about regressions in this amazing library.\n",
      "Matched item ID: 36 - 363, Score: 0.668548405\n",
      "Course: Python for Finance \n",
      "Section: Using Regressions for Financial Analysis \n",
      "Description: Understanding rates of return and risk is not all there is about finance. Working with regression analysis is a must, and you will see that Python only helps you to be quicker and more precise when doing such estimations.\n",
      "Matched item ID: 37 - 368, Score: 0.645793319\n",
      "Course: Machine Learning in Python \n",
      "Section: Linear Regression \n",
      "Description: In this part of the course, we will discuss what the course covers, why you need to learn advanced statistics, what’s the differences are with machine learning, and how to get the most out of this training. In this section, you will also expand on what you learned in our statistics training with additional concepts and will apply all the theory in Python. This section serves two purposes: 1) a useful refresher of regression, and 2) a great way to reinforce what you have learned, applying it in practice while coding.\n",
      "Matched item ID: 37 - 370, Score: 0.565562904\n",
      "Course: Machine Learning in Python \n",
      "Section: Linear Regression Practical Example \n",
      "Description: An all in one practical example, which will test your understanding of each of the concepts that we have discussed so far. We will focus on a used cars dataset and create a linear regression model to predict the prices of cars. At the end you will have a big assignment where you can dive deep into the optimization of a machine learning model.\n",
      "Matched item ID: 36 - 366, Score: 0.561779499\n",
      "Course: Python for Finance \n",
      "Section: Multivariate Regression Analysis \n",
      "Description: While in Section 4 we deal with simple regression analysis, here we will take this technique to the next level. As you can guess, multivariate regression analysis is more advanced, but is also more interesting, as it allows you to deal with more complex financial problems.\n",
      "Matched item ID: 35 - 357, Score: 0.553846121\n",
      "Course: Introduction to Python \n",
      "Section: Functions \n",
      "Description: Python functions are another invaluable tool for programmers. They allow you to carry out pre-defined or specifically-designed operations that manipulate the data you are working with and bring it one step closer to representing a meaningful output.\n",
      "Matched item ID: 35 - 353, Score: 0.546967149\n",
      "Course: Introduction to Python \n",
      "Section: Python Variables and Data Types \n",
      "Description: This is where you will start coding and learn one of the most fundamental concepts in programming – working with variables.\n",
      "Matched item ID: 37 - 371, Score: 0.532787\n",
      "Course: Machine Learning in Python \n",
      "Section: Logistic Regression \n",
      "Description: Data scientists use logistic regressions when the dependent variable is binary (0 and 1, true and false, etc.). This type of data is encountered on a daily basis when working as a data scientist, and here, you will learn how to build a logistic regression, understand tables, interpret the coefficients of a logistic regression, calculate the accuracy of the model, as well as how to test. We will introduce under and overfitting, and will teach you how to test your models.\n",
      "Matched item ID: 36 - 362, Score: 0.528049469\n",
      "Course: Python for Finance \n",
      "Section: Meàsuring Investment Risk \n",
      "Description: Achieving a high rate of return of your stocks doesn’t come at no cost. Every investment is associated with a certain level of risk, and an investor must be well aware of it before putting their money in a certain basket. This section will teach you how to understand and measure such risk using Python.\n",
      "Matched item ID: 35 - 354, Score: 0.523936868\n",
      "Course: Introduction to Python \n",
      "Section: Basic Python Syntax \n",
      "Description: If you want to master Python programming, there is no way around learning basic Python syntax operators first. In this section, we will cover the double equality sign, reassigning of values, adding comments, line continuation, indexing elements, arithmetic operators, comparison operators, logical operators, and identity operators.\n",
      "Matched item ID: 33 - 341, Score: 0.521131516\n",
      "Course: Customer Analytics in Python \n",
      "Section: Modeling Purchase Quantity \n",
      "Description: We conclude the purchase analytics part of the course with a model for purchase quantity. Here, we’ll use linear regression to determine how many units of our product the customer likes to buy. We’ll examine the effects of promotion on purchase quantity and determine price elasticity of demand.\n",
      "Matched item ID: 35 - 359, Score: 0.512317955\n",
      "Course: Introduction to Python \n",
      "Section: Iteration \n",
      "Description: Iterations are a programming technique which allows you to execute certain code repeatedly. This is one of the instruments letting you to automate repeated tasks and benefit from one of its main strong points.\n"
     ]
    }
   ],
   "source": [
    "# Assuming query_results are fetched and include metadata\n",
    "for match in query_results['matches']:\n",
    "    if match['score'] >= score_threshold:\n",
    "        course_details = match.get('metadata', {})\n",
    "        course_name = course_details.get('course_name', 'N/A')\n",
    "        section_name = course_details.get('section_name', 'N/A')\n",
    "        section_description = course_details.get('section_description', 'No description available')\n",
    "        \n",
    "        print(f\"Matched item ID: {match['id']}, Score: {match['score']}\")\n",
    "        print(f\"Course: {course_name} \\nSection: {section_name} \\nDescription: {section_description}\")"
   ]
  },
  {
   "cell_type": "code",
   "execution_count": 38,
   "id": "31509f83-70d4-4ff6-b477-8aa2475074cd",
   "metadata": {},
   "outputs": [],
   "source": [
    "index = pc.Index(index_name)"
   ]
  },
  {
   "cell_type": "code",
   "execution_count": null,
   "id": "301319a6-c253-4e81-91bd-e040567cc194",
   "metadata": {},
   "outputs": [],
   "source": []
  }
 ],
 "metadata": {
  "kernelspec": {
   "display_name": "Python 3 (ipykernel)",
   "language": "python",
   "name": "python3"
  },
  "language_info": {
   "codemirror_mode": {
    "name": "ipython",
    "version": 3
   },
   "file_extension": ".py",
   "mimetype": "text/x-python",
   "name": "python",
   "nbconvert_exporter": "python",
   "pygments_lexer": "ipython3",
   "version": "3.12.7"
  }
 },
 "nbformat": 4,
 "nbformat_minor": 5
}
